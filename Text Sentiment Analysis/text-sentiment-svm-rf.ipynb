{
 "cells": [
  {
   "cell_type": "code",
   "execution_count": 1,
   "id": "bd900ab7",
   "metadata": {
    "execution": {
     "iopub.execute_input": "2024-03-07T11:44:22.287500Z",
     "iopub.status.busy": "2024-03-07T11:44:22.287149Z",
     "iopub.status.idle": "2024-03-07T11:44:31.881262Z",
     "shell.execute_reply": "2024-03-07T11:44:31.880312Z"
    },
    "id": "VephhbJdVQnW",
    "papermill": {
     "duration": 9.604741,
     "end_time": "2024-03-07T11:44:31.883748",
     "exception": false,
     "start_time": "2024-03-07T11:44:22.279007",
     "status": "completed"
    },
    "tags": []
   },
   "outputs": [],
   "source": [
    "import numpy as np\n",
    "import pandas as pd\n",
    "\n",
    "from sklearn.model_selection import train_test_split\n",
    "from sklearn.feature_extraction.text import TfidfVectorizer\n",
    "from sklearn.ensemble import RandomForestClassifier\n",
    "from sklearn.metrics import accuracy_score, classification_report\n",
    "\n",
    "import spacy"
   ]
  },
  {
   "cell_type": "code",
   "execution_count": 2,
   "id": "c35447de",
   "metadata": {
    "execution": {
     "iopub.execute_input": "2024-03-07T11:44:31.898491Z",
     "iopub.status.busy": "2024-03-07T11:44:31.897552Z",
     "iopub.status.idle": "2024-03-07T11:44:31.991972Z",
     "shell.execute_reply": "2024-03-07T11:44:31.991019Z"
    },
    "id": "YUI6-DJgVXNQ",
    "outputId": "2d9c6d38-5370-4b1d-c60e-e2e0d86ea684",
    "papermill": {
     "duration": 0.103738,
     "end_time": "2024-03-07T11:44:31.994084",
     "exception": false,
     "start_time": "2024-03-07T11:44:31.890346",
     "status": "completed"
    },
    "tags": []
   },
   "outputs": [
    {
     "name": "stdout",
     "output_type": "stream",
     "text": [
      "(21459, 2)\n"
     ]
    },
    {
     "data": {
      "text/html": [
       "<div>\n",
       "<style scoped>\n",
       "    .dataframe tbody tr th:only-of-type {\n",
       "        vertical-align: middle;\n",
       "    }\n",
       "\n",
       "    .dataframe tbody tr th {\n",
       "        vertical-align: top;\n",
       "    }\n",
       "\n",
       "    .dataframe thead th {\n",
       "        text-align: right;\n",
       "    }\n",
       "</style>\n",
       "<table border=\"1\" class=\"dataframe\">\n",
       "  <thead>\n",
       "    <tr style=\"text-align: right;\">\n",
       "      <th></th>\n",
       "      <th>Text</th>\n",
       "      <th>Emotion</th>\n",
       "    </tr>\n",
       "  </thead>\n",
       "  <tbody>\n",
       "    <tr>\n",
       "      <th>0</th>\n",
       "      <td>i didnt feel humiliated</td>\n",
       "      <td>sadness</td>\n",
       "    </tr>\n",
       "    <tr>\n",
       "      <th>1</th>\n",
       "      <td>i can go from feeling so hopeless to so damned...</td>\n",
       "      <td>sadness</td>\n",
       "    </tr>\n",
       "    <tr>\n",
       "      <th>2</th>\n",
       "      <td>im grabbing a minute to post i feel greedy wrong</td>\n",
       "      <td>anger</td>\n",
       "    </tr>\n",
       "    <tr>\n",
       "      <th>3</th>\n",
       "      <td>i am ever feeling nostalgic about the fireplac...</td>\n",
       "      <td>love</td>\n",
       "    </tr>\n",
       "    <tr>\n",
       "      <th>4</th>\n",
       "      <td>i am feeling grouchy</td>\n",
       "      <td>anger</td>\n",
       "    </tr>\n",
       "  </tbody>\n",
       "</table>\n",
       "</div>"
      ],
      "text/plain": [
       "                                                Text  Emotion\n",
       "0                            i didnt feel humiliated  sadness\n",
       "1  i can go from feeling so hopeless to so damned...  sadness\n",
       "2   im grabbing a minute to post i feel greedy wrong    anger\n",
       "3  i am ever feeling nostalgic about the fireplac...     love\n",
       "4                               i am feeling grouchy    anger"
      ]
     },
     "execution_count": 2,
     "metadata": {},
     "output_type": "execute_result"
    }
   ],
   "source": [
    "df = pd.read_csv(\"/kaggle/input/emotions-in-text/Emotion_final.csv\")\n",
    "\n",
    "# Print the shape of dataframe\n",
    "print(df.shape)\n",
    "\n",
    "# Print top 5 rows\n",
    "df.head(5)"
   ]
  },
  {
   "cell_type": "code",
   "execution_count": 3,
   "id": "c3538017",
   "metadata": {
    "execution": {
     "iopub.execute_input": "2024-03-07T11:44:32.008415Z",
     "iopub.status.busy": "2024-03-07T11:44:32.008158Z",
     "iopub.status.idle": "2024-03-07T11:44:32.032488Z",
     "shell.execute_reply": "2024-03-07T11:44:32.031414Z"
    },
    "id": "gHZi7dIGZZjM",
    "outputId": "5d46412a-9e6e-4529-ea98-0f6b9b74a3fe",
    "papermill": {
     "duration": 0.033771,
     "end_time": "2024-03-07T11:44:32.034377",
     "exception": false,
     "start_time": "2024-03-07T11:44:32.000606",
     "status": "completed"
    },
    "tags": []
   },
   "outputs": [
    {
     "name": "stdout",
     "output_type": "stream",
     "text": [
      "<class 'pandas.core.frame.DataFrame'>\n",
      "RangeIndex: 21459 entries, 0 to 21458\n",
      "Data columns (total 2 columns):\n",
      " #   Column   Non-Null Count  Dtype \n",
      "---  ------   --------------  ----- \n",
      " 0   Text     21459 non-null  object\n",
      " 1   Emotion  21459 non-null  object\n",
      "dtypes: object(2)\n",
      "memory usage: 335.4+ KB\n"
     ]
    }
   ],
   "source": [
    "df.info()"
   ]
  },
  {
   "cell_type": "code",
   "execution_count": 4,
   "id": "e3a9889e",
   "metadata": {
    "execution": {
     "iopub.execute_input": "2024-03-07T11:44:32.048808Z",
     "iopub.status.busy": "2024-03-07T11:44:32.048477Z",
     "iopub.status.idle": "2024-03-07T11:44:32.058827Z",
     "shell.execute_reply": "2024-03-07T11:44:32.057997Z"
    },
    "id": "w3C4VWTsZKgG",
    "outputId": "9c9e9f54-652b-439e-e8e5-7365612a6197",
    "papermill": {
     "duration": 0.019765,
     "end_time": "2024-03-07T11:44:32.060792",
     "exception": false,
     "start_time": "2024-03-07T11:44:32.041027",
     "status": "completed"
    },
    "tags": []
   },
   "outputs": [
    {
     "data": {
      "text/plain": [
       "Emotion\n",
       "happy       7029\n",
       "sadness     6265\n",
       "anger       2993\n",
       "fear        2652\n",
       "love        1641\n",
       "surprise     879\n",
       "Name: count, dtype: int64"
      ]
     },
     "execution_count": 4,
     "metadata": {},
     "output_type": "execute_result"
    }
   ],
   "source": [
    "df['Emotion'].value_counts()"
   ]
  },
  {
   "cell_type": "code",
   "execution_count": 5,
   "id": "804b59d7",
   "metadata": {
    "execution": {
     "iopub.execute_input": "2024-03-07T11:44:32.076225Z",
     "iopub.status.busy": "2024-03-07T11:44:32.075936Z",
     "iopub.status.idle": "2024-03-07T11:44:32.080371Z",
     "shell.execute_reply": "2024-03-07T11:44:32.079510Z"
    },
    "id": "5ePGrLA5ZYmA",
    "outputId": "333b8578-c6d5-45dc-a8a9-6fe480cc687a",
    "papermill": {
     "duration": 0.014782,
     "end_time": "2024-03-07T11:44:32.082778",
     "exception": false,
     "start_time": "2024-03-07T11:44:32.067996",
     "status": "completed"
    },
    "tags": []
   },
   "outputs": [
    {
     "name": "stdout",
     "output_type": "stream",
     "text": [
      "i can t do anything but feel the feelings because the issue has to get resolved to dissipate the emotion but i am powerless to make any resolution because it s not my issue -> happy\n"
     ]
    }
   ],
   "source": [
    "print(f\"{df['Text'][2912]} -> {df['Emotion'][2912]}\")"
   ]
  },
  {
   "cell_type": "code",
   "execution_count": 6,
   "id": "ee7146df",
   "metadata": {
    "execution": {
     "iopub.execute_input": "2024-03-07T11:44:32.098831Z",
     "iopub.status.busy": "2024-03-07T11:44:32.098359Z",
     "iopub.status.idle": "2024-03-07T11:44:33.254622Z",
     "shell.execute_reply": "2024-03-07T11:44:33.253505Z"
    },
    "id": "M7_JkvtpZwOy",
    "papermill": {
     "duration": 1.166755,
     "end_time": "2024-03-07T11:44:33.257051",
     "exception": false,
     "start_time": "2024-03-07T11:44:32.090296",
     "status": "completed"
    },
    "tags": []
   },
   "outputs": [],
   "source": [
    "nlp = spacy.load(\"en_core_web_sm\")"
   ]
  },
  {
   "cell_type": "code",
   "execution_count": 7,
   "id": "0abd4cd6",
   "metadata": {
    "execution": {
     "iopub.execute_input": "2024-03-07T11:44:33.273289Z",
     "iopub.status.busy": "2024-03-07T11:44:33.272560Z",
     "iopub.status.idle": "2024-03-07T11:44:33.278294Z",
     "shell.execute_reply": "2024-03-07T11:44:33.277446Z"
    },
    "id": "gCPoslYmaC5y",
    "outputId": "7ff96c61-b1cc-4b17-c9dd-6ee55a60838c",
    "papermill": {
     "duration": 0.015701,
     "end_time": "2024-03-07T11:44:33.280237",
     "exception": false,
     "start_time": "2024-03-07T11:44:33.264536",
     "status": "completed"
    },
    "tags": []
   },
   "outputs": [
    {
     "data": {
      "text/plain": [
       "'i am ever feeling nostalgic about the fireplace i will know that it is still on the property'"
      ]
     },
     "execution_count": 7,
     "metadata": {},
     "output_type": "execute_result"
    }
   ],
   "source": [
    "txt = df['Text'][3]\n",
    "txt"
   ]
  },
  {
   "cell_type": "code",
   "execution_count": 8,
   "id": "a7b7b51d",
   "metadata": {
    "execution": {
     "iopub.execute_input": "2024-03-07T11:44:33.296349Z",
     "iopub.status.busy": "2024-03-07T11:44:33.295702Z",
     "iopub.status.idle": "2024-03-07T11:44:33.321139Z",
     "shell.execute_reply": "2024-03-07T11:44:33.320189Z"
    },
    "id": "5qao7-YhaGAC",
    "papermill": {
     "duration": 0.035701,
     "end_time": "2024-03-07T11:44:33.323242",
     "exception": false,
     "start_time": "2024-03-07T11:44:33.287541",
     "status": "completed"
    },
    "tags": []
   },
   "outputs": [],
   "source": [
    "doc = nlp(txt)"
   ]
  },
  {
   "cell_type": "code",
   "execution_count": 9,
   "id": "3c981a7c",
   "metadata": {
    "execution": {
     "iopub.execute_input": "2024-03-07T11:44:33.338842Z",
     "iopub.status.busy": "2024-03-07T11:44:33.338499Z",
     "iopub.status.idle": "2024-03-07T11:44:33.342935Z",
     "shell.execute_reply": "2024-03-07T11:44:33.342104Z"
    },
    "id": "a6UVLoDUaInf",
    "outputId": "ca32bf61-d630-485b-a121-6d50aaee7515",
    "papermill": {
     "duration": 0.014451,
     "end_time": "2024-03-07T11:44:33.344922",
     "exception": false,
     "start_time": "2024-03-07T11:44:33.330471",
     "status": "completed"
    },
    "tags": []
   },
   "outputs": [
    {
     "name": "stdout",
     "output_type": "stream",
     "text": [
      "i\n",
      "am\n",
      "ever\n",
      "feeling\n",
      "nostalgic\n",
      "about\n",
      "the\n",
      "fireplace\n",
      "i\n",
      "will\n",
      "know\n",
      "that\n",
      "it\n",
      "is\n",
      "still\n",
      "on\n",
      "the\n",
      "property\n"
     ]
    }
   ],
   "source": [
    "for token in doc:\n",
    "    print(token)"
   ]
  },
  {
   "cell_type": "code",
   "execution_count": 10,
   "id": "ab034740",
   "metadata": {
    "execution": {
     "iopub.execute_input": "2024-03-07T11:44:33.361462Z",
     "iopub.status.busy": "2024-03-07T11:44:33.361184Z",
     "iopub.status.idle": "2024-03-07T11:44:33.365789Z",
     "shell.execute_reply": "2024-03-07T11:44:33.364962Z"
    },
    "id": "NrzmheIRaOG6",
    "outputId": "641cb9ce-a8b6-4cf3-fbc7-72beb7ee2f10",
    "papermill": {
     "duration": 0.014696,
     "end_time": "2024-03-07T11:44:33.367857",
     "exception": false,
     "start_time": "2024-03-07T11:44:33.353161",
     "status": "completed"
    },
    "tags": []
   },
   "outputs": [
    {
     "name": "stdout",
     "output_type": "stream",
     "text": [
      "Word: i | -> I\n",
      "Word: am | -> be\n",
      "Word: ever | -> ever\n",
      "Word: feeling | -> feel\n",
      "Word: nostalgic | -> nostalgic\n",
      "Word: about | -> about\n",
      "Word: the | -> the\n",
      "Word: fireplace | -> fireplace\n",
      "Word: i | -> I\n",
      "Word: will | -> will\n",
      "Word: know | -> know\n",
      "Word: that | -> that\n",
      "Word: it | -> it\n",
      "Word: is | -> be\n",
      "Word: still | -> still\n",
      "Word: on | -> on\n",
      "Word: the | -> the\n",
      "Word: property | -> property\n"
     ]
    }
   ],
   "source": [
    "for token in doc:\n",
    "    print(f\"Word: {token} | -> {token.lemma_}\")"
   ]
  },
  {
   "cell_type": "code",
   "execution_count": 11,
   "id": "3c5f763b",
   "metadata": {
    "execution": {
     "iopub.execute_input": "2024-03-07T11:44:33.383885Z",
     "iopub.status.busy": "2024-03-07T11:44:33.383562Z",
     "iopub.status.idle": "2024-03-07T11:44:33.388386Z",
     "shell.execute_reply": "2024-03-07T11:44:33.387592Z"
    },
    "id": "HBRIGQfXaU2t",
    "outputId": "500d10f5-0c7e-4d69-feb3-836da6f9ca21",
    "papermill": {
     "duration": 0.014898,
     "end_time": "2024-03-07T11:44:33.390275",
     "exception": false,
     "start_time": "2024-03-07T11:44:33.375377",
     "status": "completed"
    },
    "tags": []
   },
   "outputs": [
    {
     "name": "stdout",
     "output_type": "stream",
     "text": [
      "i\n",
      "am\n",
      "ever\n",
      "about\n",
      "the\n",
      "i\n",
      "will\n",
      "that\n",
      "it\n",
      "is\n",
      "still\n",
      "on\n",
      "the\n"
     ]
    }
   ],
   "source": [
    "for token in doc:\n",
    "    if token.is_stop or token.is_punct:\n",
    "        print(token)"
   ]
  },
  {
   "cell_type": "code",
   "execution_count": 12,
   "id": "7c3be394",
   "metadata": {
    "execution": {
     "iopub.execute_input": "2024-03-07T11:44:33.407226Z",
     "iopub.status.busy": "2024-03-07T11:44:33.406896Z",
     "iopub.status.idle": "2024-03-07T11:44:33.411914Z",
     "shell.execute_reply": "2024-03-07T11:44:33.411067Z"
    },
    "id": "L3ydhEr_aaFJ",
    "papermill": {
     "duration": 0.015878,
     "end_time": "2024-03-07T11:44:33.413842",
     "exception": false,
     "start_time": "2024-03-07T11:44:33.397964",
     "status": "completed"
    },
    "tags": []
   },
   "outputs": [],
   "source": [
    "def preprocess(text):\n",
    "    # remove stop words and lemmatize the text\n",
    "    doc = nlp(text)\n",
    "    filtered_tokens = []\n",
    "    for token in doc:\n",
    "        if token.is_stop or token.is_punct:\n",
    "            continue\n",
    "        filtered_tokens.append(token.lemma_)\n",
    "\n",
    "    return \" \".join(filtered_tokens)"
   ]
  },
  {
   "cell_type": "code",
   "execution_count": 13,
   "id": "b9821eb4",
   "metadata": {
    "execution": {
     "iopub.execute_input": "2024-03-07T11:44:33.430434Z",
     "iopub.status.busy": "2024-03-07T11:44:33.430178Z",
     "iopub.status.idle": "2024-03-07T11:44:33.443186Z",
     "shell.execute_reply": "2024-03-07T11:44:33.442275Z"
    },
    "id": "QZy0GNKpbHH3",
    "outputId": "cd03bdfe-fbbf-4931-c682-e19f7d57b6b8",
    "papermill": {
     "duration": 0.023186,
     "end_time": "2024-03-07T11:44:33.444970",
     "exception": false,
     "start_time": "2024-03-07T11:44:33.421784",
     "status": "completed"
    },
    "tags": []
   },
   "outputs": [
    {
     "name": "stdout",
     "output_type": "stream",
     "text": [
      "i am ever feeling nostalgic about the fireplace i will know that it is still on the property\n",
      "feel nostalgic fireplace know property\n"
     ]
    }
   ],
   "source": [
    "print(txt)\n",
    "procces_txt = preprocess(txt)\n",
    "print(procces_txt)"
   ]
  },
  {
   "cell_type": "code",
   "execution_count": 14,
   "id": "da78136b",
   "metadata": {
    "execution": {
     "iopub.execute_input": "2024-03-07T11:44:33.461833Z",
     "iopub.status.busy": "2024-03-07T11:44:33.461570Z",
     "iopub.status.idle": "2024-03-07T11:47:11.017631Z",
     "shell.execute_reply": "2024-03-07T11:47:11.016635Z"
    },
    "id": "tWMynLRBbJhJ",
    "papermill": {
     "duration": 157.567228,
     "end_time": "2024-03-07T11:47:11.020097",
     "exception": false,
     "start_time": "2024-03-07T11:44:33.452869",
     "status": "completed"
    },
    "tags": []
   },
   "outputs": [],
   "source": [
    "df['preprocessed_text'] = df['Text'].apply(preprocess)"
   ]
  },
  {
   "cell_type": "code",
   "execution_count": 15,
   "id": "040f107b",
   "metadata": {
    "execution": {
     "iopub.execute_input": "2024-03-07T11:47:11.038105Z",
     "iopub.status.busy": "2024-03-07T11:47:11.037457Z",
     "iopub.status.idle": "2024-03-07T11:47:11.050278Z",
     "shell.execute_reply": "2024-03-07T11:47:11.049419Z"
    },
    "id": "I0fxSrtvbXTY",
    "outputId": "62c63cdc-4cd7-4768-b786-57377bacb923",
    "papermill": {
     "duration": 0.023757,
     "end_time": "2024-03-07T11:47:11.052264",
     "exception": false,
     "start_time": "2024-03-07T11:47:11.028507",
     "status": "completed"
    },
    "tags": []
   },
   "outputs": [
    {
     "data": {
      "text/html": [
       "<div>\n",
       "<style scoped>\n",
       "    .dataframe tbody tr th:only-of-type {\n",
       "        vertical-align: middle;\n",
       "    }\n",
       "\n",
       "    .dataframe tbody tr th {\n",
       "        vertical-align: top;\n",
       "    }\n",
       "\n",
       "    .dataframe thead th {\n",
       "        text-align: right;\n",
       "    }\n",
       "</style>\n",
       "<table border=\"1\" class=\"dataframe\">\n",
       "  <thead>\n",
       "    <tr style=\"text-align: right;\">\n",
       "      <th></th>\n",
       "      <th>Text</th>\n",
       "      <th>Emotion</th>\n",
       "      <th>preprocessed_text</th>\n",
       "    </tr>\n",
       "  </thead>\n",
       "  <tbody>\n",
       "    <tr>\n",
       "      <th>0</th>\n",
       "      <td>i didnt feel humiliated</td>\n",
       "      <td>sadness</td>\n",
       "      <td>not feel humiliate</td>\n",
       "    </tr>\n",
       "    <tr>\n",
       "      <th>1</th>\n",
       "      <td>i can go from feeling so hopeless to so damned...</td>\n",
       "      <td>sadness</td>\n",
       "      <td>feel hopeless damned hopeful care awake</td>\n",
       "    </tr>\n",
       "    <tr>\n",
       "      <th>2</th>\n",
       "      <td>im grabbing a minute to post i feel greedy wrong</td>\n",
       "      <td>anger</td>\n",
       "      <td>m grab minute post feel greedy wrong</td>\n",
       "    </tr>\n",
       "    <tr>\n",
       "      <th>3</th>\n",
       "      <td>i am ever feeling nostalgic about the fireplac...</td>\n",
       "      <td>love</td>\n",
       "      <td>feel nostalgic fireplace know property</td>\n",
       "    </tr>\n",
       "    <tr>\n",
       "      <th>4</th>\n",
       "      <td>i am feeling grouchy</td>\n",
       "      <td>anger</td>\n",
       "      <td>feel grouchy</td>\n",
       "    </tr>\n",
       "    <tr>\n",
       "      <th>...</th>\n",
       "      <td>...</td>\n",
       "      <td>...</td>\n",
       "      <td>...</td>\n",
       "    </tr>\n",
       "    <tr>\n",
       "      <th>21454</th>\n",
       "      <td>Melissa stared at her friend in dism</td>\n",
       "      <td>fear</td>\n",
       "      <td>Melissa stare friend dism</td>\n",
       "    </tr>\n",
       "    <tr>\n",
       "      <th>21455</th>\n",
       "      <td>Successive state elections have seen the gover...</td>\n",
       "      <td>fear</td>\n",
       "      <td>successive state election see govern party pum...</td>\n",
       "    </tr>\n",
       "    <tr>\n",
       "      <th>21456</th>\n",
       "      <td>Vincent was irritated but not dismay</td>\n",
       "      <td>fear</td>\n",
       "      <td>Vincent irritated dismay</td>\n",
       "    </tr>\n",
       "    <tr>\n",
       "      <th>21457</th>\n",
       "      <td>Kendall-Hume turned back to face the dismayed ...</td>\n",
       "      <td>fear</td>\n",
       "      <td>Kendall Hume turn face dismayed coup</td>\n",
       "    </tr>\n",
       "    <tr>\n",
       "      <th>21458</th>\n",
       "      <td>I am dismayed , but not surpris</td>\n",
       "      <td>fear</td>\n",
       "      <td>dismay surpris</td>\n",
       "    </tr>\n",
       "  </tbody>\n",
       "</table>\n",
       "<p>21459 rows × 3 columns</p>\n",
       "</div>"
      ],
      "text/plain": [
       "                                                    Text  Emotion  \\\n",
       "0                                i didnt feel humiliated  sadness   \n",
       "1      i can go from feeling so hopeless to so damned...  sadness   \n",
       "2       im grabbing a minute to post i feel greedy wrong    anger   \n",
       "3      i am ever feeling nostalgic about the fireplac...     love   \n",
       "4                                   i am feeling grouchy    anger   \n",
       "...                                                  ...      ...   \n",
       "21454               Melissa stared at her friend in dism     fear   \n",
       "21455  Successive state elections have seen the gover...     fear   \n",
       "21456               Vincent was irritated but not dismay     fear   \n",
       "21457  Kendall-Hume turned back to face the dismayed ...     fear   \n",
       "21458                    I am dismayed , but not surpris     fear   \n",
       "\n",
       "                                       preprocessed_text  \n",
       "0                                     not feel humiliate  \n",
       "1                feel hopeless damned hopeful care awake  \n",
       "2                   m grab minute post feel greedy wrong  \n",
       "3                 feel nostalgic fireplace know property  \n",
       "4                                           feel grouchy  \n",
       "...                                                  ...  \n",
       "21454                          Melissa stare friend dism  \n",
       "21455  successive state election see govern party pum...  \n",
       "21456                           Vincent irritated dismay  \n",
       "21457               Kendall Hume turn face dismayed coup  \n",
       "21458                                     dismay surpris  \n",
       "\n",
       "[21459 rows x 3 columns]"
      ]
     },
     "execution_count": 15,
     "metadata": {},
     "output_type": "execute_result"
    }
   ],
   "source": [
    "df"
   ]
  },
  {
   "cell_type": "code",
   "execution_count": 16,
   "id": "c8d4d27b",
   "metadata": {
    "execution": {
     "iopub.execute_input": "2024-03-07T11:47:11.070788Z",
     "iopub.status.busy": "2024-03-07T11:47:11.070143Z",
     "iopub.status.idle": "2024-03-07T11:47:11.086556Z",
     "shell.execute_reply": "2024-03-07T11:47:11.085719Z"
    },
    "id": "dC3FTuuYcveQ",
    "outputId": "b471886a-a4b3-46fe-e297-47de273868c6",
    "papermill": {
     "duration": 0.027613,
     "end_time": "2024-03-07T11:47:11.088548",
     "exception": false,
     "start_time": "2024-03-07T11:47:11.060935",
     "status": "completed"
    },
    "tags": []
   },
   "outputs": [
    {
     "data": {
      "text/html": [
       "<div>\n",
       "<style scoped>\n",
       "    .dataframe tbody tr th:only-of-type {\n",
       "        vertical-align: middle;\n",
       "    }\n",
       "\n",
       "    .dataframe tbody tr th {\n",
       "        vertical-align: top;\n",
       "    }\n",
       "\n",
       "    .dataframe thead th {\n",
       "        text-align: right;\n",
       "    }\n",
       "</style>\n",
       "<table border=\"1\" class=\"dataframe\">\n",
       "  <thead>\n",
       "    <tr style=\"text-align: right;\">\n",
       "      <th></th>\n",
       "      <th>Text</th>\n",
       "      <th>Emotion</th>\n",
       "      <th>preprocessed_text</th>\n",
       "      <th>Emotion_label</th>\n",
       "    </tr>\n",
       "  </thead>\n",
       "  <tbody>\n",
       "    <tr>\n",
       "      <th>0</th>\n",
       "      <td>i didnt feel humiliated</td>\n",
       "      <td>sadness</td>\n",
       "      <td>not feel humiliate</td>\n",
       "      <td>4</td>\n",
       "    </tr>\n",
       "    <tr>\n",
       "      <th>1</th>\n",
       "      <td>i can go from feeling so hopeless to so damned...</td>\n",
       "      <td>sadness</td>\n",
       "      <td>feel hopeless damned hopeful care awake</td>\n",
       "      <td>4</td>\n",
       "    </tr>\n",
       "    <tr>\n",
       "      <th>2</th>\n",
       "      <td>im grabbing a minute to post i feel greedy wrong</td>\n",
       "      <td>anger</td>\n",
       "      <td>m grab minute post feel greedy wrong</td>\n",
       "      <td>0</td>\n",
       "    </tr>\n",
       "    <tr>\n",
       "      <th>3</th>\n",
       "      <td>i am ever feeling nostalgic about the fireplac...</td>\n",
       "      <td>love</td>\n",
       "      <td>feel nostalgic fireplace know property</td>\n",
       "      <td>3</td>\n",
       "    </tr>\n",
       "    <tr>\n",
       "      <th>4</th>\n",
       "      <td>i am feeling grouchy</td>\n",
       "      <td>anger</td>\n",
       "      <td>feel grouchy</td>\n",
       "      <td>0</td>\n",
       "    </tr>\n",
       "    <tr>\n",
       "      <th>5</th>\n",
       "      <td>ive been feeling a little burdened lately wasn...</td>\n",
       "      <td>sadness</td>\n",
       "      <td>ve feel little burden lately not sure</td>\n",
       "      <td>4</td>\n",
       "    </tr>\n",
       "    <tr>\n",
       "      <th>6</th>\n",
       "      <td>ive been taking or milligrams or times recomme...</td>\n",
       "      <td>surprise</td>\n",
       "      <td>ve take milligram time recommend ve fall aslee...</td>\n",
       "      <td>5</td>\n",
       "    </tr>\n",
       "    <tr>\n",
       "      <th>7</th>\n",
       "      <td>i feel as confused about life as a teenager or...</td>\n",
       "      <td>fear</td>\n",
       "      <td>feel confused life teenager jade year old man</td>\n",
       "      <td>1</td>\n",
       "    </tr>\n",
       "    <tr>\n",
       "      <th>8</th>\n",
       "      <td>i have been with petronas for years i feel tha...</td>\n",
       "      <td>happy</td>\n",
       "      <td>petrona year feel petrona perform huge profit</td>\n",
       "      <td>2</td>\n",
       "    </tr>\n",
       "    <tr>\n",
       "      <th>9</th>\n",
       "      <td>i feel romantic too</td>\n",
       "      <td>love</td>\n",
       "      <td>feel romantic</td>\n",
       "      <td>3</td>\n",
       "    </tr>\n",
       "  </tbody>\n",
       "</table>\n",
       "</div>"
      ],
      "text/plain": [
       "                                                Text   Emotion  \\\n",
       "0                            i didnt feel humiliated   sadness   \n",
       "1  i can go from feeling so hopeless to so damned...   sadness   \n",
       "2   im grabbing a minute to post i feel greedy wrong     anger   \n",
       "3  i am ever feeling nostalgic about the fireplac...      love   \n",
       "4                               i am feeling grouchy     anger   \n",
       "5  ive been feeling a little burdened lately wasn...   sadness   \n",
       "6  ive been taking or milligrams or times recomme...  surprise   \n",
       "7  i feel as confused about life as a teenager or...      fear   \n",
       "8  i have been with petronas for years i feel tha...     happy   \n",
       "9                                i feel romantic too      love   \n",
       "\n",
       "                                   preprocessed_text  Emotion_label  \n",
       "0                                 not feel humiliate              4  \n",
       "1            feel hopeless damned hopeful care awake              4  \n",
       "2               m grab minute post feel greedy wrong              0  \n",
       "3             feel nostalgic fireplace know property              3  \n",
       "4                                       feel grouchy              0  \n",
       "5              ve feel little burden lately not sure              4  \n",
       "6  ve take milligram time recommend ve fall aslee...              5  \n",
       "7      feel confused life teenager jade year old man              1  \n",
       "8      petrona year feel petrona perform huge profit              2  \n",
       "9                                      feel romantic              3  "
      ]
     },
     "execution_count": 16,
     "metadata": {},
     "output_type": "execute_result"
    }
   ],
   "source": [
    "from sklearn.preprocessing import LabelEncoder\n",
    "label=LabelEncoder()\n",
    "df['Emotion_label']=label.fit_transform(df['Emotion'])\n",
    "df.head(10)"
   ]
  },
  {
   "cell_type": "code",
   "execution_count": 17,
   "id": "1a710f32",
   "metadata": {
    "execution": {
     "iopub.execute_input": "2024-03-07T11:47:11.107849Z",
     "iopub.status.busy": "2024-03-07T11:47:11.107311Z",
     "iopub.status.idle": "2024-03-07T11:47:11.123199Z",
     "shell.execute_reply": "2024-03-07T11:47:11.122474Z"
    },
    "id": "bL2pmuksjUkJ",
    "papermill": {
     "duration": 0.027574,
     "end_time": "2024-03-07T11:47:11.125104",
     "exception": false,
     "start_time": "2024-03-07T11:47:11.097530",
     "status": "completed"
    },
    "tags": []
   },
   "outputs": [],
   "source": [
    "X_train, X_test, y_train, y_test = train_test_split(df['preprocessed_text'], df['Emotion_label'],\n",
    "                                                    test_size=0.25, random_state=42, stratify=df['Emotion_label'])"
   ]
  },
  {
   "cell_type": "code",
   "execution_count": 18,
   "id": "9828f0ab",
   "metadata": {
    "execution": {
     "iopub.execute_input": "2024-03-07T11:47:11.143756Z",
     "iopub.status.busy": "2024-03-07T11:47:11.143279Z",
     "iopub.status.idle": "2024-03-07T11:47:11.147441Z",
     "shell.execute_reply": "2024-03-07T11:47:11.146578Z"
    },
    "id": "FJSg3wQekIGl",
    "outputId": "9d641a52-ce5a-4004-9023-7a0966afb816",
    "papermill": {
     "duration": 0.015866,
     "end_time": "2024-03-07T11:47:11.149786",
     "exception": false,
     "start_time": "2024-03-07T11:47:11.133920",
     "status": "completed"
    },
    "tags": []
   },
   "outputs": [
    {
     "name": "stdout",
     "output_type": "stream",
     "text": [
      "Shape of X_train:  (16094,)\n",
      "Shape of X_test:  (5365,)\n"
     ]
    }
   ],
   "source": [
    "print(\"Shape of X_train: \", X_train.shape)\n",
    "print(\"Shape of X_test: \", X_test.shape)"
   ]
  },
  {
   "cell_type": "code",
   "execution_count": 19,
   "id": "ceea64b2",
   "metadata": {
    "execution": {
     "iopub.execute_input": "2024-03-07T11:47:11.168395Z",
     "iopub.status.busy": "2024-03-07T11:47:11.168146Z",
     "iopub.status.idle": "2024-03-07T11:47:11.485729Z",
     "shell.execute_reply": "2024-03-07T11:47:11.484786Z"
    },
    "id": "knduuAEWkKnB",
    "outputId": "6accea3a-88c8-46de-a488-0675d61d3ccf",
    "papermill": {
     "duration": 0.339491,
     "end_time": "2024-03-07T11:47:11.497994",
     "exception": false,
     "start_time": "2024-03-07T11:47:11.158503",
     "status": "completed"
    },
    "tags": []
   },
   "outputs": [
    {
     "name": "stdout",
     "output_type": "stream",
     "text": [
      "{'ill': 5624, 'happy': 5120, 'money': 7457, 'feel': 4194, 'generous': 4705, 'amused': 458, 'kind': 6383, 'tired': 11682, 'morning': 7500, 'entertainer': 3802, 'talented': 11371, 'williams': 12756, 'life': 6661, 'funny': 4614, 'tell': 11466, 'change': 1814, 'gracia': 4895, 'por': 8799, 'todo': 11702, 'like': 6684, 'week': 12624, 'love': 6848, 'wednesday': 12621, 'post': 8833, 'yesterday': 12960, 'friend': 4547, 'leave': 6575, 'bedroom': 1048, 'dangerous': 2731, 'game': 4642, 'fond': 4428, 'color': 2129, 'scheme': 10048, 'lack': 6462, 'real': 9344, 'knowledge': 6423, 'skill': 10467, 'photo': 8587, 'turn': 11957, 'consistently': 2328, 'charles': 1834, 'absolutely': 77, 'flabbergast': 4318, 'get': 4734, 'time': 11659, 'analyse': 466, 'rea': 9328, 'think': 11574, 'maybe': 7135, 'person': 8534, 'give': 4771, 'fake': 4109, 'hope': 5435, 'not': 7880, 'want': 12558, 'feeling': 4198, 'afraid': 256, 'girl': 4767, 'reaction': 9331, 'forget': 4456, 'walk': 12539, 'doctor': 3309, 'office': 8016, 'afternoon': 262, 'determined': 3027, 'grant': 4918, 'health': 5205, 'survive': 11258, 'low': 6859, 'crash': 2533, 'start': 10914, 'hopeful': 5436, 'pretty': 8950, 'despondent': 3006, 'group': 4990, 'sit': 10438, 'fire': 4291, 'lrdg': 6866, 'patrol': 8411, 'sink': 10428, 'thought': 11591, 'needy': 7721, 'latley': 6517, 'relaxed': 9501, 'art': 675, 'class': 1991, 'painting': 8287, 'conveniently': 2397, 'end': 3739, 'day': 2772, 'unwind': 12256, 'breather': 1422, 'write': 12894, 'truly': 11911, 'innocent': 5859, 'bit': 1188, 'involve': 6018, 'candy': 1635, 'factory': 4093, 'clearly': 2010, 'tourist': 11773, 'production': 9017, 'line': 6706, 'didn': 3088, 'unpleasant': 12193, 'hurry': 5550, 'planned': 8681, 'professional': 9022, 'interesting': 5956, 'picturesque': 8613, 'visit': 12466, 'anguish': 496, 'eye': 4067, 'wedding': 12620, 'hate': 5159, 'resentful': 9614, 'suppose': 11229, 'joyous': 6246, 'celebratory': 1765, 'occasion': 7978, 'parent': 8339, 'journey': 6241, 'city': 1969, 'pleasant': 8708, 'plan': 8677, 'enjoy': 3779, 'moment': 7443, 'especially': 3859, 'fb': 4171, 'move': 7548, 'slow': 10528, 'generally': 4698, 'lethargic': 6631, 'ride': 9731, 'trail': 11798, 'permanently': 8518, 'unimportant': 12142, 'stupid': 11101, 'provide': 9090, 'link': 6711, 'courtesy': 2503, 'author': 818, 'stuff': 11087, 'experience': 4021, 'live': 6744, 'available': 829, 'couldn': 2474, 'emotional': 3703, 'hostile': 5468, 'sarcoidosis': 9980, 'usual': 12304, 'sure': 11237, 'caring': 1682, 'people': 8493, 'kid': 6368, 'well': 12648, 'touch': 11760, 'piss': 8651, 'janine': 6131, 'appear': 591, 'totally': 11756, 'birthday': 1184, 'sarcastic': 9979, 'comment': 2163, 'card': 1662, 'heart': 5213, 'hurt': 5551, 'ya': 12930, 'numb': 7919, 'know': 6420, 'jack': 6101, 'man': 6994, 'easy': 3538, 'dump': 3478, 'successful': 11146, 'fill': 4259, 'questionnaire': 9210, 'form': 4464, 'new': 7770, 'strange': 11025, 'push': 9171, 'look': 6809, 'likely': 6689, 'year': 12945, 'realize': 9352, 'impact': 5661, 'lesson': 6625, 'learn': 6570, 'course': 2501, 'season': 10115, 'special': 10757, 'tenure': 11495, 'come': 2144, 'close': 2044, 'dishearten': 3203, 'lot': 6834, 'thing': 11572, 'don': 3334, 'understand': 12080, 'question': 9207, 'glad': 4776, 'starter': 10916, 'allow': 392, 'interact': 5944, 'today': 11698, 've': 12360, 'wait': 12524, 'bless': 1236, 'compare': 2190, 'dream': 3416, 'way': 12595, 'everybodys': 3922, 'good': 4851, 'remembering': 9536, 'imagination': 5638, 'clear': 2008, 'horrible': 5450, 'content': 2370, 'word': 12844, 'cry': 2621, 'eff': 3590, 'baby': 876, 'half': 5079, 'bed': 1044, 'depressed': 2956, 'stress': 11042, 'decision': 2818, 'oh': 8026, 'focused': 4411, 'blame': 1217, 'simply': 10407, 'say': 10009, 'sorry': 10710, 'car': 1656, 'house': 5477, 'restless': 9652, 'ungrateful': 12134, 'share': 10264, 'eager': 3515, 'begin': 1062, 'excite': 3971, 'prospect': 9073, 'personal': 8536, 'growth': 4997, 'deepening': 2840, 'relationship': 9496, 'christ': 1926, 'expect': 4015, 'currently': 2658, 'struggle': 11073, 'offend': 8007, 'drs': 3442, 'worry': 12862, 'body': 1300, 'heck': 5239, 'wrong': 12898, 'seriously': 10206, 'contemplate': 2364, 'tube': 11937, 'tie': 11645, 'normal': 7865, 'everyday': 3923, 'occupy': 7989, 'mind': 7326, 'proud': 9088, 'dorky': 3356, 'boring': 1348, 'hipster': 5347, 'awkward': 858, 'wonder': 12827, 'angry': 492, 'song': 10682, 'mistake': 7390, 'shatter': 10271, 'delicate': 2895, 'crystal': 2624, 'flower': 4388, 'slip': 10517, 'grasp': 4924, 'apprehensive': 609, 'weird': 12640, 'seldom': 10149, 'eat': 3539, 'unfortunate': 12127, 'run': 9886, 'tyler': 11986, 'durden': 3489, 'fight': 4251, 'club': 2058, 'large': 6502, 'bold': 1311, 'print': 8980, 'odd': 7994, 'timid': 11666, 'leopard': 6618, 'extremely': 4060, 'shitty': 10310, 'physically': 8598, 'go': 4827, 'stop': 11003, 'job': 6200, 'miserable': 7371, 'try': 11924, 'focus': 4410, 'solve': 10665, 'situation': 10446, 'satisfied': 9994, 'opportunity': 8091, 'miss': 7382, 'little': 6742, 'individual': 5782, 'story': 11009, 'indigo': 5778, 'tribe': 11872, 'offline': 8020, 'state': 10924, 'hal': 5077, 'sinestro': 10419, 'antic': 539, 'william': 12755, 'hand': 5092, 'plot': 8720, 'rel': 9491, 'bookmark': 1335, 'november': 7901, 'href': 5489, 'http': 5493, 'eagleandhammer': 3517, 'mother': 7517, 'tongue': 11722, 'paper': 8319, 'incredibly': 5755, 'idiotic': 5604, 'embarrassed': 3681, 'fault': 4162, 'yell': 12953, 'worker': 12848, 'phone': 8586, 'frustration': 4582, 'need': 7715, 'million': 7316, 'send': 10169, 'email': 3675, 'problem': 9004, 'work': 12846, 'playful': 8699, 'enrich': 3794, 'curiosity': 2651, 'encourage': 3735, 'environment': 3823, 'create': 2547, 'future': 4624, 'kindergartener': 6387, 'school': 10051, 'anger': 487, 'telephone': 11461, 'resolution': 9632, 'cliche': 2020, 'stand': 10903, 'inside': 5877, 'chabad': 1796, 'sukkah': 11182, 'watch': 12588, 'sunlight': 11197, 'filter': 4264, 'woven': 12877, 'schach': 10042, 'roof': 9818, 'gentle': 4711, 'breeze': 1429, 'open': 8074, 'lattice': 6518, 'wall': 12543, 'relax': 9499, 'yearn': 12948, 'useful': 12299, 'home': 5393, 'lounge': 6846, 'hour': 5475, 'tv': 11965, 'vs': 12502, 'food': 4434, 'shall': 10252, 'virtuous': 12461, 'swap': 11285, 'late': 6509, 'night': 7806, 'chocolate': 1914, 'bar': 953, 'cup': 2646, 'tea': 11424, 'whilst': 12681, 'gorge': 4867, 'disgustingly': 3201, 'bad': 899, 'long': 6802, 'find': 4277, 'right': 9740, 'place': 8671, 'jose': 6231, 'refuge': 9448, 'guardian': 5009, 'concern': 2244, 'jeremy': 6169, 'return': 9681, 'elola': 3666, 'evening': 3912, 'sunday': 11194, 'october': 7993, '21': 23, 'camping': 1622, 'gear': 4682, 'shouldn': 10341, 'unsuccessful': 12232, 'win': 12768, 'super': 11203, 'bowl': 1373, 'survivor': 11259, 'read': 9334, 'talk': 11374, 'abstract': 82, 'rape': 9294, 'vision': 12465, 'beginning': 1063, 'passionate': 8382, 'slightly': 10514, 'worthless': 12867, 'self': 10156, 'condemn': 2255, 'amount': 446, 'save': 10002, 'world': 12855, 'preacher': 8878, 'podium': 8742, 'counselor': 2482, 'teen': 11450, 'single': 10425, 'mom': 7441, 'writer': 12895, 'motivational': 7526, 'speaker': 10755, 'boy': 1378, 'urgency': 12286, 'introduce': 5988, 'reader': 9336, 'amazing': 423, 'touching': 11762, 'anna': 508, 'iya': 6098, 'erik': 3846, 'thrill': 11606, 'gift': 4751, 'exactly': 3942, 'precious': 8882, 'petty': 8569, 'lively': 6746, 'voice': 12487, 'reasonably': 9360, 'free': 4522, 'grip': 4972, 'believe': 1078, 'beat': 1033, 'hendrick': 5277, 'pathetic': 8398, 'lately': 6510, 'likeable': 6685, 'fearful': 4174, 'ptl': 9123, 'sofa': 10641, 'glare': 4786, 'curious': 2652, 'listen': 6730, 'current': 2657, 'music': 7614, 'unique': 12155, 'vibe': 12408, 'lose': 6830, 'non': 7845, 'korean': 6432, 'translate': 11827, 'daily': 2702, 'rat': 9307, 'race': 9239, 'vital': 12471, 'classic': 1992, 'case': 1709, 'use': 12298, 'lucky': 6878, 'wonderful': 12828, 'cheap': 1851, 'cozy': 2517, 'cafe': 1581, 'neighborhood': 7733, 'serve': 10211, 'incredible': 5754, 'mexican': 7267, 'hot': 5469, 'consider': 2320, 'profession': 9021, 'teach': 11425, 'poetry': 8745, 'troubled': 11903, 'poor': 8789, 'guilty': 5023, 'library': 6652, 'imma': 5647, 'dramatically': 3406, 'exclaim': 3978, 'choose': 1919, 'sleek': 10500, 'smoother': 10565, 'sweet': 11300, 'revenge': 9692, 'draw': 3410, 'handle': 5099, 'blaster': 1225, 'nice': 7789, 'float': 4370, 'grey': 4959, 'region': 9462, 'superior': 11210, 'bashful': 982, 'russia': 9898, 'miff': 7296, 'membership': 7208, 'east': 3536, 'european': 3901, 'nation': 7679, 'delig': 2898, 'following': 4427, 'month': 7470, 'manage': 6995, 'carry': 1701, 'atmosphere': 775, 'great': 4944, 'despondenc': 3004, 'decide': 2815, 'actually': 163, 'paint': 8286, 'piece': 8617, 'common': 2173, 'canvas': 1642, 'artistic': 685, 'uplift': 12268, 'let': 6628, 'away': 850, 'see': 10134, 'disadvantaged': 3144, 'humanity': 5512, 'subject': 11119, 'potential': 8843, 'communication': 2178, 'sharing': 10266, 'idea': 5593, 'ground': 4987, 'language': 6495, 'green': 4951, 'picture': 8612, 'friendly': 4549, 'appreciative': 607, 'proponent': 9067, 'possible': 8831, 'particularly': 8362, 'charming': 1839, 'england': 3768, 'bring': 1451, 'blessed': 1237, 'mil': 7302, 'sound': 10720, 'chef': 1866, 'value': 12334, 'cus': 2664, 'bitchy': 1191, 'break': 1412, 'girlfriend': 4768, 'brandish': 1401, 'article': 677, 'make': 6971, 'fun': 4603, 'stay': 10935, 'tragic': 11797, 'holy': 5389, 'spirit': 10804, 'plus': 8730, 'divine': 3289, 'gooooood': 4860, 'massage': 7098, 'reassure': 9364, 'sonia': 10684, 'helen': 5256, 'fling': 4363, 'arm': 652, 'joe': 6201, 'astoni': 746, 'vein': 12372, 'sight': 10380, 'active': 155, 'wiggle': 12739, 'belly': 1085, 'bitch': 1189, 'party': 8369, 'lame': 6478, 'defeat': 2847, 'lick': 6655, 'wound': 12874, 'thames': 11536, 'valley': 12331, 'police': 8763, 'furious': 4616, 'terrible': 11505, 'woman': 12821, 'hard': 5124, 'highly': 5324, 'recommend': 9398, 'band': 937, 'general': 4695, 'familiar': 4120, 'rock': 9791, 'sort': 10711, 'performance': 8507, 'sincere': 10415, 'help': 5264, 'aware': 847, 'joy': 6243, 'sorrow': 10707, 'brother': 1472, 'neglectful': 7728, 'follower': 4426, 'care': 1668, 'cat': 1722, 'steven': 10964, 'adhere': 184, 'certain': 1787, 'extent': 4049, 'fine': 4279, 'feelin': 4197, 'lil': 6690, 'uptight': 12282, 'sucky': 11155, 'reason': 9358, 'keen': 6338, 'country': 2491, 'atm': 774, 'jenny': 6165, 'contented': 2371, 'smile': 10555, 'face': 4084, 'interchange': 5951, 'repress': 9588, 'irritation': 6056, 'husband': 5554, 'rema': 9524, 'gloomy': 4809, 'independence': 5764, 'guess': 5013, 'accept': 100, 'matter': 7119, 'punish': 9154, 'neglect': 7727, 'shortly': 10333, 'discover': 3184, 'prince': 8977, 'bracelet': 1386, 'inscribe': 5868, 'nickname': 7796, 'fred': 4521, 'gladys': 4779, 'point': 8748, 'exhilarated': 3999, 'nicola': 7798, 'mcintyre': 7148, 'san': 9958, 'franc': 4499, 'busy': 1552, 'pleasing': 8714, 'regretful': 9467, 'healthy': 5207, 'badly': 902, 'fact': 4090, 'heal': 5202, 'leg': 6584, 'useless': 12300, 'downstairs': 3388, 'lobby': 6767, 'tories': 11741, 'equal': 3836, 'bewilderment': 1144, 'speak': 10754, 'judge': 6254, 'important': 5682, 'reading': 9339, 'saint': 9942, 'pang': 8308, 'pain': 8280, 'lord': 6824, 'suspicious': 11268, 'outside': 8179, 'rapture': 9303, 'happen': 5114, 'selfish': 10157, 'unbelievably': 12033, 'lazy': 6548, 'old': 8037, 'annoy': 517, 'describe': 2977, 'crappy': 2532, 'll': 6757, 'subtly': 11140, 'child': 1888, 'chance': 1812, 'blair': 1215, 'anguished': 497, 'tear': 11433, 'motherhood': 7518, 'blur': 1281, 'blink': 1243, 'awa': 842, 'rush': 9895, 'agitated': 285, 'jreyez': 6247, 'convince': 2406, 'amp': 447, 'persuasion': 8547, 'lol': 6790, 'monthly': 7472, 'quilt': 9217, 'meeting': 7188, 'inspire': 5891, 'amazed': 421, 'young': 12980, 'age': 267, 'pull': 9139, 'uncomfortable': 12047, 'treasure': 11850, 'informal': 5821, 'pump': 9145, 'alcoholic': 346, 'strong': 11066, 'godly': 4835, 'foolish': 4436, 'admit': 197, 'hit': 5353, 'explain': 4026, 'mad': 6930, 'zone': 13016, 'leader': 6557, 'carefully': 1673, 'okay': 8033, 'listless': 6733, 'deflate': 2868, 'dunno': 3484, 'swear': 11289, 'giggly': 4756, 'terribly': 11506, 'majority': 6969, 'precise': 8884, 'wake': 12528, 'hobble': 5366, 'computer': 2234, 'grab': 4889, 'check': 1856, 'blog': 1250, 'facebook': 4085, 'random': 9285, 'internet': 5965, 'click': 2022, 'nearly': 7704, 'noon': 7858, 'productive': 9018, 'early': 3523, 'breathe': 1421, 'scent': 10038, 'embrace': 3688, 'hug': 5501, 'shaky': 10251, 'feverish': 4228, 'daze': 2777, 'alot': 401, 'gaia': 4631, 'term': 11498, 'connection': 2301, 'wasn': 12585, 'stage': 10888, 'play': 8695, 'broke': 1462, 'complete': 2209, 'stranger': 11027, 'compassionate': 2197, 'somewhat': 10678, 'dissatisfied': 3247, 'plant': 8684, 'big': 1160, 'section': 10129, 'lettuce': 6634, 'pesky': 8554, 'bunny': 1529, 'rebellious': 9371, 'raid': 9264, 'garden': 4659, 'wish': 12795, 'santa': 9973, 'claus': 1999, 'cause': 1741, 'greedy': 4949, 'loot': 6821, 'honoured': 5425, 'comfortable': 2153, 'ask': 707, 'faux': 4163, 'hawk': 5182, 'dykey': 3509, 'safe': 9933, 'unloved': 12181, 'remind': 9538, 'peaceful': 8440, 'view': 12428, 'present': 8933, 'rich': 9725, 'material': 7110, 'standard': 10904, 'grateful': 4928, 'exhausted': 3993, 'pressure': 8940, 'act': 151, 'behave': 1066, 'culturally': 2639, 'disillusioned': 3209, 'jubilant': 6250, 'arrival': 668, 'gate': 4671, 'definitely': 2865, 'prove': 9089, 'emotionally': 3704, 'distraught': 3268, 'unable': 12021, 'concentrate': 2239, 'mile': 7307, 'distance': 3254, 'bunion': 1527, 'tender': 11486, 'painful': 8282, 'exasperate': 3952, 'cont': 2357, 'finish': 4284, 'insecure': 5871, 'spark': 10743, 'flame': 4327, 'suffering': 11164, 'mankind': 7023, 'flow': 4387, 'clean': 2003, 'eco': 3554, 'manual': 7031, 'labor': 6456, 'chart': 1840, 'notice': 7888, 'replace': 9576, 'positive': 8824, 'control': 2394, 'owe': 8243, 'adore': 208, 'fan': 4125, 'lj': 6756, 'entry': 3818, 'take': 11364, 'camera': 1614, 'device': 3044, 'dining': 3120, 'table': 11345, 'express': 4039, 'depth': 2964, 'having': 5177, 'ludicrous': 6880, 'rant': 9292, 'pass': 8372, 'ecstatic': 3561, 'blissfully': 1246, 'relieved': 9515, 'sense': 10177, 'transparence': 11830, 'burden': 1533, 'lift': 6667, 'throw': 11618, 'deep': 2838, 'cliff': 2024, 'loss': 6832, 'engineer': 3767, 'dsp': 3453, 'design': 2984, 'eventually': 3916, 'financial': 4274, 'number': 7920, 'crunch': 2615, 'software': 10645, 'company': 2188, 'one': 8056, 'sufferer': 11163, 'li': 6642, 'shai': 10247, 'tung': 11952, 'darker': 2744, 'accessible': 107, 'lay': 6543, 'disqui': 3235, 'shake': 10248, 'conversation': 2399, 'keep': 6340, 'consume': 2353, 'hero': 5295, 'nap': 7666, 'sleep': 10501, 'crib': 2570, 'doesn': 3317, 'clever': 2017, 'romantic': 9810, 'platonic': 8694, 'dissolve': 3252, 'melancholy': 7192, 'holden': 5376, 'caulfield': 1740, 'ignore': 5619, 'lie': 6657, 'truth': 11921, 'omission': 8052, 'avoidance': 839, 'bunch': 1523, 'role': 9802, 'cyclinder': 2685, 'irritable': 6052, 'result': 9663, 'bother': 1356, 'north': 7870, 'london': 6796, 'derby': 2966, 'confident': 2274, 'choice': 1915, 'acknowledge': 142, 'fat': 4153, 'definition': 2866, 'skin': 10471, 'envious': 3821, 'reject': 9484, 'laugh': 6521, 'stock': 10993, 'peer': 8463, 'defend': 2852, 'exist': 4003, 'benefit': 1107, 'creative': 2550, 'information': 5823, 'put': 9175, 'practice': 8866, 'session': 10217, 'fairly': 4101, 'calm': 1604, 'distressed': 3270, 'richie': 9728, 'catheter': 1734, 'bag': 907, 'connect': 2298, 'grief': 4962, 'stricken': 11051, 'widow': 12730, 'destroy': 3012, 'cricket': 2571, 'clothe': 2051, 'equipman': 3840, 'sake': 9943, 'mellow': 7199, 'fed': 4184, 'peace': 8439, 'external': 4051, 'completely': 2210, 'ablo': 64, 'contribute': 2392, 'heel': 5244, 'accomplishment': 119, 'theory': 11554, 'hear': 5210, 'remorseful': 9545, 'thin': 11571, 'effectual': 3595, 'worship': 12865, 'action': 153, 'asami': 692, 'tip': 11678, 'address': 180, 'underline': 12072, 'majesty': 6967, 'speech': 10777, 'windsor': 12773, 'castle': 1719, 'refer': 9432, '1992': 18, 'annus': 526, 'horribilis': 5449, 'attach': 781, 'decline': 2823, 'scare': 10025, 'buy': 1562, 'ice': 5586, 'cream': 2543, 'overwhelmed': 8237, 'fast': 4151, 'pace': 8256, 'reach': 9329, 'warmth': 12572, 'mysterious': 7634, 'sea': 10106, 'intimately': 5980, 'buoy': 1531, 'wave': 12593, 'surrender': 11253, 'transcendent': 11818, 'surge': 11241, 'neighbour': 7734, 'scream': 10085, 'small': 10546, 'true': 11908, 'fantastic': 4132, 'different': 3095, 'light': 6668, 'room': 9819, 'brighten': 1445, 'glow': 4817, 'shamed': 10257, 'certainly': 1788, 'sex': 10233, 'kissing': 6399, 'far': 4134, 'tremor': 11862, 'cute': 2675, 'isolated': 6072, 'marginalise': 7047, 'enemy': 3752, 'united': 12160, 'states': 10927, 'deploy': 2949, 'nuclear': 7912, 'weapon': 12604, 'civilian': 1971, 'leap': 6566, 'stash': 10922, 'fabric': 4081, 'cold': 2105, 'resolve': 9633, 'pity': 8663, 'circumstance': 1965, 'alright': 405, 'pissed': 8652, 'joyful': 6244, 'being': 1073, 'recent': 9379, 'centre': 1781, 'disabled': 3141, 'learning': 6571, 'peo': 8491, 'ok': 8032, 'rage': 9261, 'hormone': 5445, 'occasionally': 7980, 'whelming': 12677, 'uncertainty': 12043, 'core': 2435, 'attention': 788, 'weather': 12611, 'masterpiece': 7104, 'boyfriend': 1380, 'promise': 9051, 'spend': 10785, 'pal': 8291, 'brag': 1392, 'triumphant': 11890, 'algebra': 363, 'head': 5189, 'unison': 12157, 'startled': 10918, 'fall': 4112, 'doom': 3345, 'ago': 289, 'reluctant': 9522, 'sad': 9923, 'upset': 12277, 'wimp': 12766, 'outraged': 8172, 'breath': 1420, 'neck': 7712, 'whisper': 12700, 'hertha': 5301, 'finger': 4281, 'ashamed': 699, 'convinced': 2407, 'sensible': 10179, 'lease': 6573, 'asleep': 711, 'violent': 12451, 'unjustified': 12169, 'mean': 7158, 'history': 5352, 'overrrrrrrrrrrr': 8221, 'solo': 10661, 'flight': 4360, 'ardmore': 637, 'kaikohe': 6300, 'pilot': 8631, 'licence': 6653, 'remember': 9534, 'gorgeous': 4868, 'natural': 7685, 'high': 5322, 'shock': 10313, 'call': 1599, 'religious': 9517, 'slap': 10490, 'dumb': 3474, 'advice': 228, 'harmfully': 5135, 'confused': 2289, 'blah': 1213, 'toilet': 11708, 'favourite': 4169, 'daughter': 2762, 'enamoured': 3726, 'porcelain': 8800, 'throne': 11617, 'rafael': 9256, 'bosch': 1350, 'genuine': 4715, 'producer': 9015, 'voic': 12486, 'complain': 2207, 'panic': 8309, 'attack': 783, 'stun': 11092, 'list': 6729, 'entire': 3809, 'laundry': 6526, 'impossible': 5685, 'pie': 8616, 'sky': 10482, 'strappy': 11030, 'shoe': 10317, 'thrifted': 11605, 'ninew': 7819, 'invert': 6003, 'suspension': 11266, 'graceful': 4893, 'elegant': 3645, 'sexy': 10238, 'unsure': 12237, 'brokeup': 1464, 'kinda': 6384, 'disgusted': 3199, 'gaze': 4680, 'meet': 7187, 'white': 12704, 'patch': 8393, 'handkerchief': 5098, 'hold': 5375, 'melanie': 7193, 'horror': 5457, 'aunt': 809, 'fa': 4078, 'seed': 10135, 'awesome': 853, 'interested': 5954, 'torture': 11747, 'soul': 10715, 'order': 8110, 'news': 7778, 'able': 62, 'relief': 9513, 'sunshine': 11201, 'delicious': 2897, 'creature': 2556, 'vain': 12320, 'pay': 8429, 'assure': 742, 'god': 4831, 'unhappy': 12136, 'befoe': 1058, 'img': 5645, 'src': 10872, 'pop': 8791, 'primetime': 8974, 'murderer': 7604, 'ar': 625, 'ne': 7700, 'disturb': 3275, 'croatian': 2586, 'witty': 12808, 'popular': 8796, 'unkind': 12171, 'family': 4123, 'constantly': 2337, 'lookout': 6812, 'pr': 8862, 'helpless': 5267, 'folk': 4421, 'doer': 3316, 'sociable': 10624, 'warm': 12569, 'completeness': 2211, 'couple': 2496, 'sober': 10621, 'book': 1334, 'figure': 4256, 'utterly': 12309, 'affirm': 244, 'human': 5509, 'rid': 9730, 'pride': 8965, 'stick': 10970, 'continue': 2380, 'enforce': 3760, 'playdate': 8697, 'policy': 8765, 'twice': 11972, 'drop': 3438, 'noah': 7829, 'mommy': 7447, 'onset': 8064, 'distracted': 3265, 'participate': 8360, 'member': 7207, 'preferred': 8903, 'victim': 12415, 'responsibility': 9644, 'cocoa': 2085, 'flannel': 4329, 'nightie': 7809, 'undertake': 12084, 'trip': 11886, 'fulfillment': 4597, 'childhood': 1890, 'awareness': 848, 'dawn': 2771, 'marlowe': 7066, 'humanitys': 5513, 'ruthless': 9906, 'rapacity': 9293, 'greed': 4948, 'emotion': 3702, 'crave': 2534, 'morsel': 7508, 'ready': 9341, 'appease': 594, 'appetite': 595, 'absolute': 76, 'nonsense': 7853, 'wail': 12520, 'spoke': 10823, 'thankful': 11539, 'wimpy': 12767, 'chivalry': 1909, 'magnanimity': 6947, 'whatsoever': 12671, 'defeated': 2848, 'opposition': 8094, 'pete': 8562, 'admire': 194, 'devastate': 3036, 'complacent': 2206, 'finding': 4278, 'indicate': 5769, 'measurable': 7165, 'difference': 3094, 'wome': 12824, 'disappointment': 3153, 'tour': 11768, 'rain': 9267, 'fog': 4413, 'culture': 2640, 'uk': 12006, 'usa': 12293, 'mire': 7362, 'unsavoury': 12219, 'mix': 7401, 'squalor': 10859, 'stupidity': 11102, 'jealous': 6148, 'path': 8396, 'approach': 612, 'cos': 2462, 'intimidate': 5981, 'somebody': 10668, 'shut': 10357, 'barely': 962, 'isolation': 6074, 'theirs': 11549, 'adventurous': 221, 'friday': 4544, 'saturday': 9996, 'church': 1950, 'pick': 8605, 'airport': 318, 'acceptable': 101, 'lousy': 6847, 'pleased': 8712, 'celebrate': 1763, 'tonight': 11726, 'brewer': 1431, 'event': 3913, 'hawkshead': 5183, 'pub': 9126, 'msm': 7564, 'main': 6959, 'stream': 11038, 'medium': 7185, 'deprive': 2962, 'intruder': 5992, 'unwelcome': 12253, 'finally': 4272, 'idiot': 5603, 'target': 11398, 'blank': 1221, 'nofollow': 7835, 'title': 11690, 'friendfeed': 4548, 'dearwendy': 2796, 'usually': 12305, 'sam': 9954, 'downright': 3387, 'whiny': 12691, 'sible': 10361, 'rivalry': 9773, 'lead': 6554, 'paranoid': 8333, 'stalker': 10896, 'anxious': 554, 'thirty': 11582, 'seriouly': 10205, 'respect': 9639, 'privacy': 8992, 'team': 11430, 'badminton': 904, 'terrify': 11509, 'crazily': 2538, 'terrified': 11508, 'doubt': 3368, 'reluctance': 9521, 'federal': 4185, 'authority': 820, 'employ': 3713, 'gas': 4664, 'plain': 8675, 'force': 4442, 'threatened': 11600, 'stubborn': 11077, 'sister': 10437, 'crime': 2573, 'deal': 2792, 'pregnant': 8907, 'resign': 9624, 'shit': 10309, 'rude': 9870, 'insult': 5916, 'photography': 8591, 'sensitive': 10181, 'easily': 3535, 'writing': 12896, 'formal': 4465, 'valuable': 12333, 'spiritual': 10806, 'grow': 4993, 'vent': 12382, 'outrageously': 8174, 'tourette': 11770, 'unpredictability': 12197, 'messy': 7254, 'carnage': 1687, 'presence': 8932, 'honored': 5423, 'wear': 12605, 'set': 10218, 'discouraging': 3183, 'brave': 1406, 'slumber': 10537, 'convoluted': 2410, 'exhaust': 3992, 'skdd': 10454, 'victimize': 12416, 'getting': 4738, 'rob': 9781, 'ton': 11719, 'loyal': 6862, 'support': 11225, 'stinkin': 10987, 'reviewer': 9701, 'tu': 11935, 'awful': 855, 'stressed': 11043, 'comedy': 2148, 'deteriorate': 3024, 'movie': 7551, 'sabrina': 9917, 'notte': 7896, 'hill': 5332, 'perspective': 8542, 'equation': 3838, 'final': 4268, 'overcome': 8195, 'claustrophobic': 2000, 'follow': 4425, 'road': 9779, 'offended': 8008, 'interest': 5953, 'tension': 11492, 'receive': 9376, 'krista': 6438, 'blogger': 1252, 'https': 5494, 'www': 12910, 'monday': 7455, 'diet': 3091, 'blow': 1270, 'mood': 7475, 'sandwich': 9966, 'discourage': 3181, 'marvelous': 7081, 'jesus': 6177, 'ignite': 5615, 'forward': 4476, 'elated': 3630, 'hearted': 5222, 'bread': 1411, 'breakfast': 1414, 'snack': 10573, 'munch': 7598, 'savory': 10006, 'pm': 8735, 'immediate': 5649, 'response': 9643, 'retrospect': 9680, 'pony': 8783, 'infertility': 5812, 'slew': 10509, 'pregnancy': 8906, 'announcement': 516, 'debt': 2804, 'magically': 6945, 'disappear': 3148, 'diary': 3078, 'beloved': 1092, 'nervous': 7749, 'excited': 3972, 'silly': 10395, 'guest': 5014, 'retreat': 9676, 'pray': 8874, 'alteration': 408, 'accustomed': 132, 'healing': 5204, 'system': 11340, 'neighbor': 7732, 'repeat': 9565, 'doisneau': 3321, 'bird': 1182, 'mischievous': 7368, 'gleeful': 4793, 'la': 6453, 'liz': 6752, 'woebegone': 12818, 'stagger': 10889, 'stuffy': 11089, 'carriage': 1696, 'barbara': 954, 'burst': 1545, 'laughin': 6522, 'appreciate': 604, 'chilli': 1899, 'spicy': 10790, 'appalled': 586, 'ache': 133, 'anymore': 558, 'bake': 916, 'cookie': 2416, 'local': 6770, 'bbw': 1014, 'tomorrow': 11718, 'employee': 3714, 'mercy': 7238, 'heavenly': 5233, 'father': 4157, 'sprint': 10849, 'homework': 5408, 'guy': 5044, 'dismay': 3215, 'width': 12731, 'style': 11106, 'border': 1343, 'px': 9182, 'margin': 7046, 'teeter': 11456, 'edge': 3566, 'hoard': 5361, 'insanity': 5866, 'clothing': 2052, 'damage': 2712, 'product': 9016, 'weed': 12623, 'fabulous': 4082, 'fail': 4097, 'goal': 4828, 'freelance': 4525, 'career': 1670, 'sin': 10411, 'filthy': 4265, 'beckon': 1041, 'righteousness': 9742, 'daydream': 2774, 'shove': 10343, 'pantie': 8315, 'bet': 1129, 'cage': 1585, 'collapse': 2114, 'weekend': 12626, 'neil': 7736, 'row': 9852, 'circle': 1962, 'stupefied': 11098, 'amazement': 422, 'hardly': 5130, 'wit': 12798, 'footing': 4440, 'hopeless': 5439, 'jealousy': 6149, 'example': 3949, 'offensive': 8011, 'hammer': 5086, 'warn': 12573, 'surface': 11240, 'water': 12591, 'kindness': 6389, 'conscious': 2310, 'groggy': 4981, 'disorient': 3222, 'worn': 12858, 'foot': 4438, 'originally': 8131, 'weight': 12635, 'poorly': 8790, 'fuck': 4585, 'considerate': 2323, 'dish': 3202, 'particulary': 8363, 'search': 10113, 'lizard': 6754, 'gill': 4759, 'restroom': 9662, 'homesick': 5405, 'have': 5173, 'frequent': 4534, 'flash': 4334, 'achy': 138, 'spot': 10835, 'bone': 1327, 'tumor': 11949, 'metastasis': 7259, 'intend': 5932, 'develop': 3040, 'albeit': 341, 'riku': 9752, 'oppose': 8092, 'ish': 6060, 'issue': 6080, 'shortage': 10328, 'trust': 11916, 'emo': 3698, 'glamorous': 4781, 'dress': 3421, 'earth': 3530, 'laughter': 6523, 'delight': 2899, 'pause': 8422, 'blessing': 1238, 'smug': 10571, 'partner': 8367, 'supportive': 11227, 'lend': 6605, 'resent': 9613, 'trap': 11834, 'mall': 6985, 'mallrat': 6986, 'jolly': 6219, 'tuesday': 11942, 'rest': 9646, 'haul': 5168, 'lava': 6532, 'planet': 8679, 'export': 4035, 'space': 10732, 'port': 8807, 'nasty': 7675, 'stab': 10881, 'loneliness': 6799, 'brain': 1394, 'horribly': 5451, 'mournful': 7540, 'silently': 10392, 'accuse': 131, 'robert': 9783, 'landor': 6490, 'bible': 1153, 'tim': 11658, 'hide': 5317, 'ignorance': 5616, 'bohemian': 1307, 'poet': 8744, 'trial': 11869, 'horrified': 5455, 'socie': 10631, 'stare': 10912, 'lady': 6468, 'ring': 9756, 'protectiveness': 9081, 'slight': 10512, 'appearance': 593, 'energetic': 3753, 'mental': 7227, 'christmas': 1933, 'tree': 11858, 'festive': 4223, 'spur': 10853, 'soon': 10689, 'considerable': 2321, 'ensure': 3797, 'accurately': 129, 'record': 9402, 'woolton': 12841, 'ha': 5050, 'sing': 10420, 'swim': 11307, 'passing': 8380, 'surprised': 11249, 'environmental': 3824, 'consequence': 2317, 'logging': 6781, 'dam': 2711, 'betray': 1131, 'resort': 9637, 'heartbroken': 5220, 'livid': 6750, 'opa': 8073, 'precisely': 8885, 'uncertain': 12042, 'beneath': 1101, 'fab': 4079, 'jacket': 6102, 'mesh': 7249, 'bewildered': 1143, 'dist': 3253, 'hiding': 5320, 'apathy': 570, 'strive': 11061, 'fully': 4600, 'swollen': 11317, 'area': 638, 'anybody': 556, 'contribution': 2393, 'choir': 1916, 'headache': 5190, 'killer': 6374, 'agree': 295, 'stormy': 11008, 'joint': 6214, 'backache': 886, 'etc': 3880, 'crush': 2617, 'bus': 1547, 'mate': 7109, 'despise': 3000, 'fellow': 4203, 'bookworm': 1338, 'kiddy': 6370, 'ugly': 12003, 'embarrass': 3680, 'short': 10327, 'hair': 5069, 'kiss': 6397, 'normally': 7868, 'tomato': 11714, 'burger': 1539, 'moisture': 7428, 'absence': 74, 'meat': 7168, 'juicy': 6264, 'blossom': 1268, 'anxiety': 552, 'chinas': 1903, 'copyright': 2431, 'violation': 12449, 'machiavellian': 6924, 'identify': 5598, 'destructive': 3015, 'behavior': 1067, 'peculiarly': 8452, 'technique': 11442, 'psychological': 9112, 'middle': 7284, 'toda': 11697, 'spontaneous': 10827, 'urgh': 12289, 'giant': 4749, 'dread': 3414, 'dh': 3058, 'abuse': 89, 'depression': 2959, 'diagnosis': 3066, 'generalised': 4696, 'feature': 4180, 'impending': 5666, 'social': 10625, 'crisis': 2577, 'montana': 7468, 'lonely': 6800, 'anguis': 495, 'meaning': 7160, 'viewer': 12429, 'artist': 684, 'helpful': 5265, 'fearless': 4175, 'sams': 9956, 'angsty': 494, 'headspace': 5200, 'jensens': 6166, 'singe': 10422, 'bon': 1321, 'jovi': 6242, 'horny': 5446, 'hell': 5259, 'favorite': 4167, 'workout': 12852, 'pound': 8850, 'ear': 3519, 'certainty': 1789, 'trickle': 11877, 'honestly': 5416, 'wisdom': 12792, 'hui': 5507, 'enthusiasm': 3806, 'china': 1902, 'socialist': 10627, 'construction': 2346, 'cardiff': 1664, 'reflection': 9439, 'near': 7702, 'sweep': 11299, 'germans': 4727, 'stunned': 11093, 'election': 3637, 'april': 622, 'television': 11465, 'chuff': 1944, 'gratitude': 4932, 'ambush': 433, 'apparently': 588, 'photograph': 8588, 'radiate': 9251, 'react': 9330, 'gracious': 4896, 'jar': 6136, 'haha': 5062, 'series': 10201, 'summer': 11189, 'count': 2483, 'challenge': 1805, 'total': 11754, 'date': 2759, 'text': 11524, 'answer': 532, 'desperately': 2998, 'machine': 6925, 'mode': 7417, 'spinner': 10801, 'detachedly': 3017, 'amuse': 457, 'freak': 4515, 'gigantic': 4753, 'spider': 10791, 'climb': 2027, 'flat': 4338, 'doubtful': 3369, 'negative': 7724, 'damn': 2715, 'immense': 5652, 'sympathy': 11330, 'proto': 9085, 'corner': 2442, 'sign': 10382, 'agent': 271, 'publishing': 9135, 'contract': 2387, 'probably': 9003, 'handful': 5096, 'refrain': 9443, 'goddamn': 4832, 'strongly': 11067, 'resource': 9638, 'cycle': 2684, 'development': 3042, 'prosperity': 9074, 'sigh': 10378, 'theme': 11550, 'fear': 4173, 'memory': 7217, 'homeschooling': 5404, 'option': 8101, 'homeschool': 5402, 'temporary': 11479, 'activity': 158, 'liberty': 6651, 'license': 6654, 'imagine': 5639, 'nostalgic': 7877, 'excitement': 3975, 'happiness': 5117, 'property': 9064, 'minute': 7355, 'later': 6511, 'street': 11039, 'unsuspecting': 12240, 'unknown': 12172, 'pluto': 8733, 'sun': 11192, 'shift': 10295, 'input': 5861, 'faithful': 4105, 'servant': 10210, 'guinea': 5025, 'pig': 8621, 'tiny': 11677, 'cheerful': 1861, 'fit': 4307, 'side': 10369, 'treat': 11853, 'grandchild': 4907, 'mum': 7592, 'bastard': 991, 'revolve': 9707, 'grandma': 4912, 'hospital': 5462, 'nursing': 7928, 'simple': 10404, 'huge': 5502, 'step': 10953, 'catholic': 1735, 'community': 2182, 'kyuhyun': 6452, 'crowd': 2601, 'stroll': 11064, 'apgujeong': 575, 'hyunjin': 5579, 'sceptical': 10041, 'gay': 4679, 'analogy': 465, 'weepy': 12630, 'tabloid': 11347, 'comedic': 2147, 'genius': 4709, 'shed': 10277, 'anticipate': 540, 'quickly': 9213, 'international': 5964, 'hondura': 5413, 'solid': 10657, 'dom': 3327, 'rip': 9761, 'tide': 11642, 'relentlessly': 9507, 'surround': 11254, 'inch': 5730, 'capture': 1655, 'essence': 3863, 'thinking': 11576, 'consistent': 2327, 'to': 11694, 'suckere': 11153, 'iphone': 6023, 'ad': 168, 'cool': 2418, 'siri': 10433, 'bear': 1029, 'key': 6355, 'door': 3348, 'annoyed': 520, 'sick': 10364, 'tab': 11343, 'wouldn': 12873, 'momentarily': 7444, 'bond': 1324, 'sara': 9975, 'everybitterthingissweet': 3920, 'rrreeaallyy': 9856, 'indication': 5770, 'breakthrough': 1416, 'imminent': 5657, 'repressed': 9589, 'expression': 4040, 'split': 10816, 'marriage': 7067, 'enrage': 3792, 'wanna': 12557, 'lung': 6900, 'be': 1017, 'fucking': 4588, 'belong': 1088, 'shy': 10358, 'frighten': 4554, 'recently': 9380, 'inadequate': 5711, 'justification': 6287, 'campaign': 1620, 'senator': 10168, 'jackson': 6104, 'cnn': 2073, 'engrain': 3771, 'prejudiced': 8910, 'expense': 4019, 'bathroom': 998, 'pee': 8459, 'submissive': 11127, 'instruction': 5908, 'addict': 173, 'lifestyle': 6665, 'youthful': 12983, 'basis': 985, 'verge': 12391, 'waste': 12586, 'english': 3769, 'cranky': 2529, 'impatient': 5663, 'greatly': 4946, 'ability': 59, 'empathize': 3709, 'capacity': 1646, 'widely': 12727, 'dramatic': 3405, 'hahah': 5063, 'risk': 9764, 'tackle': 11350, 'political': 8771, 'cheated': 1854, 'gaming': 4646, 'forgive': 4457, 'paralysis': 8330, 'lunch': 6897, 'dull': 3470, 'bouncy': 1364, 'rustle': 9902, 'happily': 5116, 'outing': 8166, 'welfa': 12646, 'reflect': 9438, 'beer': 1053, 'drink': 3427, 'lugubrious': 6884, 'pale': 8295, 'athelstan': 762, 'staine': 10892, 'cross': 2594, 'honest': 5415, 'ni': 7786, 'smart': 10547, 'impressive': 5694, 'spacey': 10733, 'rotten': 9840, 'apple': 598, 'karen': 6316, 'pushy': 9173, 'demand': 2909, 'front': 4567, 'son': 10680, 'electrified': 3642, 'fragment': 4491, 'hang': 5107, 'instantly': 5899, 'peak': 8444, 'illness': 5628, 'housebound': 5478, 'peckish': 8450, 'brew': 1430, 'pic': 8604, 'stitched': 10991, 'energy': 3758, 'disappointed': 3151, 'soccer': 10623, 'field': 4243, 'christine': 1932, 'sinclair': 10418, 'captain': 1652, 'canadian': 1628, 'national': 7680, 'dog': 3318, 'lawrencewashington': 6538, 'frightened': 4556, 'improve': 5698, 'realise': 9347, 'astonishment': 749, 'enormity': 3787, 'complication': 2220, 'optimistic': 8100, 'cherish': 1873, 'resist': 9628, 'till': 11656, 'overly': 8216, 'potentially': 8844, 'silence': 10390, 'code': 2087, 'vast': 12353, 'mr': 7559, 'pitman': 8661, 'senior': 10172, 'junior': 6280, 'rep': 9559, 'progressively': 9039, 'service': 10214, 'encounter': 3734, 'travel': 11840, 'trouble': 11902, 'engage': 3762, 'aim': 307, 'achieve': 135, 'treader': 11847, 'skeptical': 10460, 'hardcover': 5127, 'japanese': 6135, 'teaching': 11428, 'metier': 7264, 'will': 12751, 'university': 12167, 'thigh': 11569, 'rate': 9308, 'stomach': 10997, 'butt': 1556, 'guilt': 5021, 'warner': 12574, 'edit': 3569, 'film': 4260, 'arrive': 669, 'director': 3135, 'cut': 2674, 'format': 4466, 'blu': 1272, 'ray': 9322, 'increase': 5752, 'hypocrite': 5574, 'presentation': 8934, 'scared': 10027, 'longing': 6805, 'swimming': 11308, 'traumatic': 11838, 'combat': 2138, 'clich': 2019, 'flaw': 4346, 'character': 1825, 'define': 2863, 'juliannas': 6266, 'hint': 5344, 'nouveau': 7898, 'era': 3843, 'charm': 1838, 'attract': 792, 'constitution': 2341, 'difficult': 3097, 'dela': 2886, 'loquacious': 6823, 'hunter': 5542, 'beautiful': 1037, 'plug': 8722, 'cow': 2509, 'dung': 3481, 'marry': 7069, 'grievance': 4963, 'greg': 4957, 'dominican': 3333, 'republic': 9597, 'sssas': 10878, 'silent': 10391, 'knight': 6413, 'instrumental': 5911, 'ala': 332, 'hizaki': 5356, 'soo': 10688, 'bridal': 1436, 'thank': 11538, 'note': 7882, 'regard': 9453, 'curl': 2654, 'porcupine': 8802, 'gathering': 4674, 'acceptance': 102, 'letter': 6633, 'unza': 12261, 'confuse': 2288, 'bounce': 1363, 'reference': 9434, 'period': 8511, 'grave': 4934, 'strangely': 11026, 'expert': 4024, 'coney': 2266, 'psychiatric': 9108, 'alarm': 336, 'politely': 8769, 'shortsighted': 10335, 'submit': 11128, 'restlessness': 9654, 'tolerate': 11710, 'spiteful': 10813, 'eternal': 3881, 'bridge': 1439, 'amalgamation': 419, 'sympathize': 11329, 'native': 7682, 'length': 6608, 'bid': 1157, 'price': 8961, 'literally': 6737, 'knee': 6409, 'episode': 3834, 'pleasantly': 8709, 'sudden': 11158, 'intensely': 5935, 'physical': 8596, 'distress': 3269, 'disability': 3140, 'hp': 5487, 'laptop': 6500, 'charge': 1831, 'upload': 12271, 'online': 8061, 'agonized': 293, 'teacher': 11427, 'worth': 12866, 'quality': 9193, 'submission': 11126, 'conform': 2282, 'genre': 4710, 'publisher': 9134, 'whiney': 12687, 'antsy': 551, 'infuriate': 5828, 'violate': 12448, 'overshadow': 8223, 'lovely': 6854, 'xx': 12928, 'xelliealicex': 12918, 'emotionless': 3705, 'frustrate': 4578, 'unresolved': 12211, 'past': 8386, 'severe': 10228, 'effect': 3592, 'unwanted': 12249, 'vex': 12404, 'bury': 1546, 'stati': 10928, 'dart': 2753, 'indignantly': 5777, 'desk': 2989, 'mouse': 7542, 'file': 4258, 'annotate': 513, 'recei': 9375, 'impressed': 5692, 'tubelight': 11938, 'glossy': 4814, 'red': 9415, 'laced': 6460, 'bra': 1384, 'garbage': 4657, 'obedient': 7951, 'commandment': 2161, 'compassion': 2196, 'strengthen': 11041, 'track': 11785, 'wise': 12793, 'show': 10344, 'untidy': 12242, 'confrontation': 2286, 'soundly': 10721, 'thrash': 11596, 'mot': 7515, 'cast': 1715, 'studio': 11085, 'death': 2798, 'knock': 6418, 'living': 6751, 'gladly': 4778, 'welcome': 12644, 'epidural': 3831, 'desire': 2988, 'heaviness': 5237, 'chest': 1876, 'muffled': 7578, 'hideakis': 5318, 'lip': 6717, 'forcefully': 4443, 'press': 8938, 'daiki': 2701, 'awfully': 856, 'creativity': 2553, 'die': 3089, 'battery': 1005, 'angst': 493, 'yelp': 12956, 'passion': 8381, 'drive': 3431, 'initial': 5844, 'reply': 9580, 'endeavour': 3741, 'conceal': 2236, 'excitem': 3974, 'overwhelm': 8236, 'crack': 2521, 'foggy': 4414, 'privileged': 8997, 'mainstream': 6962, 'caffeinate': 1583, 'britain': 1454, 'nonetheless': 7848, 'gap': 4652, 'earn': 3524, 'depend': 2943, 'trend': 11864, 'rejuvenate': 9489, 'implant': 5675, 'invest': 6004, 'firmly': 4298, 'craft': 2523, 'mass': 7095, 'audience': 802, 'careeeeee': 1669, 'savage': 10001, 'slimme': 10515, 'disheartened': 3204, 'visible': 12463, 'college': 2122, 'cope': 2426, 'helplessness': 5269, 'affection': 240, 'weren': 12655, 'toy': 11781, 'pile': 8624, 'sadness': 9932, 'customer': 2672, 'disturbed': 3276, 'observation': 7968, 'schedule': 10045, 'feedback': 4193, 'summary': 11188, 'uganda': 11998, 'perfect': 8503, 'lb': 6549, 'olu': 8043, 'jacobs': 6107, 'honour': 5424, 'momo': 7450, 'carefree': 1671, 'nutty': 7938, 'offen': 8005, 'ouch': 8148, 'med': 7173, 'chillax': 1898, 'wine': 12775, 'charlie': 1835, 'zen': 13000, 'statement': 10926, 'twist': 11975, 'sinister': 10427, 'inaccurate': 5706, 'deepika': 2841, 'discouraged': 3182, 'silhouette': 10393, 'haven': 5174, 'disillusion': 3208, 'corps': 2451, 'ideal': 5594, 'study': 11086, 'rapidly': 9298, 'sweaty': 11295, 'dance': 2724, 'rehearsal': 9475, 'greet': 4955, 'guide': 5018, 'obsessively': 7973, 'exception': 3962, 'raise': 9272, 'fascination': 4146, 'opening': 8076, 'irate': 6029, 'pronounce': 9059, 'heat': 5228, 'divorce': 3295, 'permanent': 8516, 'rever': 9694, 'deeply': 2842, 'rachel': 9240, 'venu': 12386, 'butcher': 1553, 'wordless': 12845, 'jamie': 6126, 'compress': 2229, 'difficulty': 3098, 'neatly': 7707, 'sentence': 10185, 'dirty': 3138, 'wash': 12581, 'nose': 7874, 'tooth': 11733, 'brush': 1484, 'electric': 3639, 'xmas': 12923, 'rubber': 9862, 'pointy': 8752, 'floss': 4383, 'antidote': 542, 'cyprus': 2691, 'timeline': 11661, 'visibly': 12464, 'worthwhile': 12869, 'clay': 2002, 'fortunate': 4472, 'provokingbeauty': 9099, 'hollow': 5385, 'wide': 12726, 'awake': 844, 'crap': 2531, 'surprise': 11248, 'uncontrollably': 12058, 'snore': 10603, 'pillow': 8630, 'fashion': 4148, 'magazine': 6939, 'cottage': 2471, 'rustling': 9903, 'bright': 1444, 'burn': 1542, 'apply': 601, 'program': 9032, 'parkin': 8348, 'exasperat': 3951, 'type': 11987, 'shocked': 10314, 'bunk': 1528, 'vulnerable': 12507, 'ranbir': 9282, 'ayan': 866, 'mukerji': 7582, 'filmfare': 4261, 'apartment': 568, 'striking': 11055, 'touched': 11761, 'dark': 2742, 'smash': 10550, 'round': 9845, 'pink': 8639, 'toenail': 11705, 'creepy': 2562, 'decently': 2813, 'reactive': 9332, 'wronged': 12899, 'universe': 12166, 'lean': 6563, 'heavy': 5238, 'chaos': 1819, 'kick': 6365, 'daddy': 2697, 'cupcake': 2647, 'hubby': 5496, 'noob': 7855, 'joke': 6216, 'forgiveness': 4458, 'add': 172, 'ipod': 6024, 'load': 6762, 'synthwave': 11338, 'radio': 9254, 'alternative': 410, 'cure': 2650, 'neds': 7714, 'atomic': 776, 'dustbin': 3494, 'posie': 8822, 'pixies': 8665, 'james': 6124, 'springhouse': 10845, 'morrissey': 7507, 'wring': 12891, 'snobbish': 10599, 'musical': 7615, 'taste': 11407, 'hunger': 5537, 'ferocious': 4216, 'tiger': 11648, 'second': 10121, 'maternal': 7112, 'pretend': 8948, 'unfortunately': 12128, 'maria': 7050, 'headbanging': 5193, 'ho': 5360, 'annoying': 521, 'unliked': 12176, 'chink': 1905, 'armor': 655, 'dismiss': 3218, 'mess': 7251, 'sloth': 10525, 'altitude': 411, 'drain': 3401, 'injury': 5849, 'horse': 5458, 'heartless': 5225, 'mourn': 7537, 'lost': 6833, 'relate': 9492, 'grandparent': 4916, 'insight': 5880, 'network': 7760, 'whispering': 12701, 'properly': 9063, 'desolate': 2991, 'despairing': 2996, 'horro': 5456, 'album': 343, 'embossed': 3687, 'feather': 4179, 'cover': 2506, 'bath': 995, 'knowing': 6421, 'cook': 2414, 'position': 8823, 'queasy': 9199, 'assignment': 729, 'inspiration': 5890, 'kuribayashi': 6447, 'dehydrate': 2875, 'include': 5735, 'strip': 11059, 'football': 4439, 'binge': 1172, 'drinking': 3428, 'hockey': 5371, 'sympathetic': 11327, 'suffer': 11162, 'assume': 739, 'casual': 1720, 'loved': 6851, 'allah': 379, 'injustice': 5850, 'constant': 2336, 'insensitive': 5874, 'unnamed': 12186, 'criticise': 2582, 'industrial': 5790, 'dereliction': 2968, 'downcast': 3381, 'peopl': 8492, 'justice': 6286, 'west': 12658, 'qaf': 9187, 'cryin': 2622, 'jacynthe': 6109, 'lookin': 6810, 'rupaul': 9892, 'scissor': 10063, 'valentine': 12325, 'feed': 4192, 'kayle': 6337, 'gerle': 4724, 'dislike': 3212, 'hesitant': 5304, 'suck': 11151, 'dinner': 3123, 'mouth': 7546, 'julia': 6265, 'defence': 2851, 'lawyer': 6540, 'acute': 166, 'david': 2767, 'deli': 2891, 'exclude': 3979, 'summarily': 11187, 'gratification': 4931, 'blackwells': 1210, 'project': 9042, 'dare': 2741, 'exp': 4010, 'sour': 10725, 'friendship': 4550, 'artistry': 686, 'afterward': 263, 'merely': 7241, 'melt': 7204, 'wind': 12770, 'muse': 7608, 'andrew': 477, 'award': 846, 'ceremony': 1786, 'attend': 787, 'princess': 8978, 'wales': 12537, 'train': 11800, 'capi': 1648, 'riot': 9759, 'quell': 9203, 'pitch': 8657, 'invasion': 6000, '200': 22, '000': 0, 'leeds': 6581, 'carnival': 1689, 'parade': 8323, 'league': 6561, 'championship': 1811, 'tro': 11892, 'shell': 10285, 'shadow': 10245, 'heaven': 5232, 'portion': 8809, 'sparrow': 10747, 'thrilled': 11608, 'drama': 3404, 'eyewitness': 4076, 'shrapnel': 10348, 'shopper': 10323, 'litter': 6741, 'bin': 1170, 'yard': 12935, 'apa': 566, 'chicken': 1883, 'preferably': 8901, 'thighs': 11570, 'skinless': 10474, 'flavor': 4344, 'crock': 2589, 'pot': 8839, 'apart': 567, 'seizure': 10146, 'join': 6213, 'directly': 3134, 'primary': 8970, 'ass': 716, 'thisisntcuteanymore': 11583, 'store': 11006, 'courage': 2499, 'infection': 5808, 'haiku': 5067, 'height': 5250, 'prompt': 9055, 'confession': 2270, 'deject': 2879, 'mellor': 7198, 'royal': 9854, 'bank': 946, 'appropriate': 613, 'venue': 12387, 'representative': 9587, 'linger': 6708, 'reckon': 9388, 'bitter': 1196, 'realistic': 9349, 'expose': 4036, 'image': 5634, 'disappoint': 3150, 'earthquake': 3532, 'christchurch': 1927, 'zealand': 12997, 'pair': 8288, 'harbor': 5123, 'chat': 1846, 'tightly': 11653, 'vividly': 12476, 'accomplish': 117, 'jim': 6190, 'foster': 4478, 'picnic': 8610, 'jeweller': 6181, 'overjoyed': 8212, 'heav': 5231, 'threaten': 11599, 'mummy': 7595, 'sai': 9938, 'insulted': 5917, 'terrific': 11507, 'recruiter': 9411, 'basketball': 988, 'coach': 2075, 'distract': 3264, 'prayer': 8875, 'claw': 2001, 'magic': 6943, 'fighting': 4252, 'literature': 6739, 'relieve': 9514, 'caregiver': 1674, 'grumpy': 5003, '1989': 16, 'libel': 6646, 'proceeding': 9009, 'singapore': 10421, 'government': 4883, 'privy': 8998, 'council': 2476, 'disquiet': 3236, 'treatment': 11855, '37574': 30, 'specific': 10765, 'creep': 2560, 'countless': 2489, 'law': 6536, 'suit': 11177, 'counter': 2485, 'base': 977, 'boo': 1332, 'hoo': 5426, 'civil': 1970, 'regular': 9470, 'greatness': 4947, 'secure': 10132, 'direction': 3132, 'ta': 11342, 'celebrity': 1766, 'widget': 12729, 'orange': 8104, 'squash': 10861, 'fulsome': 4601, 'manner': 7026, 'aren': 639, 'scale': 10015, 'evolution': 3935, 'recording': 9403, 'treadmill': 11848, 'confidential': 2275, 'intermediary': 5959, 'despite': 3001, 'despondency': 3005, 'de': 2783, 'gaulle': 4678, 'hop': 5434, 'bcoz': 1016, 'publicity': 9130, 'topic': 11736, 'back': 885, 'actual': 161, 'instead': 5901, 'rely': 9523, 'solely': 10653, 'opinion': 8084, 'brazilian': 1409, 'lover': 6855, 'increasingly': 5753, 'disconsolat': 3177, 'business': 1551, 'delay': 2887, 'master': 7103, 'occur': 7990, 'odones': 7999, '1984': 13, 'children': 1896, 'washington': 12583, 'dc': 2781, 'loving': 6858, 'brilliant': 1449, 'ald': 348, 'accepted': 103, 'model': 7418, 'consumer': 2354, 'respected': 9640, 'notion': 7894, 'represent': 9585, 'client': 2023, 'concerned': 2245, 'worried': 12861, 'donna': 3339, 'capable': 1645, 'regret': 9466, 'beauty': 1039, 'flawless': 4348, 'heartbeat': 5215, 'elegance': 3644, 'succeed': 11144, 'exercise': 3987, 'painless': 8284, 'match': 7108, 'firmness': 4299, 'confidently': 2276, 'predict': 8893, 'hong': 5419, 'kong': 6430, 'cease': 1759, 'mutter': 7625, 'tiananmen': 11633, 'bland': 1220, 'assurance': 741, 'negotiation': 7729, 'peking': 8470, '1997': 20, 'basic': 983, 'frisky': 4559, 'conference': 2268, 'mailman': 6958, 'obviously': 7977, 'plumb': 8724, 'excuse': 3983, 'enlist': 3783, 'aid': 304, 'courthouse': 2504, 'cheerfully': 1862, 'chamber': 1807, 'page': 8274, 'description': 2978, 'star': 10910, 'hometown': 5407, 'escape': 3855, 'protective': 9080, 'pagetitle': 8276, 'khatsii': 6362, 'google': 4857, 'doodle': 3343, 'pac': 8255, 'goodbye': 4852, 'witness': 12806, 'pen': 8472, 'fixture': 4314, 'snuffle': 10612, 'politic': 8770, 'realm': 9353, 'trick': 11875, 'coffee': 2091, 'function': 4604, 'pocketbook': 8740, 'dear': 2794, 'plunge': 8728, 'extreme': 4059, 'misery': 7372, 'exchange': 3969, 'shrug': 10352, 'enthral': 3805, 'educational': 3581, 'prefer': 8900, 'scatter': 10032, 'rub': 9861, 'thumb': 11621, 'cranston': 2530, 'sorrowful': 10709, 'fac': 4083, 'tutorial': 11963, 'jubilation': 6251, 'disgusting': 3200, 'unworthy': 12260, 'kinship': 6394, 'mount': 7535, 'nausea': 7690, 'bind': 1171, 'nutshell': 7937, 'urgently': 12288, 'relaxation': 9500, 'consideration': 2324, 'cooking': 2417, 'meal': 7157, 'inadvertently': 5712, 'classmate': 1994, 'michael': 7275, 'frown': 4571, 'bewi': 1140, 'satiate': 9989, 'dine': 3115, 'claim': 1974, 'thinly': 11577, 'slice': 10510, 'lime': 6696, 'mineral': 7333, 'humor': 5527, 'pretentious': 8949, 'cambridge': 1613, 'norfolk': 7862, 'soar': 10619, 'agai': 266, 'scabbe': 10012, 'raw': 9320, 'unhealed': 12137, 'underneath': 12074, 'abandon': 49, 'zem': 12999, 'slink': 10516, 'en': 3722, 'zack': 12992, 'reddit': 9417, 'technorati': 11445, 'flip': 4364, 'fifth': 4249, 'grade': 4897, 'yearbook': 12946, 'nostalgia': 7876, 'blue': 1275, 'level': 6636, 'kith': 6402, 'kin': 6381, 'attempt': 786, 'size': 10449, 'spending': 10786, 'wisely': 12794, 'redeem': 9418, 'entirely': 3810, 'frustrated': 4579, 'si': 10360, 'obstacle': 7974, 'leaden': 6556, 'block': 1249, 'another': 530, 'earle': 3520, 'moisturizer': 7433, 'purchase': 9159, 'version': 12395, 'cr': 2518, 'immediately': 5650, 'update': 12265, 'status': 10933, 'tingle': 11673, 'everyfuckingthe': 3924, 'irritated': 6055, 'passive': 8384, 'bs': 1487, 'credit': 2558, 'twitter': 11979, 'contraction': 2388, 'st': 10879, 'sistahs': 10436, 'invigorated': 6011, 'spin': 10798, 'clairee': 1976, 'disregard': 3237, 'forever': 4454, 'trusting': 11917, 'demotivated': 2921, 'up': 12262, 'deserve': 2983, 'horrid': 5452, 'burdened': 1534, 'fob': 4408, 'prank': 8872, 'offer': 8012, 'behaviour': 1068, 'frankly': 4505, 'immature': 5648, 'depress': 2954, 'hated': 5160, 'delighted': 2900, 'chase': 1841, 'obligation': 7960, 'truthful': 11922, 'utmost': 12307, 'loyalty': 6864, 'intelligent': 5931, 'box': 1375, 'preach': 8877, 'republicans': 9598, 'overload': 8215, 'society': 10633, 'outcome': 8156, 'strength': 11040, 'melancholic': 7191, 'pea': 8438, 'ahead': 300, 'suddenly': 11159, 'colombian': 2127, 'gringa': 4971, 'bike': 1163, 'el': 3625, 'amparo': 448, 'wing': 12779, 'inquire': 5862, 'boat': 1292, 'discount': 3180, 'success': 11145, 'favor': 4165, 'temporarily': 11478, 'baffle': 905, 'assaulted': 719, 'unsafe': 12214, 'traffic': 11793, 'vigorous': 12433, 'motivation': 7525, 'consciousness': 2312, 'dispirited': 3228, 'valid': 12327, 'complaint': 2208, 'willing': 12757, 'aspect': 713, 'subjective': 11120, 'defensive': 2855, 'ominous': 8050, 'scar': 10023, 'rhythm': 9718, 'engagement': 3764, 'hawaii': 5180, 'explore': 4032, 'balance': 918, 'rustie': 9901, 'dean': 2793, 'moose': 7480, 'jaw': 6142, 'conceive': 2238, 'peasy': 8449, 'publish': 9132, 'programme': 9033, 'roll': 9804, 'horsley': 5460, 'exhilarate': 3998, 'exci': 3970, 'fridge': 4545, 'snowman': 10609, 'glimpse': 4798, 'nugget': 7916, 'copycat': 2430, 'alive': 377, 'similar': 10398, 'blogging': 1253, 'inhibit': 5839, 'marsilid': 7072, 'patient': 8403, 'disadvantage': 3143, 'advantage': 218, 'weary': 12609, 'abundance': 87, 'keenly': 6339, 'evoke': 3934, 'grittily': 4975, 'alien': 370, 'personality': 8538, 'petrify': 8566, 'reveal': 9687, 'toss': 11752, 'aside': 706, 'gut': 5042, 'splendid': 10815, 'snap': 10576, 'oddly': 7995, 'poke': 8755, 'stimulation': 10983, 'method': 7261, 'distant': 3256, 'happ': 5113, 'biological': 1177, 'clock': 2041, 'wren': 12886, 'possession': 8829, 'lun': 6894, 'mentally': 7229, 'nothnig': 7886, 'someoen': 10672, 'lauge': 6520, 'grown': 4996, 'fondly': 4430, 'anne': 510, 'scientist': 10060, 'independently': 5766, 'fund': 4606, 'communal': 2175, 'lab': 6454, 'supervision': 11217, 'regulation': 9473, 'arlovski': 651, 'ufc': 11997, 'superman': 11211, 'mereka': 7240, 'penyeri': 8490, 'sheet': 10282, 'wryly': 12901, 'banal': 935, 'error': 3853, 'luck': 6876, 'agitate': 284, 'empower': 3717, 'tom': 11713, 'yes': 12958, 'kidding': 6369, 'gym': 5048, 'routine': 9851, 'rack': 9246, 'barefoot': 961, 'hundred': 5534, 'obtain': 7975, 'catch': 1726, 'surgeon': 11242, 'evaluate': 3905, 'sterile': 10960, 'smelling': 10553, 'brim': 1450, 'numerous': 7923, 'grin': 4968, 'hilarious': 5330, 'hy': 5560, 'persevere': 8530, 'storm': 11007, 'rejection': 9486, 'bombing': 1319, 'incident': 5731, 'lyric': 6917, 'hum': 5508, 'outsider': 8180, 'british': 1455, 'mentality': 7228, 'american': 437, 'nature': 7687, 'obnoxious': 7966, 'sermon': 10208, 'research': 9609, 'jerk': 6170, 'devalue': 3035, 'attractive': 794, 'msg': 7563, 'responsible': 9645, 'ridiculous': 9736, 'van': 12337, 'cheele': 1859, 'gabriel': 4626, 'ernes': 3849, 'praise': 8870, 'dicken': 3082, 'naughty': 7689, 'tgirl': 11529, 'cock': 2082, 'paratrooper': 8335, 'conduct': 2263, 'air': 310, 'mission': 7384, 'isn': 6069, 'quorum': 9232, 'weak': 12599, 'susceptible': 11262, 'furthermore': 4618, 'faith': 4104, 'floor': 4375, 'brand': 1400, 'hatch': 5157, 'holland': 5382, 'narrow': 7672, 'taper': 11395, 'chi': 1880, 'ruin': 9880, 'fairy': 4102, 'tale': 11368, 'affair': 237, 'frankie': 4504, 'roughly': 9844, 'le': 6553, 'entrust': 3817, 'secret': 10125, 'goo': 4849, 'indecisive': 5761, 'assault': 718, 'awhile': 857, 'scribble': 10093, 'notebook': 7883, 'pool': 8785, 'scandalous': 10021, 'swimwear': 11309, 'refresh': 9445, 'effort': 3603, 'adventure': 220, 'beating': 1034, 'colour': 2132, 'talent': 11369, 'differently': 3096, 'perfectly': 8505, 'cramp': 2526, 'rating': 9309, 'iris': 6035, 'gain': 4633, 'rise': 9763, 'medical': 7176, 'integrity': 5926, 'dignity': 3104, 'intact': 5922, 'susan': 11260, 'gape': 4653, 'cum': 2641, 'harden': 5128, 'goddess': 4834, 'sift': 10374, 'peeve': 8465, 'remain': 9526, 'unopened': 12191, 'seek': 10137, 'lower': 6861, 'humility': 5525, 'devote': 3049, 'retribution': 9677, 'decent': 2812, 'incentive': 5727, 'dissatisfaction': 3246, 'wheel': 12674, 'chair': 1800, 'maneuverable': 7006, 'confine': 2277, 'exam': 3946, 'freedom': 4523, 'superduperreally': 11205, 'counsel': 2478, 'abusive': 91, 'someday': 10670, 'unmitigate': 12182, 'package': 8262, 'independent': 5765, 'hostage': 5466, 'negotiator': 7730, 'blogge': 1251, 'mainly': 6961, 'contest': 2374, 'indiscriminately': 5780, 'overweight': 8235, 'personally': 8540, 'humble': 5515, 'tape': 11394, 'lancaster': 6482, 'aircraft': 314, 'fly': 4403, 'exact': 3941, 'phrase': 8595, 'dryer': 3451, 'angered': 488, 'hubbard': 5495, 'nurture': 7929, 'bare': 960, 'jon': 6221, 'achievement': 136, 'female': 4206, 'politician': 8772, 'moreso': 7494, 'male': 6980, 'ambulance': 431, 'doc': 3307, 'diazepam': 3080, 'museum': 7610, 'sport': 10833, 'mircowave': 7361, 'protect': 9078, 'bah': 912, 'sip': 10430, 'student': 11084, 'viral': 12456, 'hotline': 5473, 'effectively': 3594, 'sexuality': 10236, 'fiction': 4238, 'expressive': 4041, 'obrian': 7967, 'characterisation': 1826, 'evidence': 3931, 'extend': 4044, 'crew': 2569, 'practical': 8864, 'vegan': 12363, 'snow': 10606, 'emanating': 3676, 'ovary': 8188, 'slowly': 10530, 'shower': 10346, 'gina': 4762, 'bite': 1192, 'sob': 10620, 'echo': 3551, 'lin': 6703, 'menopause': 7223, 'swing': 11311, 'temper': 11470, 'flood': 4374, 'task': 11406, 'ordinary': 8112, 'criminal': 2574, 'century': 1782, 'detail': 3018, 'deny': 2936, 'name': 7657, 'czech': 2693, 'chris': 1924, 'offhand': 8014, 'remark': 9528, 'ethan': 3884, 'mica': 7273, 'jan': 6127, 'sugar': 11170, 'measurement': 7167, 'unprotected': 12200, 'naked': 7653, 'automatically': 825, 'radiant': 9250, 'mid': 7281, 'globe': 4805, 'dust': 3493, 'settle': 10222, 'steam': 10942, 'proclaim': 9012, 'felt': 4205, 'drastically': 3409, 'flux': 4402, 'hon': 5412, 'gentleman': 4712, 'recognise': 9393, 'profound': 9029, 'proposal': 9069, 'bill': 1166, 'immune': 5660, 'plummer': 8725, 'exasperation': 3954, 'vo': 12480, 'ultimately': 12011, 'cousin': 2505, 'meath': 7170, 'ping': 8638, 'rudolph': 9872, 'valentino': 12326, 'perform': 8506, 'unspeakable': 12228, 'forth': 4469, 'notoriously': 7895, 'mif': 7295, 'jaded': 6111, 'euphermal': 3894, 'nd': 7699, 'compete': 2202, 'disney': 3219, 'breakdown': 1413, 'sleeping': 10503, 'pattern': 8415, 'aggravated': 275, 'pointless': 8749, 'uneffected': 12108, 'dosage': 3361, 'thyroid': 11630, 'replacement': 9577, 'supplemental': 11221, 'estrogen': 3877, 'strut': 11074, 'emillionstar': 3693, 'katniss': 6330, 'tense': 11491, 'adjustment': 188, 'entitile': 3811, 'wenner': 12652, 'disconsolate': 3178, 'staff': 10887, 'jagger': 6115, 'opposite': 8093, 'socialize': 10628, 'rememberie': 9535, 'potato': 8840, 'everything': 3926, 'confidence': 2273, 'retire': 9672, 'storage': 11005, 'closet': 2047, 'winter': 12783, 'speedy': 10781, 'clutch': 2067, 'brown': 1475, 'steal': 10941, 'private': 8994, 'industry': 5791, 'citizen': 1968, 'theu': 11563, 'medication': 7179, 'giving': 4774, 'pin': 8634, 'purpose': 9165, 'lock': 6774, 'vault': 12358, 'trophy': 11897, 'extrovert': 4064, 'educated': 3579, 'introvert': 5991, 'item': 6087, 'beachy': 1020, 'california': 1597, 'prom': 9048, 'bewilder': 1142, 'invariably': 5999, 'apologise': 579, 'pill': 8628, 'dr': 3395, 'nut': 7930, 'repeatedly': 9566, 'devastated': 3037, 'schalm': 10044, 'bout': 1368, 'humiliate': 5522, 'yeah': 12944, 'torch': 11740, 'reassuringly': 9365, 'caress': 1675, 'orihime': 8133, 'sincerity': 10417, 'tonk': 11728, 'progress': 9036, 'halfway': 5080, 'enact': 3724, 'succumb': 11150, 'arrogance': 670, 'clarify': 1985, 'premonition': 8915, 'subconscious': 11113, 'disaster': 3156, 'sacrifice': 9922, 'swath': 11287, 'frequency': 4533, 'cringe': 2575, 'dumbfounded': 3476, 'offspring': 8023, 'depressio': 2958, 'sinus': 10429, 'unreasonable': 12206, 'ministry': 7347, 'nowadays': 7904, 'trouser': 11904, 'bu': 1491, 'unfulfilled': 12130, 'hardcore': 5126, 'sxe': 11320, 'overwhelming': 8238, 'caleb': 1592, 'comus': 2235, 'inn': 5855, 'blatant': 1226, 'defiance': 2859, 'olivia': 8041, 'prominent': 9049, 'characteristic': 1827, 'topple': 11738, 'knuckle': 6425, 'ridged': 9733, 'glum': 4821, 'manager': 6997, 'graham': 4903, 'taylor': 11419, 'intention': 5940, 'quittin': 9225, 'philosophy': 8582, 'comforting': 2155, 'humorous': 5528, 'instructor': 5909, 'object': 7956, 'repetetive': 9573, 'bathsheba': 999, 'closely': 2046, 'miserabl': 7370, 'accident': 109, 'left': 6583, 'dad': 2696, 'mysalvagedtreasure': 7631, 'creaminess': 2544, 'lightness': 6678, 'compliment': 2221, 'freaky': 4519, 'agility': 282, 'measure': 7166, 'warsaw': 12578, 'fancy': 4127, 'mishap': 7376, 'matthew': 7120, 'penknife': 8482, 'slit': 10519, 'fresh': 4537, 'fig': 4250, 'dry': 3450, 'quad': 9188, 'aggravating': 276, 'marathon': 7038, 'upbeat': 12263, 'googler': 4858, 'pack': 8261, 'reno': 9554, 'divor': 3294, 'muscle': 7607, 'heartedly': 5223, 'sexual': 10235, 'ridiculously': 9737, 'holiday': 5380, 'journalism': 6239, 'bro': 1459, 'naturally': 7686, 'needlessly': 7720, 'himse': 5337, 'duno': 3485, 'ther': 11556, 'mi': 7270, 'giggle': 4754, 'nervously': 7751, 'finge': 4280, 'sew': 10230, 'graced': 4892, 'wart': 12579, 'worm': 12857, 'conflict': 2280, 'luka': 6886, 'chore': 1922, 'vulturous': 12508, 'sic': 10363, 'poisonous': 8754, 'teenaged': 11452, 'pimple': 8633, 'behold': 1070, 'indulge': 5787, 'intensity': 5937, 'driver': 3433, 'flogger': 4372, 'wield': 12733, 'tragedy': 11796, 'xxx': 12929, 'cafeteria': 1582, 'feels': 4199, 'benedict': 1102, 'overturn': 8234, 'gesture': 4733, 'fury': 4619, 'th': 11531, 'skip': 10478, 'fair': 4100, 'xia': 12920, 'lenin': 6610, 'genuinely': 4716, 'cautious': 1744, 'shade': 10244, 'orgasm': 8125, 'boob': 1333, 'stumble': 11090, 'shape': 10262, 'tower': 11779, 'malmesbury': 6987, 'wiltsh': 12764, 'unfold': 12124, 'adopt': 204, 'discuss': 3188, 'handed': 5095, 'ginger': 4763, 'scrub': 10097, 'slum': 10536, 'huddled': 5499, 'masse': 7099, 'starlight': 10913, 'thousand': 11595, 'bye': 1565, 'ember': 3685, 'oneself': 8058, 'thoroughly': 11589, 'companion': 2186, 'differ': 3093, 'vibration': 12411, 'tubing': 11939, 'climbing': 2029, 'nipigon': 7823, 'sledding': 10499, 'warp': 12576, 'amusement': 460, 'underwear': 12088, 'sleet': 10507, 'subside': 11134, 'infectious': 5809, 'readily': 9338, 'saddened': 9925, 'religion': 9516, 'quilting': 9219, 'sewing': 10232, 'lik': 6683, 'lipstick': 6720, 'require': 9603, 'adult': 213, 'exhibit': 3995, 'portugal': 8816, 'critical': 2580, 'philosophical': 8581, 'context': 2375, 'factor': 4092, 'earley': 3521, 'acquainted': 147, 'educate': 3578, 'educationg': 3582, 'mama': 6989, 'papa': 8317, 'whiskey': 12698, 'department': 2941, 'dvd': 3499, 'calgary': 1596, 'pb': 8434, 'balanced': 919, 'subconsciously': 11114, 'display': 3230, 'nakedness': 7654, 'maid': 6955, 'wipe': 12787, 'window': 12772, 'curtain': 2663, 'gold': 4840, 'induce': 5786, 'frantic': 4506, 'barro': 974, 'christmassy': 1934, 'wade': 12514, 'dialog': 3069, 'flakiness': 4325, 'snippy': 10596, 'mirror': 7363, 'ugliness': 12002, 'annul': 524, 'mixed': 7402, 'significantly': 10386, 'ness': 7753, 'targeted': 11399, 'ease': 3533, 'mask': 7092, 'disorder': 3220, 'changez': 1816, 'recline': 9391, 'morosely': 7503, 'cultivate': 2637, 'noise': 7837, 'hood': 5427, 'sweater': 11292, 'talente': 11370, 'scenario': 10035, 'morally': 7489, 'prolonged': 9047, 'contact': 2358, 'subsequently': 11133, 'incapable': 5722, 'homelessness': 5396, 'rang': 9288, 'joanna': 6199, 'message': 7252, 'ela': 3626, 'hamper': 5088, 'shoulder': 10340, 'duff': 3468, 'stuck': 11079, 'che': 1850, 'wrap': 12881, 'jun': 6276, 'bodypump': 1302, 'gather': 4673, 'compulsory': 2233, 'cue': 2630, 'worthy': 12870, 'tough': 11765, 'caller': 1601, 'hopefully': 5438, 'scientific': 10059, 'itch': 6084, 'windy': 12774, 'beach': 1018, 'vow': 12500, 'scafell': 10014, 'unbearably': 12031, 'invade': 5998, 'korea': 6431, 'kim': 6380, 'jong': 6226, 'un': 12020, 'previously': 8958, 'trope': 11896, 'grouchy': 4986, 'rider': 9732, 'stamina': 10899, 'percieve': 8500, 'power': 8856, 'justify': 6289, 'laziness': 6547, 'skinny': 10476, 'actress': 160, 'entertainment': 3804, 'qualm': 9194, 'autumn': 827, 'andthenwear': 479, 'ugh': 12000, 'twd': 11968, 'dual': 3455, 'excellence': 3960, 'tedious': 11448, 'superhero': 11207, 'emptiness': 3719, 'request': 9602, 'deity': 2878, 'guitarist': 5027, 'musician': 7616, 'prideful': 8966, 'sculpt': 10101, 'town': 11780, 'viste': 12469, 'south': 10727, 'florida': 4381, 'sock': 10635, 'omg': 8049, 'doomed': 3346, 'failure': 4098, 'abyss': 92, 'butterfly': 1558, 'bac': 883, 'beneficial': 1106, 'hat': 5156, 'emily': 3694, 'direct': 3131, 'dm': 3303, 'jeff': 6157, 'forwards': 4477, 'exspress': 4043, 'appriciation': 610, 'mudder': 7573, 'command': 2160, 'litsen': 6740, 'birth': 1183, 'amazingly': 424, 'guitar': 5026, 'appointment': 603, 'osteopath': 8143, 'boulder': 1362, 'intense': 5934, 'fix': 4312, 'refreshing': 9446, 'energize': 3756, 'cloud': 2053, 'gander': 4648, 'donut': 3342, 'equally': 3837, 'custom': 2670, 'orthotic': 8139, 'africans': 259, 'umpire': 12018, 'cumberbatch': 2642, 'signal': 10383, 'wi': 12722, 'sno': 10597, 'vile': 12434, 'brood': 1467, 'gnaw': 4826, 'civilly': 1973, 'del': 2885, 'bore': 1344, 'pant': 8313, 'bagel': 908, 'accidentally': 110, 'jalapeno': 6121, 'bullet': 1513, 'typical': 11988, 'switzerland': 11316, 'uni': 12139, 'lake': 6475, 'coz': 2516, 'alexis': 359, 'trigger': 11880, 'eating': 3541, 'virus': 12462, 'flu': 4391, 'yea': 12943, 'interrupt': 5970, 'hoarse': 5363, 'chuc': 1942, 'stack': 10884, 'carrry': 1700, 'observer': 7970, 'sce': 10034, 'shot': 10336, 'terbutaline': 11496, 'thick': 11566, 'drag': 3399, 'oil': 8028, 'underlying': 12073, 'texture': 11528, 'wood': 12834, 'extra': 4054, 'grimace': 4966, 'scenery': 10037, 'anniversary': 512, 'cruise': 2612, 'definately': 2862, 'refuse': 9451, 'patrick': 8407, 'foyles': 4487, 'bookshop': 1336, 'maze': 7139, 'nook': 7857, 'corne': 2440, 'exciting': 3976, 'sensory': 10183, 'bombardment': 1317, 'respond': 9642, 'negativity': 7726, 'illusion': 5630, 'release': 9504, 'intentional': 5941, 'monster': 7466, 'traitor': 11805, 'protein': 9082, 'quick': 9211, 'informality': 5822, 'credential': 2557, 'sentimental': 10187, 'comfort': 2152, 'mention': 7230, 'animator': 502, 'pixar': 8664, 'outdo': 8158, 'annotation': 514, 'thequeenbuzz': 11555, 'tight': 11651, 'kit': 6400, 'site': 10440, 'beautifully': 1038, 'curate': 2648, 'irrationally': 6045, 'cammie': 1618, 'unfair': 12116, 'savor': 10005, 'anticipation': 541, 'abide': 58, 'roommate': 9821, 'illogically': 5629, 'comfy': 2156, 'subscription': 11131, 'lawn': 6537, 'diana': 3073, 'criticism': 2583, 'avidly': 836, 'desponden': 3003, 'retro': 9678, 'plenty': 8717, 'nurse': 7926, 'tearfully': 11434, 'physician': 8599, 'situati': 10445, 'sheriff': 10289, 'explanation': 4027, 'exaspera': 3950, 'somethin': 10675, 'cheer': 1860, 'endure': 3750, 'tablet': 11346, 'wallet': 12544, 'ipad': 6022, 'reground': 9468, 'discussion': 3189, 'diverse': 3285, 'igle': 5614, 'leaving': 6576, 'swamp': 11283, 'uncare': 12039, 'unfeele': 12120, 'apathetic': 569, 'humanbeing': 5510, 'hurriedly': 5549, 'sta': 10880, 'transfer': 11819, 'website': 12619, 'unit': 12158, 'drown': 3439, 'aspire': 715, 'min': 7323, 'zine': 13010, 'inspired': 5892, 'observe': 7969, 'avenue': 832, 'goin': 4838, 'moshav': 7512, 'dancin': 2727, 'beatle': 1035, 'wife': 12736, 'convey': 2404, 'straightforwardness': 11020, 'sleepless': 10504, 'colic': 2110, 'newborn': 7772, 'blush': 1284, 'recreational': 9410, 'unwillingly': 12255, 'willingly': 12758, 'thanksgive': 11542, 'misunderstood': 7397, 'maintain': 6963, 'demeanor': 2910, 'benevolent': 1108, 'honor': 5422, 'cling': 2030, 'clarity': 1987, 'gutte': 5043, 'hall': 5081, 'residence': 9620, 'ball': 923, 'nicely': 7790, 'tool': 11730, 'revel': 9689, 'afford': 246, 'zombie': 13015, 'lunchtime': 6899, 'await': 843, 'visitor': 12467, 'affect': 239, 'paris': 8344, 'tend': 11484, 'breast': 1418, 'clinic': 2032, 'leare': 6569, 'acclimated': 111, 'organization': 8120, 'substance': 11137, 'definetly': 2864, 'court': 2502, 'martialle': 7075, 'unpopular': 12196, 'governor': 4884, 'acquit': 149, 'flatter': 4341, 'homely': 5397, 'cubicle': 2628, 'broken': 1463, 'ticket': 11638, 'aussy': 811, 'overeat': 8204, 'mccready': 7145, 'dejectio': 2882, 'assistant': 733, 'rope': 9825, 'cauldron': 1739, 'suspend': 11264, 'boiling': 1309, 'forked': 4462, 'spi': 10788, 'vaguely': 12319, 'placement': 8672, 'fattie': 4161, 'pre': 8876, 'dignify': 3103, 'smirk': 10557, 'black': 1203, 'ink': 5851, 'spilling': 10796, 'spell': 10782, 'scim': 10062, 'backyard': 897, 'scotch': 10071, 'intended': 5933, 'shopping': 10324, 'expedition': 4018, 'consecutive': 2315, 'dullness': 3472, 'bored': 1345, 'unsatisfie': 12215, 'expectation': 4017, 'professionalism': 9023, 'specification': 10767, 'maintenance': 6964, 'valued': 12335, 'fiercely': 4245, 'retail': 9667, 'therapy': 11560, 'al': 331, 'sa': 9912, 'shine': 10299, 'brightness': 1447, 'dispel': 3227, 'eline': 3657, 'disappointing': 3152, 'tick': 11636, 'keyboard': 6356, 'spill': 10795, 'screen': 10088, 'participant': 8359, 'elat': 3629, 'bleu': 1239, 'calculated': 1591, 'rainy': 9271, 'unkempt': 12170, 'promotional': 9054, 'advertisement': 226, 'commercial': 2165, 'dialogue': 3070, 'dismayed': 3216, 'roster': 9836, 'housekeep': 5480, 'ebaye': 3543, 'toon': 11731, 'guild': 5020, 'recur': 9412, 'glance': 4784, 'sidewalk': 10371, 'psycho': 9111, 'fetish': 4226, 'grunt': 5004, 'henry': 5280, 'leapt': 6568, 'kitchen': 6401, 'disrupt': 3240, 'feminine': 4208, 'playing': 8702, 'masculine': 7088, 'invigorate': 6010, 'sluggish': 10535, 'ffviii': 4234, 'thrilling': 11610, 'theatre': 11547, 'egyptian': 3613, 'youngster': 12981, 'label': 6455, 'assimilate': 730, 'defective': 2850, 'creation': 2549, 'crowded': 2602, 'farmer': 4140, 'jean': 6150, 'askin': 708, 'admission': 196, 'apostrophe': 582, 'particular': 8361, 'combination': 2140, 'rough': 9843, 'synthetic': 11337, 'pearl': 8447, 'jewelry': 6183, 'trinket': 11885, 'auguste': 808, 'shoot': 10320, 'indignant': 5776, 'gla': 4775, 'cancer': 1631, 'trauma': 11837, 'mac': 6920, 'ep': 3828, 'ps': 9104, 'odeon': 7997, 'spain': 10737, 'habit': 5053, 'fish': 4304, 'moderately': 7419, 'tendency': 11485, 'tank': 11390, 'container': 2360, 'utter': 12308, 'throat': 11613, 'paige': 8279, 'careful': 1672, 'discontent': 3179, 'timmy': 11668, 'ytear': 12985, 'justwhen': 6293, 'futrue': 4622, 'timesa': 11664, 'efeele': 3589, 'bodys': 1303, 'limitation': 6699, 'warning': 12575, 'radical': 9253, 'agony': 294, 'alarmed': 337, 'olden': 8038, 'sarawak': 9977, 'parallel': 8327, 'jugra': 6262, 'chronicle': 1938, 'actor': 159, 'onscreen': 8063, 'alight': 371, 'hotel': 5471, 'bellman': 1084, 'pressured': 8941, 'fodder': 4412, 'commitment': 2169, 'commit': 2168, 'dedicated': 2832, 'youth': 12982, 'education': 3580, 'knot': 6419, 'rapport': 9301, 'roslin': 9834, 'veiled': 12371, 'amusem': 459, 'puzzled': 9180, 'pelvis': 8471, 'bump': 1520, 'thump': 11623, 'wheeler': 12676, 'flush': 4398, 'annoyance': 519, 'laug': 6519, 'unmove': 12185, 'intent': 5939, 'leo': 6615, 'clara': 1982, 'togehter': 11707, 'safety': 9935, 'canadas': 1627, 'supply': 11224, 'inspection': 5887, 'agency': 269, 'govern': 4880, 'contain': 2359, 'undercurrent': 12066, 'subtle': 11139, 'def': 2844, 'apothecary': 583, 'romeo': 9814, 'juliet': 6269, 'comparison': 2191, 'youtube': 12984, 'mis': 7364, 'stepping': 10957, 'dishonor': 3206, 'medicine': 7180, 'quest': 9206, 'smell': 10552, 'taiwan': 11362, 'frequently': 4535, 'shop': 10322, 'euphoria': 3895, 'accompany': 116, 'boom': 1339, '1980': 12, 'western': 12659, 'recessio': 9382, 'recover': 9407, 'entertain': 3800, 'franz': 4508, 'liebkind': 6658, 'fuhrer': 4592, 'dancer': 2726, 'cavalier': 1746, 'trim': 11881, 'spoil': 10820, 'breed': 1427, 'coat': 2077, 'rocker': 9792, 'buff': 1502, 'traditional': 11790, 'headphone': 5199, 'polyamorous': 8777, 'colleague': 2117, 'lloyd': 6760, 'grossman': 4984, 'ditch': 3278, 'calorie': 1607, 'intake': 5923, 'mere': 7239, 'fulfil': 4593, 'inhibited': 5840, 'public': 9127, 'land': 6484, 'ancestral': 471, 'sparkle': 10744, 'meningioma': 7222, 'benign': 1110, 'science': 10058, 'tremendously': 11861, 'squeeze': 10866, 'else': 3667, 'yuuki': 12990, 'wexford': 12665, 'elation': 3631, 'chief': 1885, 'inspector': 5888, 'bef': 1055, 'wicked': 12724, 'consciously': 2311, 'register': 9464, 'constrained': 2343, 'bothered': 1357, 'ehb': 3616, 'ow': 8242, 'manchester': 6999, 'blackpool': 1209, 'flexible': 4355, 'fulfill': 4594, 'duty': 3496, 'understanding': 12081, 'possibly': 8832, 'concept': 2242, 'grocery': 4980, 'browse': 1478, 'net': 7757, 'recipe': 9383, 'brittney': 1458, 'conductor': 2264, 'cavatina': 1747, 'singer': 10423, 'narcissism': 7670, 'justifying': 6290, 'possibility': 8830, 'fourteen': 4483, 'alter': 407, 'perception': 8498, 'briant': 1433, 'eyebrow': 4069, 'bash': 980, 'supreme': 11234, 'memoir': 7212, 'qualify': 9192, 'classwork': 1996, 'unreasonably': 12207, 'idiosyncrasy': 5602, 'stillness': 10978, 'opiate': 8082, 'infant': 5805, 'merry': 7247, 'addiction': 175, 'acuity': 164, 'entitled': 3813, 'relive': 9519, 'prequel': 8926, 'jedi': 6154, 'queen': 9200, 'strain': 11021, 'legal': 6586, 'angle': 490, 'gallow': 4639, 'original': 8129, 'naive': 7650, 'quietly': 9216, 'ecsta': 3559, 'biscuit': 1186, 'crisp': 2578, 'randomly': 9286, 'cd': 1756, 'kava': 6335, 'vanuatu': 12345, 'chai': 1798, 'sulfate': 11183, 'reputable': 9600, 'perfection': 8504, 'temperature': 11472, 'conspire': 2333, 'remorse': 9544, 'process': 9010, 'gervase': 4731, 'pipe': 8647, 'spouse': 10838, 'unsung': 12235, 'nutmeg': 7931, 'ab': 48, 'lev': 6635, 'eachother': 3514, 'cleansing': 2007, 'tortured': 11748, 'migrate': 7299, 'oviedo': 8241, 'infuriated': 5829, 'mob': 7412, 'prevent': 8954, 'lynch': 6916, 'distinguished': 3262, 'melndez': 7200, 'valds': 12322, 'priest': 8967, 'allergy': 385, 'tommy': 11716, 'maudie': 7126, 'wonde': 12826, 'handsome': 5104, 'darling': 2749, 'hook': 5428, 'acquire': 148, 'tranquil': 11812, 'pochayiv': 8738, 'monastery': 7453, 'govrenment': 4885, 'pension': 8487, 'oomph': 8067, 'aaron': 47, 'spaniard': 10739, 'wildly': 12748, 'fortitude': 4470, 'score': 10068, 'massively': 7101, 'suicidal': 11174, 'nyc': 7941, 'jersey': 6173, 'reality': 9350, 'powerless': 8858, 'paula': 8419, 'squeak': 10864, 'baachan': 870, 'trolley': 11893, 'blood': 1263, 'outta': 8185, 'heaaa': 5188, 'watcher': 12590, 'married': 7068, 'test': 11518, 'ultimate': 12010, 'advance': 216, 'stink': 10986, 'lightly': 6676, 'rarely': 9305, 'assert': 722, 'karin': 6318, 'produce': 9014, 'fiercly': 4247, 'completly': 2214, 'overtly': 8231, 'unwittingly': 12258, 'grandpare': 4915, 'energized': 3757, 'constructive': 2347, 'recall': 9373, 'woodstock': 12838, 'thanksgiving': 11543, 'hobby': 5367, 'cost': 2468, 'judgment': 6257, 'pinter': 8642, 'media': 7175, 'cache': 1578, 'ec': 3548, 'whitley': 12708, 'influence': 5817, 'hollywood': 5388, 'evolve': 3936, 'hierarchy': 5321, 'depressive': 2960, 'christian': 1928, 'dead': 2785, 'crawl': 2536, 'infect': 5807, 'disea': 3192, 'winey': 12778, 'lush': 6908, 'scummy': 10103, 'clench': 2012, 'pour': 8851, 'extension': 4046, 'goddamned': 4833, 'hopelessly': 5440, 'prone': 9058, 'stereotypical': 10959, 'bullshit': 1516, 'grain': 4904, 'salt': 9950, 'australian': 815, 'kay': 6336, 'sunrise': 11199, 'slide': 10511, 'throbbing': 11615, 'wayne': 12596, 'nikki': 7816, 'minaj': 7324, 'drake': 3403, 'dope': 3352, 'epic': 3830, 'theater': 11546, 'frailty': 4494, 'gulam': 5028, 'ali': 366, 'classical': 1993, 'suspense': 11265, 'springer': 10844, 'build': 1507, 'programming': 9034, 'mopping': 7484, 'tidying': 11644, 'accord': 120, 'opponent': 8090, 'po': 8737, 'blind': 1240, 'bleed': 1233, 'biopsy': 1179, 'legacy': 6585, 'outlet': 8168, 'titan': 11686, 'lumber': 6890, 'stamp': 10901, 'raider': 9265, 'underf': 12068, 'granting': 4919, 'log': 6779, 'sl': 10484, 'fuckin': 4587, 'mcraven': 7151, 'ut': 12306, 'div': 3282, 'plusone': 8732, 'data': 2757, 'datum': 2761, 'wilcfry': 12745, 'sunny': 11198, 'separation': 10193, 'akward': 330, 'unusual': 12246, 'mistress': 7393, 'mince': 7325, 'frilly': 4558, 'bloomer': 1267, 'babydoll': 878, 'multi': 7585, 'coloured': 2133, 'tought': 11767, 'gunong': 5034, 'ledang': 6579, 'mountain': 7536, 'puteri': 9176, 'legend': 6588, 'jungle': 6279, 'prolific': 9045, 'fandom': 4128, 'dao': 2738, 'jump': 6273, 'spite': 10812, 'erupt': 3854, 'vicious': 12414, 'lurker': 6906, 'void': 12489, 'pursue': 9169, 'divert': 3288, 'weakness': 12600, 'wee': 12622, 'permission': 8520, 'bun': 1522, 'uninstalling': 12147, 'skype': 10483, 'deactivate': 2784, 'hatena': 5162, 'account': 122, 'hateful': 5161, 'luminary': 6892, 'swinelord': 11310, 'deluxe': 2907, 'lex': 6639, 'martha': 7074, 'misty': 7395, 'agonize': 292, 'treble': 11856, 'adf': 183, 'unity': 12161, 'rite': 9768, 'consecrate': 2314, 'charity': 1833, 'dorama': 3354, 'photographer': 8589, 'weave': 12612, 'bridesmaid': 1437, 'clamor': 1978, 'imply': 5678, 'rumour': 9885, 'improvement': 5699, 'parting': 8364, 'landlor': 6486, 'incest': 5729, 'apologize': 580, 'overall': 8192, 'thankfully': 11540, 'ia': 5580, 'prescribed': 8931, 'gt': 5005, 'lt': 6869, 'avoid': 837, 'folkeskole': 4422, 'hasn': 5153, 'rosa': 9826, 'chasm': 1843, 'vinnie': 12444, 'kompany': 6429, 'joleon': 6218, 'kolo': 6428, 'toure': 11769, 'giveaway': 4772, 'generation': 4700, 'belief': 1076, 'attain': 784, 'compromise': 2231, 'analyze': 468, 'solitary': 10659, 'adoption': 205, 'teenager': 11453, 'ellie': 3664, 'douche': 3371, 'baggy': 910, 'lothaire': 6835, 'straight': 11017, 'grandmother': 4913, 'philip': 8578, 'lemon': 6601, 'basically': 984, 'griffin': 4965, 'moss': 7514, 'enigmatic': 3775, 'sabine': 9915, 'strohem': 11062, 'pacific': 8259, 'isl': 6063, 'editor': 3572, 'teachable': 11426, 'tiphany': 11679, 'caption': 1653, 'making': 6976, 'affectionately': 242, 'wonderfully': 12830, 'sparsh': 10749, 'resilient': 9627, 'grie': 4961, 'everyone': 3925, 'departure': 2942, 'distanced': 3255, 'shh': 10291, 'schoolboy': 10052, 'alumninium': 415, 'square': 10860, 'beholder': 1071, 'pained': 8281, 'tone': 11720, 'chukey': 1947, 'inapporpriate': 5714, 'fergie': 4215, 'drawing': 3413, 'artwork': 687, 'stiff': 10972, 'persona': 8535, 'crud': 2608, 'determine': 3026, 'springpad': 10846, 'amorphous': 444, 'blogland': 1254, 'soda': 10637, 'vacation': 12315, 'mayhem': 7137, 'overwhelmingly': 8239, 'wither': 12802, 'aggravate': 274, 'bizarre': 1200, 'sexually': 10237, 'wince': 12769, 'usher': 12302, 'toll': 11711, 'derp': 2972, 'lrt': 6867, 'swallow': 11282, 'bridgewater': 1441, 'unhealthy': 12138, 'yahoo': 12931, 'tether': 11522, 'suitcase': 11179, 'cashmere': 1712, 'rainboot': 9268, 'publication': 9129, 'cellular': 1772, 'pleasure': 8715, 'wild': 12746, 'destiny': 3010, 'enthusiastic': 3808, 'sand': 9961, 'snorkeling': 10604, 'correspond': 2457, 'catsa': 1738, 'canada': 1626, 'bathing': 997, 'impression': 5693, 'banjo': 945, 'molly': 7439, 'katy': 6333, 'perry': 8526, 'purrrr': 9168, 'encouragement': 3737, 'tall': 11377, 'regardless': 9454, 'regularly': 9471, 'meditation': 7183, 'horr': 5447, 'wander': 12553, 'market': 7061, 'continuously': 2384, 'suicidalness': 11175, 'dig': 3099, 'apprise': 611, 'security': 10133, 'peach': 8442, 'cake': 1589, 'extraordinary': 4057, 'ji': 6185, 'lokpal': 6789, 'protest': 9083, 'unlove': 12179, 'frustrating': 4581, 'delivery': 2904, 'strike': 11054, 'liriano': 6724, 'script': 10094, 'briar': 1434, 'beagle': 1024, 'souless': 10718, 'surrounding': 11255, 'lighthearted': 6674, 'banter': 950, 'mark': 7059, 'informational': 5824, 'dummy': 3477, 'playground': 8700, 'alert': 352, 'parental': 8340, 'doorknob': 3349, 'clo': 2040, 'twinge': 11974, '70': 37, 'cent': 1778, 'commuter': 2184, 'aisl': 321, 'tune': 11951, 'pia': 8602, 'hostel': 5467, 'toe': 11704, 'hole': 5378, 'hookah': 5429, 'angled': 491, 'muas': 7568, 'powder': 8854, 'cheek': 1858, 'temple': 11476, 'chin': 1901, 'predominantly': 8897, 'arrange': 663, 'previous': 8957, 'ingredient': 5835, 'perverse': 8550, 'hey': 5309, 'snotface': 10605, 'review': 9700, 'fave': 4164, 'women': 12825, 'enter': 3799, 'semipro': 10165, 'lap': 6498, 'phoenix': 8585, 'pimp': 8632, 'raini': 9270, 'rocky': 9796, 'casting': 1718, 'chatting': 1849, 'superbike': 11204, 'cbs': 1753, 'sportsline': 10834, 'irl': 6039, 'expand': 4011, 'bouquet': 1367, 'yellow': 12955, 'tulip': 11946, 'friggin': 4552, 'bugger': 1506, 'parkhurst': 8347, 'attitude': 791, 'sweat': 11291, 'drip': 3429, 'ron': 9816, 'joseph': 6232, 'french': 4531, 'blonde': 1262, 'quo': 9231, 'asian': 705, 'torso': 11746, 'sorta': 10712, 'arouse': 662, 'acutely': 167, 'osp': 8142, 'rand': 9284, 'aversion': 835, 'outer': 8161, 'affirmation': 245, 'pret': 8947, 'baptize': 952, 'devoted': 3050, 'luckily': 6877, 'knitting': 6417, 'glibly': 4797, 'newcomer': 7773, 'knittin': 6416, 'philippa': 8579, 'king': 6390, 'enamour': 3725, 'flowy': 4389, 'springy': 10847, 'refocus': 9442, 'restore': 9656, 'kneel': 6410, 'hapiness': 5112, 'gambia': 4641, 'supping': 11219, 'modern': 7420, 'alre': 404, 'someone': 10673, 'board': 1288, 'airbus': 312, 'hazy': 5186, 'route': 9850, 'honolulu': 5421, 'apron': 623, 'attribute': 795, 'wire': 12788, 'louder': 6842, 'ppl': 8861, 'ladder': 6466, 'shallow': 10253, 'bla': 1201, 'shaken': 10249, 'printing': 8982, 'quiltcon': 9218, 'lizzy': 6755, 'unlovable': 12178, 'magical': 6944, 'backstage': 894, 'skiiing': 10466, 'gradually': 4899, 'tyr': 11990, 'sorted': 10713, 'horsey': 5459, 'rare': 9304, 'jolt': 6220, 'electricity': 3641, 'socially': 10630, 'billy': 1169, 'wintry': 12785, 'scene': 10036, 'gui': 5016, 'excitment': 3977, 'ari': 645, 'ben': 1098, 'menashe': 7220, 'entitle': 3812, 'profit': 9028, 'war': 12562, 'mousavi': 7541, 'manuchehr': 7032, 'ghorbani': 4745, 'cia': 1953, 'vegetarian': 12366, 'animal': 500, 'slaughter': 10495, 'soley': 10655, 'video': 12422, 'obsession': 7972, 'sustainabilitys': 11271, 'hinder': 5338, 'seal': 10109, 'hunt': 5541, 'akin': 327, 'hitler': 5354, 'ie': 5610, 'angel': 484, 'poison': 8753, 'chalice': 1803, 'prepare': 8921, 'slave': 10496, 'specifically': 10766, 'surgery': 11243, 'emergency': 3692, 'host': 5465, 'growl': 4995, 'gently': 4713, 'copy': 2429, 'patience': 8402, 'voter': 12499, 'economic': 3556, 'tory': 11751, 'precede': 8880, 'aga': 265, 'inconsolable': 5749, 'symphony': 11331, 'ri': 9720, 'supermarket': 11212, 'dentist': 2935, 'similarity': 10399, 'amsterdam': 454, 'sickness': 10367, 'cultural': 2638, 'mindset': 7330, 'morose': 7502, 'prepared': 8922, 'graduate': 4900, 'elder': 3633, 'darby': 2740, 'crestfallen': 2568, 'fin': 4266, 'soooo': 10691, 'crazy': 2540, 'jordan': 6230, 'distraction': 3266, 'september': 10195, 'realness': 9354, 'portrayal': 8815, 'condition': 2258, 'bachelorette': 884, 'drained': 3402, 'bliss': 1244, 'opt': 8097, 'photojournalistically': 8592, 'prop': 9061, 'crotch': 2599, 'hip': 5346, 'inner': 5858, 'toughen': 11766, 'myelf': 7629, 'typically': 11989, 'persist': 8531, 'background': 889, 'pt': 9119, 'palpably': 8300, 'bell': 1081, 'ruth': 9905, 'stumped': 11091, 'specially': 10761, 'continental': 2378, 'purely': 9162, 'asbestos': 694, 'psychologist': 9114, 'gender': 4691, 'dysphoria': 3512, 'fend': 4213, 'loser': 6831, 'disgust': 3198, 'query': 9205, 'abbigail': 53, 'apraxia': 621, 'virtually': 12460, 'stammer': 10900, 'phoebe': 8584, 'scrawled': 10083, 'memo': 7211, 'exfoliate': 3991, 'lisa': 6725, 'confess': 2269, 'julie': 6267, 'undress': 12099, 'suspect': 11263, 'elizabeth': 3661, 'dreary': 3420, 'village': 12435, 'sawbone': 10008, 'dishonest': 3205, 'unlikeable': 12175, 'maggie': 6940, 'stir': 10989, 'in': 5704, 'sell': 10160, 'minority': 7351, 'establish': 3867, 'launch': 6524, 'simultaneously': 10410, 'recount': 9404, 'manipulkate': 7020, 'lucy': 6879, 'alcohol': 345, 'darken': 2743, 'suffocate': 11167, 'blanket': 1222, 'avoidable': 838, 'eyesight': 4075, 'dersingham': 2973, 'please': 8711, 'semester': 10163, 'practically': 8865, 'plague': 8673, 'uncanny': 12038, 'wrestle': 12888, 'inclination': 5733, 'shame': 10256, 'seller': 10161, 'battering': 1004, 'banking': 948, 'vote': 12498, 'labour': 6457, 'estrangement': 3876, 'unlike': 12174, 'batman': 1000, 'report': 9582, 'mangoes': 7009, 'getyourprettyon': 4740, 'span': 10738, 'font': 4432, 'hi': 5312, 'cathy': 1737, 'fluster': 4400, 'deepen': 2839, 'realization': 9351, 'dazed': 2778, 'alarming': 338, 'wholeness': 12713, 'reduce': 9424, 'welfare': 12647, 'battle': 1007, 'juice': 6263, 'stuckin': 11080, 'addison': 176, 'range': 9289, 'russell': 9897, 'crowe': 2603, 'robin': 9786, 'merida': 7243, 'stoned': 10999, 'endorphin': 3747, 'seize': 10145, 'petrified': 8565, 'economy': 3558, 'rudy': 9873, 'tug': 11943, 'peanut': 8445, 'degree': 2874, 'biology': 1178, 'poope': 8787, 'amusing': 461, 'slug': 10533, 'disgruntled': 3196, 'sting': 10984, 'iv': 6094, 'dwell': 3502, 'intimated': 5979, 'devastating': 3038, 'giddy': 4750, 'intelligence': 5930, 'visual': 12470, 'goalpost': 4829, 'banne': 949, 'ica': 5585, 'association': 736, 'kill': 6373, 'hive': 5355, 'official': 8018, 'clip': 2037, 'tattoo': 11414, 'peggy': 8468, 'mara': 7037, 'quote': 9234, 'disdainful': 3191, 'leisurely': 6598, 'trailer': 11799, 'dejection': 2883, 'matt': 7118, 'reminiscence': 9541, 'rapidl': 9297, 'chill': 1897, 'investment': 6009, 'stephanie': 10955, 'setback': 10219, 'honesty': 5417, 'eepctqlhiafjwnrrmas': 3587, 'officially': 8019, 'missgiving': 7383, 'relatively': 9498, 'smoothly': 10567, 'elicit': 3654, 'mp': 7557, 'wet': 12664, 'soft': 10642, 'rebekah': 9368, 'satisfactory': 9993, 'ending': 3744, 'klaus': 6406, 'stefan': 10946, 'damon': 2718, 'protocol': 9086, 'consult': 2350, 'immensely': 5653, 'vice': 12412, 'ty': 11982, 'motherland': 7520, 'boost': 1340, 'document': 3311, 'relived': 9520, 'truely': 11909, 'dubstep': 3461, 'connor': 2302, 'glee': 4792, 'powerful': 8857, 'drug': 3443, 'slutty': 10542, 'suggest': 11172, 'reverend': 9698, 'prentice': 8917, 'resemble': 9612, 'explorer': 4033, 'lightsync': 6680, 'serenity': 10200, 'relaxing': 9502, 'invite': 6016, 'pine': 8636, 'unearthly': 12103, 'suggestion': 11173, 'insist': 5883, 'germ': 4725, 'expload': 4028, 'endlessly': 3746, 'category': 1728, 'skirtsport': 10481, 'glass': 4790, 'humping': 5531, 'quarrel': 9197, 'beg': 1061, 'compel': 2198, 'mislead': 7379, 'surely': 11238, 'profoundly': 9030, 'reprieve': 9592, 'regiment': 9460, 'intimacy': 5977, 'mystify': 7637, 'videotape': 12424, 'america': 436, 'collector': 2121, 'padre': 8271, 'shout': 10342, 'cantankerous': 1639, 'heavily': 5236, 'marijuana': 7053, 'sanity': 9971, 'kingdom': 6391, 'sixth': 10448, 'congress': 2297, '1986': 14, 'delegate': 2888, 'draft': 3397, 'duan': 3457, 'secretary': 10126, 'gene': 4692, 'cheat': 1853, 'encouraged': 3736, 'coma': 2137, 'listening': 6732, 'experiment': 4023, 'plastic': 8688, 'proper': 9062, 'headway': 5201, 'jacob': 6106, 'stance': 10902, 'sylvie': 11324, 'bedr': 1045, 'malignant': 6983, 'melonoma': 7203, 'affectionate': 241, 'motion': 7522, 'tap': 11393, 'reciprocate': 9384, 'dash': 2754, 'dickinson': 3083, 'colon': 2128, 'semi': 10164, 'enhance': 3773, 'enjambment': 3776, 'sonnet': 10686, 'ew': 3937, 'impotent': 5688, 'conquerer': 2305, 'batter': 1003, 'char': 1824, 'transcend': 11816, 'gorgeously': 4869, 'cinematic': 1959, 'psyche': 9107, 'freely': 4526, '9th': 40, '1991': 17, 'dism': 3213, 'smitten': 10559, 'bat': 992, 'eyelash': 4072, 'imperfect': 5668, 'grounded': 4988, 'center': 1779, 'reception': 9381, 'convincing': 2408, 'daunt': 2763, 'addition': 177, 'repertoire': 9572, 'horrifi': 5453, 'blanche': 1219, 'sublime': 11122, 'euphoric': 3896, 'seoul': 10189, 'disclose': 3168, 'suzannah': 11276, 'dwyer': 3505, 'romance': 9809, '24': 25, 'bates': 994, 'conferenc': 2267, 'anti': 538, 'mommys': 7449, 'nauseous': 7693, 'dizzy': 3300, 'chunk': 1948, 'taut': 11416, 'chew': 1877, 'stone': 10998, 'jackie': 6103, 'ecstasy': 3560, 'triumph': 11889, 'advocate': 232, 'military': 7310, 'assist': 731, 'miracle': 7358, 'spiritually': 10808, 'partnership': 8368, 'gardening': 4660, 'earnest': 3525, 'sooo': 10690, 'deceive': 2810, 'exhaustion': 3994, 'meanness': 7163, 'announce': 515, 'cashier': 1711, 'irish': 6036, 'president': 8937, 'mary': 7083, 'robinson': 9787, 'countr': 2490, 'eviction': 3930, 'webmate': 12617, 'zero': 13002, 'stubbornly': 11078, 'finance': 4273, 'smooth': 10564, 'monetarily': 7456, 'menswear': 7226, 'venture': 12385, 'supersensitive': 11213, 'golden': 4841, 'hungry': 5539, 'cumbersome': 2643, 'additionally': 178, 'clumsiness': 2063, 'amid': 440, 'loudly': 6843, 'cooperation': 2422, 'tinge': 11672, 'ignre': 5621, 'cuddle': 2629, 'lunge': 6901, 'headmaster': 5198, 'spirituality': 10807, 'backward': 895, 'bbq': 1013, 'loathing': 6766, 'unwarranted': 12250, 'unnecessary': 12189, 'supremely': 11235, 'brick': 1435, 'shack': 10242, 'mat': 7106, 'circuit': 1963, 'spine': 10800, 'chip': 1906, 'pi': 8601, 'ata': 752, 'spew': 10787, 'portland': 8810, 'strasbourg': 11031, 'doctorate': 3310, 'bow': 1370, 'applause': 597, 'ang': 481, 'ts': 11927, 'argue': 642, 'surprising': 11250, 'quiet': 9214, 'veterinary': 12403, 'pos': 8818, 'secondary': 10122, 'ultrasound': 12013, 'distinctly': 3261, 'working': 12849, 'recognize': 9395, 'repercussion': 9571, 'shyness': 10359, 'fool': 4435, 'african': 258, 'tad': 11355, 'reliable': 9511, 'forgot': 4461, 'predictably': 8895, 'pit': 8656, 'tai': 11359, 'correction': 2454, 'distraug': 3267, 'slatebook': 10494, 'vocref': 12484, 'ontology': 8065, 'anyone': 559, 'mixture': 7403, 'suicide': 11176, 'urge': 12285, 'scratch': 10080, 'uninspire': 12145, 'cash': 1710, 'jingle': 6194, 'hike': 5329, 'lemme': 6600, 'balloon': 928, 'celebration': 1764, 'marching': 7042, 'salute': 9952, 'vexed': 12406, 'louise': 6845, 'vegitarianism': 12368, 'heighten': 5251, 'crucial': 2606, 'pertain': 8548, 'expatriate': 4014, 'budgetary': 1501, 'fascinating': 4145, 'personalize': 8539, 'bangor': 942, 'alex': 354, 'lightbody': 6669, 'bowler': 1374, 'niba': 7787, 'argument': 644, 'milestone': 7309, 'annie': 511, 'heartbroke': 5219, 'disciple': 3165, 'regurgitate': 9474, 'eva': 3904, 'unite': 12159, 'memorial': 7214, 'recreate': 9409, 'transiently': 11825, 'rupture': 9894, 'bonus': 1331, 'app': 584, 'veil': 12370, 'demonstration': 2916, 'specimen': 10768, 'glisten': 4800, 'accentuate': 99, 'compere': 2201, 'rolling': 9807, 'thwart': 11628, 'immobile': 5658, 'condiment': 2257, 'pressie': 8939, 'sadden': 9924, 'everybody': 3921, 'lily': 6693, 'eyelid': 4073, 'flutter': 4401, 'te': 11423, 'hamnett': 5087, 'allege': 381, 'breach': 1410, 'sue': 11160, '500': 35, 'concentration': 2240, 'sensation': 10174, 'soporific': 10702, 'luscious': 6907, 'dreamy': 3419, 'engine': 3766, 'listener': 6731, 'inability': 5705, 'skater': 10453, 'aesthetic': 233, 'reread': 9605, 'familiarity': 4121, 'odonnell': 8000, 'interception': 5949, 'heartbreaking': 5218, 'pittsburgh': 8662, 'extraordinarily': 4056, 'icon': 5590, 'tyremark': 11993, 'frivolous': 4560, 'edgy': 3568, 'whiff': 12680, 'endless': 3745, 'mild': 7305, 'sniffle': 10592, 'optimism': 8098, 'qualified': 9191, 'tasty': 11409, 'goodness': 4854, 'abound': 70, 'cruz': 2620, 'unseen': 12220, 'ambient': 427, 'smoke': 10560, 'renowne': 9556, 'signify': 10387, 'undue': 12100, 'progressive': 9038, 'motivated': 7524, 'backwards': 896, 'upside': 12279, 'queezy': 9202, 'curse': 2661, 'asa': 691, 'este': 3872, 'uhuru': 12005, 'persecute': 8527, 'karua': 6321, 'reilly': 9478, 'entertained': 3801, 'jonny': 6227, 'hurricane': 5547, 'manitz': 7022, 'dot': 3363, 'accent': 98, 'spanish': 10740, 'skirt': 10480, 'gush': 5039, 'shiona': 10302, 'bewild': 1141, 'drowsy': 3441, 'tin': 11670, 'woodman': 12837, 'cowardly': 2512, 'lion': 6716, 'vulnerability': 12506, 'manipulate': 7019, 'wakeup': 12531, 'solution': 10664, 'clearboth': 2009, 'padding': 8269, 'mightily': 7297, 'carrot': 1699, 'mush': 7611, 'heroic': 5297, 'petrona': 8567, 'doraemon': 3353, 'backpack': 891, 'etsy': 3891, 'everytime': 3927, 'finished': 4286, 'disdain': 3190, 'continually': 2379, 'nourish': 7897, 'grabby': 4890, 'spice': 10789, 'hadn': 5056, 'aggression': 277, 'privilege': 8996, 'unsettled': 12222, 'arrangement': 664, 'preparation': 8920, 'heartburn': 5221, 'ed': 3563, 'martinez': 7078, 'harley': 5132, 'busin': 1549, 'needed': 7716, 'elude': 3670, 'snowboard': 10607, 'richard': 9727, 'gere': 4722, 'roberts': 9785, 'expensive': 4020, 'boutique': 1369, 'condescend': 2256, 'muze': 7627, 'mujhe': 7581, 'zay': 12995, 'myspace': 7633, 'dessert': 3007, 'mildly': 7306, 'affronted': 250, 'neurotic': 7764, 'depart': 2940, 'restaurant': 9648, 'humanly': 5514, 'kidnap': 6371, 'easter': 3537, 'creme': 2564, 'egg': 3610, 'stoup': 11013, 'destinys': 3011, 'bent': 1114, 'sorro': 10706, 'prupose': 9103, 'seat': 10117, 'everchanging': 3918, 'sailormoon': 9941, 'gateway': 4672, 'perceive': 8496, 'grieve': 4964, 'dint': 3124, 'confront': 2285, 'parcel': 8336, 'therapi': 11558, 'skincare': 10472, 'packaging': 8263, 'luxe': 6909, 'retain': 9668, 'organic': 8116, 'appal': 585, 'lenghth': 6607, 'pp': 8860, 'breaking': 1415, 'tetchy': 11521, 'edochie': 3576, 'hoax': 5364, 'olajideolafunmbi': 8036, 'enraged': 3793, 'loud': 6841, 'grand': 4906, 'ryan': 9908, 'traction': 11786, 'denise': 2926, 'stereotype': 10958, 'mediocre': 7181, 'detrimental': 3033, 'fitness': 4309, 'blackburn': 1205, 'holloway': 5386, 'leaf': 6560, 'thread': 11597, 'bleach': 1230, 'yup': 12988, 'bf': 1147, 'jacksonville': 6105, 'miraculously': 7360, 'conquer': 2304, 'peter': 8563, 'monthe': 7471, 'tissue': 11685, 'racing': 9243, 'training': 11803, 'chain': 1799, 'gauge': 4677, 'flog': 4371, 'pierced': 8619, 'fold': 4419, 'wax': 12594, 'abused': 90, 'outfits': 8163, 'simplicity': 10406, 'ru': 9859, 'submarine': 11123, 'cartwheel': 1708, 'ankle': 506, 'divas': 3283, 'division': 3292, 'wrestler': 12889, 'aboard': 65, 'tr': 11783, 'mail': 6956, 'camp': 1619, 'steinbeck': 10948, 'wistful': 12797, 'tub': 11936, 'dwelling': 3503, 'rapid': 9296, 'senilit': 10171, 'floral': 4379, 'polished': 8767, 'preppe': 8924, 'supervisor': 11218, 'nail': 7648, 'adjective': 186, 'spa': 10731, 'facial': 4086, 'bolt': 1314, 'gooseneck': 4862, 'fishbane': 4305, 'unwary': 12251, 'pole': 8760, 'reap': 9355, 'dra': 3396, 'blogspot': 1258, 'virgin': 12457, 'grue': 5000, 'loner': 6801, 'airlin': 315, 'empathtic': 3710, 'xd': 12915, 'badass': 900, 'dork': 3355, 'superficial': 11206, 'part': 8355, 'user': 12301, 'approximately': 619, 'shirt': 10307, 'scarf': 10028, 'milk': 7311, 'snarl': 10582, 'racism': 9244, 'umpteenth': 12019, 'dakota': 2704, 'finland': 4288, 'janne': 6132, 'suominen': 11202, 'firefly': 4293, 'dwindle': 3504, 'conclude': 2250, 'plummet': 8726, 'trash': 11836, 'ritual': 9769, 'playhousecomm': 8701, 'nigeria': 7804, 'assistance': 732, 'safely': 9934, 'inferior': 5811, 'limelight': 6697, 'paternal': 8395, 'mope': 7483, 'didint': 3087, 'outdoors': 8160, 'bundle': 1524, 'layer': 6544, 'porch': 8801, 'bathe': 996, 'radiance': 9249, 'baggage': 909, 'reprogramme': 9596, 'population': 8798, 'warrick': 12577, 'naivety': 7651, 'framework': 4497, 'branch': 1399, 'harmful': 5134, 'wrongly': 12900, 'undo': 12096, 'bigotry': 1162, 'combo': 2143, 'barrier': 973, 'lighting': 6675, 'jigsaw': 6187, 'completion': 2212, 'radiation': 9252, 'mike': 7301, 'graduation': 4901, 'park': 8346, 'remove': 9549, 'clutter': 2068, 'symptom': 11332, 'clown': 2056, 'outgoing': 8164, 'doubly': 3367, 'avril': 841, 'lavigne': 6535, 'nutrition': 7933, 'shampoo': 10260, 'lather': 6514, 'bubble': 1492, 'gw': 5045, 'headlamp': 5195, 'tent': 11493, 'grudge': 4998, 'someway': 10677, 'equip': 3839, 'dyke': 3508, 'march': 7040, 'euan': 3892, 'murder': 7603, 'ought': 8149, 'undeserving': 12091, 'indign': 5775, 'obligated': 7959, 'colbert': 2104, 'sale': 9945, 'prenatal': 8916, 'yoga': 12969, 'exceed': 3956, 'desperate': 2997, 'thrift': 11603, 'crown': 2605, 'timing': 11667, 'proving': 9094, 'americans': 439, 'dependent': 2946, 'foreign': 4450, 'vivid': 12475, 'fel': 4202, 'relative': 9497, 'mccann': 7143, 'exasperated': 3953, 'dank': 2736, 'powerlessness': 8859, 'switch': 11315, 'perceptive': 8499, 'plane': 8678, 'borrow': 1349, 'badger': 901, 'arse': 673, 'schoolgirl': 10053, 'soooooooo': 10693, 'valbuena': 12321, 'diaby': 3064, 'overhaul': 8208, 'nutritionally': 7934, 'brazen': 1407, 'uncommon': 12050, 'atheist': 761, 'moral': 7486, 'famous': 4124, 'ect': 3562, 'strategy': 11033, 'games': 4645, 'boot': 1341, 'ugg': 11999, 'lightweight': 6682, 'speed': 10779, 'payday': 8430, 'loan': 6764, 'distinct': 3259, 'turnout': 11960, 'slump': 10538, 'rib': 9721, 'elastic': 3628, 'loose': 6819, 'speculate': 10774, 'fate': 4155, 'nonplussed': 7852, 'christopher': 1936, 'chryselius': 1939, 'sir': 10431, 'john': 6207, 'pennington': 8484, 'subdue': 11116, 'abit': 60, 'appreciated': 605, 'burner': 1543, 'hmmm': 5359, 'heyy': 5310, 'opera': 8079, 'teary': 11435, 'shhhhhhh': 10293, 'necessarily': 7709, 'bomb': 1315, 'necessary': 7710, 'journal': 6236, 'strangle': 11028, 'bang': 940, 'syae': 11321, 'reserve': 9616, 'skinner': 10475, 'pasta': 8387, 'combine': 2141, 'beet': 1054, 'rabiola': 9238, 'fresca': 4536, 'ravioli': 9319, 'encompas': 3732, 'yin': 12965, 'yang': 12932, 'seasonal': 10116, 'three': 11602, 'india': 5767, 'management': 6996, 'wc': 12597, 'deadly': 2789, 'laxman': 6542, 'dinesh': 3117, 'slipper': 10518, 'here': 5289, 'soberly': 10622, 'officer': 8017, 'jeddah': 6153, 'scan': 10018, 'printout': 8983, 'practise': 8868, 'instill': 5903, 'exceedingly': 3957, 'pandora': 8306, 'cosmopolitian': 2466, 'foul': 4479, 'consolation': 2329, 'exhibition': 3996, 'spring': 10843, 'element': 3646, 'auto': 823, 'incoming': 5740, 'exceptionally': 3964, 'suzanna': 11275, 'idyllic': 5609, 'vacationer': 12316, 'prowl': 9100, 'deserted': 2982, 'island': 6065, 'literary': 6738, 'turning': 11958, 'cite': 1967, 'scarce': 10024, 'midcentury': 7282, 'vintage': 12445, 'dresser': 3422, 'roast': 9780, 'freeze': 4528, 'trance': 11810, 'abjectly': 61, 'tel': 11459, 'jz': 6295, 'xox': 12924, 'mommyhood': 7448, 'breastfeed': 1419, 'oxygen': 8251, 'gary': 4663, 'anxio': 553, 'clash': 1989, 'bull': 1511, 'skipper': 10479, 'steve': 10963, 'walsh': 12548, 'molineux': 7437, 'yike': 12964, 'sloppy': 10523, 'wuthere': 12908, 'policeman': 8764, 'reali': 9345, 'haze': 5185, 'nyquil': 7944, 'accommodate': 113, 'reproduce': 9594, 'academic': 95, 'repetition': 9574, 'showing': 10347, 'stoop': 11002, 'smack': 10544, 'promotion': 9053, 'congratulation': 2296, 'double': 3366, 'snowglobe': 10608, 'hover': 5484, 'obama': 7948, 'supporter': 11226, 'presidency': 8936, 'supervise': 11216, 'kubrick': 6442, 'ego': 3611, 'nod': 7833, 'outset': 8177, 'disappearance': 3149, 'snuggle': 10614, 'spencer': 10784, 'adorable': 206, 'garment': 4661, 'covetousne': 2507, 'sore': 10705, 'affiliate': 243, 'marketing': 7063, 'erika': 3847, 'vexat': 12405, 'withdraw': 12800, 'empathy': 3711, 'enjoyment': 3781, 'foo': 4433, 'afrade': 255, 'upcoming': 12264, 'tickling': 11640, 'widespread': 12728, 'portugu': 8817, 'believer': 1079, 'oeuvre': 8003, 'nick': 7794, 'dewitt': 3057, 'fruit': 4575, 'classroom': 1995, 'gabriella': 4627, 'btw': 1490, 'decoration': 2829, 'whine': 12686, 'journale': 6237, 'suppress': 11233, 'woeful': 12819, 'craving': 2535, 'rostrum': 9837, 'sheer': 10281, 'mimic': 7321, 'neutral': 7766, 'lense': 6613, 'tch': 11421, 'victory': 12421, 'struff': 11072, 'fedtastic': 4189, 'tennis': 11490, 'umlungu': 12017, 'socket': 10636, 'nutrient': 7932, 'dense': 2930, 'spaghetti': 10736, 'meatball': 7169, 'italian': 6082, 'butter': 1557, 'buddys': 1499, 'sensitivity': 10182, 'movement': 7549, 'cora': 2432, 'beth': 1130, 'flushed': 4399, 'demoralized': 2917, 'operate': 8080, 'mechanical': 7171, 'proce': 9006, 'quota': 9233, 'overdue': 8203, 'discovery': 3185, 'align': 372, 'shaving': 10273, 'precision': 8886, 'marvellous': 7080, 'deaf': 2791, 'edgware': 3567, 'multitudinous': 7591, 'eleanor': 3635, 'lash': 6506, 'unreceptive': 12208, 'abu': 86, 'feminist': 4211, 'cop': 2424, 'disagree': 3145, 'indifferent': 5772, 'bloom': 1266, 'oak': 7945, 'bush': 1548, 'aligncenter': 373, 'wp': 12879, 'mrdanbaird': 7560, 'evaporate': 3908, 'cyberspace': 2683, 'beacuse': 1021, 'envy': 3827, 'quit': 9223, 'rugby': 9878, 'chicago': 1881, 'bulls': 1515, 'celtic': 1775, 'cap': 1643, 'priority': 8986, 'spectator': 10771, 'assumption': 740, 'lengthy': 6609, 'groundless': 4989, 'mitchum': 7400, 'stall': 10897, 'novel': 7900, 'ailment': 306, 'accessory': 108, 'stretch': 11047, 'abdoman': 55, 'lisas': 6726, 'goat': 4830, 'mammal': 6992, 'percolate': 8501, 'synonym': 11336, 'cough': 2473, 'inhaler': 5837, 'discombobulate': 3170, 'shortlist': 10332, 'ambulatory': 432, 'hatred': 5166, 'veggie': 12367, 'em': 3674, 'coworker': 2514, 'diversity': 3287, 'joie': 6212, 'vivre': 12478, 'wishful': 12796, 'whip': 12692, 'station': 10929, 'flee': 4349, 'underbelly': 12065, 'central': 1780, 'subway': 11143, 'map': 7035, 'frazzle': 4514, 'meltdown': 7205, 'conversational': 2400, 'deader': 2787, 'nao': 7665, 'jonese': 6225, 'prisoner': 8989, 'emptied': 3718, 'dannika': 2737, 'crochet': 2588, 'wrinkle': 12892, 'prevention': 8955, 'unduly': 12101, 'detector': 3022, 'heeled': 5245, 'thankfulness': 11541, 'facsimilogo': 4089, 'martina': 7077, 'ahaha': 298, 'retarded': 9670, 'handmade': 5101, 'palcebowhore': 8294, 'hijack': 5328, 'fantasy': 4133, 'source': 10726, 'gmc': 4825, 'denali': 2923, 'conquering': 2306, 'hurl': 5545, 'epithet': 3835, 'immigrant': 5655, 'antagonism': 535, 'misunderstanding': 7396, 'wholeheartedly': 12712, 'armistice': 654, 'remembrance': 9537, 'per': 8495, 'dianam': 3074, 'penn': 8483, 'mound': 7534, 'atari': 753, 'approximate': 618, 'effortlessly': 3605, 'paus': 8421, 'printer': 8981, 'ordeal': 8109, 'transparent': 11831, 'lobelia': 6768, 'micah': 7274, 'thursday': 11627, 'macabre': 6921, 'fountain': 4482, 'therapist': 11559, 'pendant': 8475, 'carby': 1659, 'glycemic': 4823, 'darn': 2751, 'bald': 921, 'wig': 12738, 'appeal': 589, 'alfed': 360, '18': 5, 'major': 6968, 'remotional': 9548, 'outburst': 8153, 'royally': 9855, 'wreak': 12883, 'havoc': 5178, 'makeup': 6975, 'correct': 2453, 'insincere': 5882, 'groupie': 4991, 'dan': 2722, 'jeer': 6156, 'insane': 5864, 'housewife': 5482, 'prep': 8919, 'kristie': 6440, 'digust': 3106, 'reign': 9477, 'spoken': 10824, 'undergo': 12069, 'daunting': 2764, 'ey': 4066, 'mailbox': 6957, 'clerk': 2014, 'limit': 6698, 'willingness': 12759, 'emerge': 3690, 'enthusiast': 3807, 'tribal': 11871, 'journalist': 6240, 'whore': 12721, 'sniiiiifff': 10593, 'honey': 5418, 'unemployed': 12109, 'admiration': 193, 'amy': 462, 'org': 8114, 'scientology': 10061, 'devour': 3053, 'wa': 12510, 'sleazy': 10498, 'br': 1383, 'access': 104, 'mastery': 7105, 'bearable': 1030, 'duality': 3456, 'associate': 735, 'comical': 2158, 'pitifu': 8659, 'reminder': 9539, 'vertigo': 12397, 'wakeful': 12529, 'compound': 2226, 'biddy': 1158, 'cigarette': 1955, 'eventuallythe': 3917, 'lovein': 6853, 'wu': 12905, 'unbelievable': 12032, 'atleast': 771, 'implement': 5676, 'miler': 7308, 'reassess': 9362, 'entertaining': 3803, 'volunteer': 12494, 'bard': 959, 'inevitable': 5798, 'hummpffff': 5526, 'enlightening': 3782, 'grate': 4927, 'cluttered': 2069, 'shelley': 10286, 'cheerfulness': 1863, 'despai': 2994, 'dampen': 2720, 'misinterpret': 7378, 'assured': 743, 'handbag': 5093, 'sachaye': 9918, 'mentor': 7231, 'eventualit': 3915, 'moronic': 7501, 'stave': 10934, 'poll': 8773, 'muslim': 7620, 'defense': 2853, 'islam': 6064, 'universally': 12165, 'pet': 8560, 'owner': 8247, 'spritz': 10850, 'toner': 11721, 'soothe': 10697, 'splash': 10814, 'stroke': 11063, 'wonderfull': 12829, 'tickle': 11639, 'pulse': 9143, 'skid': 10465, 'recognition': 9394, 'scary': 10031, 'wow': 12878, 'liv': 6743, 'laminate': 6480, 'landlord': 6487, 'sinc': 10414, 'truck': 11907, 'alaska': 339, 'snowy': 10611, 'destine': 3009, 'southern': 10728, 'virginia': 12458, 'intermittent': 5960, 'lacklustre': 6463, 'tzann': 11994, 'cluck': 2059, 'constraint': 2344, 'largely': 6503, 'invisible': 6013, 'fo': 4407, 'scape': 10022, 'af': 234, 'fiance': 4236, 'waaaant': 12511, 'eaaaat': 3513, 'artificially': 681, 'antipasti': 543, 'mozzarella': 7556, 'proscuito': 9070, 'select': 10150, 'lilongwe': 6692, 'assistat': 734, 'partly': 8365, 'tribute': 11874, 'deck': 2821, 'soak': 10615, 'sensual': 10184, 'silk': 10394, 'drift': 3426, 'mandy': 7003, 'lore': 6826, 'forest': 4453, 'cave': 1748, 'relevant': 9509, 'vomit': 12496, 'porn': 8806, 'unravel': 12201, 'personnel': 8541, 'alexei': 358, 'elsewher': 3669, 'traipse': 11804, 'trompe': 11894, 'stilettos': 10976, 'looooong': 6816, 'gasp': 4667, 'marybeth': 7084, 'isabella': 6059, 'clover': 2055, 'smoking': 10562, 'rational': 9311, 'specie': 10763, 'compellingly': 2199, 'contamination': 2363, 'alton': 413, 'rollercoaster': 9806, 'beak': 1025, 'appropriately': 614, 'meditate': 7182, 'psalm': 9105, 'closing': 2048, 'diamond': 3071, 'caffeine': 1584, 'ceo': 1783, 'bob': 1293, 'relent': 9506, 'hay': 5184, 'fever': 4227, 'vindictive': 12439, 'cab': 1570, 'cutie': 2677, 'spoon': 10831, 'mathematical': 7114, 'garage': 4656, 'scheduler': 10046, 'massive': 7100, 'repairman': 9561, 'blurt': 1283, 'indirectly': 5779, 'manhandle': 7010, 'ba': 869, 'impostor': 5686, 'rld': 9775, 'vanguard': 12339, 'subsequent': 11132, 'reinforce': 9481, 'hectic': 5240, 'standing': 10906, 'sideline': 10370, 'temptation': 11481, 'pip': 8646, 'disruptive': 3242, 'wickedness': 12725, 'strew': 11049, 'confetti': 2271, 'pa': 8254, 'excelent': 3959, 'anime': 503, 'chemo': 1871, 'uninteresting': 12153, 'welshpool': 12649, 'escort': 3856, 'army': 658, 'moan': 7409, 'seo': 10188, 'impe': 5664, 'mystery': 7635, 'wholly': 12715, 'unsurprising': 12238, 'fraud': 4512, 'nominee': 7843, 'approve': 616, 'disapprove': 3154, 'com': 2136, 'worse': 12863, 'legitimately': 6593, 'bum': 1519, 'pirate': 8650, 'victorian': 12419, 'niece': 7801, 'nephew': 7745, 'woah': 12814, 'ancient': 473, 'resume': 9664, 'impress': 5691, 'awe': 851, 'transport': 11832, 'tackling': 11351, 'juggernaut': 6261, 'lorry': 6828, 'eec': 3586, 'pl': 8667, 'benny': 1113, 'preposterous': 8923, 'organizational': 8121, 'masochist': 7093, 'damned': 2717, 'gospel': 4872, 'savior': 10004, 'rent': 9558, 'agiatate': 281, 'sis': 10434, 'geek': 4684, 'ohio': 8027, 'countryside': 2492, 'eve': 3910, 'postcard': 8834, 'hudson': 5500, 'calling': 1602, 'troop': 11895, 'harm': 5133, 'dissatisfy': 3248, 'ing': 5831, 'leibnitz': 6597, 'humane': 5511, 'congratulate': 2295, 'scotland': 10072, 'intro': 5987, 'fff': 4232, 'trebuchet': 11857, 'ms': 7562, 'helvetica': 5272, 'bitstream': 1193, 'vera': 12388, 'sans': 9972, 'serif': 10202, 'infamous': 5804, 'bonk': 1329, 'tag': 11357, 'pakistan': 8290, 'flirtiness': 4367, 'peeta': 8464, 'heroine': 5298, 'katnisss': 6331, 'athf': 763, 'wiggy': 12740, 'lib': 6645, 'georgie': 4721, 'porgie': 8804, 'terrifying': 11510, 'uneasy': 12107, 'fade': 4095, 'alcove': 347, 'guidance': 5017, 'vinegar': 12441, 'lard': 6501, 'articulate': 679, 'martin': 7076, 'kindly': 6388, 'restrain': 9657, 'su': 11111, 'wen': 12650, 'distributor': 3273, 'goer': 4837, 'awoken': 861, 'apt': 624, 'sonipro': 10685, 'geekparty': 4685, 'linkedin': 6712, 'tumblr': 11947, 'dignified': 3102, 'competition': 2203, 'distinction': 3260, 'ativan': 768, 'likeaudrey': 6686, 'hepburn': 5282, 'tiffany': 11647, 'inconsolabl': 5748, 'hangover': 5108, 'annoyingly': 522, 'elliptical': 3665, 'intervention': 5974, 'publican': 9128, 'repel': 9567, 'armoury': 656, 'taciturnity': 11349, 'malevolent': 6981, 'servic': 10213, 'bartender': 976, 'relation': 9494, 'thereof': 11561, 'ward': 12563, 'investigator': 6008, 'ponder': 8782, 'trepidatious': 11867, 'scratchy': 10082, 'marge': 7045, 'simpson': 10408, 'beachbody': 1019, 'unpleasantly': 12194, 'brad': 1389, 'looks': 6813, 'sm': 10543, 'unfairness': 12118, 'showcase': 10345, 'jhbdjhdfbjdfhbfd': 6184, 'comp': 2185, 'wealthy': 12602, 'apparent': 587, 'victimized': 12417, 'wary': 12580, 'purposely': 9167, 'gun': 5032, 'nic': 7788, 'sience': 10373, 'laurel': 6528, 'bg': 1148, 'rocket': 9793, 'cagey': 1586, 'setting': 10221, 'jacque': 6108, 'dammit': 2714, 'motivate': 7523, 'mrs': 7561, 'stych': 11105, 'stupefaction': 11097, 'compl': 2205, 'screw': 10092, 'europe': 3900, 'outbreak': 8152, 'donate': 3336, 'rubble': 9864, 'devestate': 3043, 'disservice': 3250, 'inept': 5795, 'tax': 11417, 'payer': 8431, 'bungling': 1526, 'uncle': 12045, 'fron': 4566, 'terrain': 11504, 'arcade': 629, 'alise': 375, 'isolate': 6071, 'friggety': 4551, 'irritate': 6054, 'espresso': 3861, 'toast': 11695, 'champagne': 1808, 'babys': 879, 'urine': 12290, 'grumble': 5001, 'decidedly': 2816, 'egalitarian': 3607, 'jonalyn': 6223, 'fincher': 4276, 'soulation': 10716, 'transportation': 11833, 'brink': 1452, 'subpar': 11129, 'letdown': 6629, 'infusion': 5830, 'insert': 5875, 'solemn': 10654, 'documenti': 3312, 'genetice': 4708, 'midterm': 7290, 'disruption': 3241, 'fps': 4488, 'prior': 8984, 'vineman': 12442, 'racin': 9242, 'bloated': 1247, 'hem': 5273, 'haw': 5179, 'unjust': 12168, 'shelf': 10284, 'tremayne': 11859, 'gratificat': 4930, 'cavity': 1750, 'outstanding': 8182, 'dental': 2933, 'counterproductive': 2487, 'lonley': 6807, 'justin': 6291, 'aryiku': 690, 'breathless': 1425, 'coldsore': 2108, 'irrational': 6044, 'sor': 10703, 'moody': 7476, 'disorganised': 3221, 'logical': 6783, 'uuuugh': 12310, 'endill': 3743, 'depresse': 2955, 'maximize': 7133, 'spacious': 10734, 'bam': 933, 'fashioned': 4150, 'graphic': 4922, 'illustration': 5632, 'oncologist': 8055, 'radiologist': 9255, 'planting': 8687, 'dip': 3125, 'asshole': 728, 'on': 8054, 'midori': 7288, 'obsess': 7971, 'reportedly': 9583, '15': 4, 'elementary': 3647, 'sapph': 9974, 'arena': 640, 'bench': 1099, 'george': 4719, 'hysterical': 5576, 'giggling': 4755, 'compartment': 2192, 'mourner': 7538, 'corpse': 2452, 'vest': 12400, 'top': 11735, 'cellulite': 1773, 'opener': 8075, 'organize': 8122, 'baseball': 978, 'mombasa': 7442, 'suburban': 11142, 'geography': 4717, 'textbook': 11525, 'elihu': 3655, 'christmastime': 1935, 'mill': 7313, 'darkly': 2746, 'stately': 10925, 'cleo': 2013, 'til': 11655, 'closure': 2049, 'foh': 4415, 'incensed': 5726, 'coroner': 2447, 'co': 2074, 'symbolic': 11326, 'imaging': 5640, 'childr': 1894, 'honkerblonke': 5420, 'payperpost': 8433, 'marketplace': 7064, 'string': 11056, 'paradise': 8324, 'dive': 3284, 'lorena': 6827, 'castanet': 1716, 'raposa': 9300, 'crest': 2566, 'carlie': 1685, 'harvey': 5150, 'trea': 11844, 'disqualify': 3234, 'celibate': 1769, 'legitimate': 6592, 'rhyme': 9717, 'potion': 8846, 'fundamental': 4607, 'whiz': 12710, 'rumble': 9884, 'july': 6270, 'homeless': 5395, 'mushy': 7613, 'feverishly': 4229, 'similarly': 10400, 'situate': 10444, 'jimmy': 6191, 'player': 8698, 'bloody': 1265, 'incessant': 5728, 'bitching': 1190, 'bluestarlight': 1277, 'flab': 4317, 'beast': 1032, 'conclusion': 2251, 'ship': 10303, 'sail': 9939, 'crow': 2600, 'rooster': 9822, 'shark': 10267, 'ranch': 9283, 'duct': 3464, 'declare': 2822, 'banish': 944, 'invitation': 6015, 'sifting': 10375, 'nerve': 7747, 'wilt': 12763, 'bonding': 1325, 'giver': 4773, 'amorous': 443, 'wro': 12897, 'bi': 1151, 'boisterous': 1310, 'shameful': 10258, 'tuck': 11940, 'tail': 11361, 'newtown': 7782, 'newbie': 7771, 'mooshilu': 7481, 'sydney': 11323, 'herald': 5284, 'brisbanehub': 1453, 'ashame': 698, 'humiliating': 5524, 'guffaw': 5015, 'tinsel': 11675, 'headband': 5192, 'brooch': 1466, 'cracker': 2522, 'despair': 2995, 'apprehension': 608, 'predatory': 8888, 'deform': 2869, 'alternate': 409, 'sheep': 10279, 'normalcy': 7866, 'bothersome': 1358, 'trot': 11899, 'tempt': 11480, 'weismans': 12643, 'chaotic': 1820, 'snatch': 10583, 'projector': 9044, 'displease': 3231, 'musty': 7624, 'betrayal': 1132, 'wounded': 12875, 'johnnykaje': 6209, 'varvel': 12350, 'tummy': 11948, 'expansive': 4013, 'beijing': 1072, 'capital': 1649, 'apology': 581, 'boston': 1353, 'historical': 5351, 'michelle': 7276, 'ballistic': 927, 'idealistic': 5595, 'proporte': 9068, 'activation': 154, 'moon': 7477, 'eclipse': 3553, 'examine': 3948, 'pende': 8476, 'sheila': 10283, 'caan': 1569, 'decade': 2806, 'insecurity': 5873, 'telstra': 11468, 'debate': 2800, 'broaden': 1461, 'pillar': 8629, 'marie': 7052, 'gon': 4845, 'crossfit': 2596, 'mellon': 7197, 'collie': 2124, 'aka': 326, 'timor': 11669, 'compass': 2195, '10': 1, 'awry': 862, 'outward': 8186, 'melbour': 7194, 'frien': 4546, 'overdone': 8200, 'moaning': 7411, 'pizza': 8666, 'quirky': 9222, 'vanquish': 12344, 'obesity': 7954, 'pedicure': 8456, 'tootsie': 11734, 'lightheaded': 6673, 'shire': 10305, 'reunite': 9682, 'dd': 2782, 'cajole': 1588, 'bully': 1517, 'can': 1625, 'hasan': 5151, 'retiring': 9674, 'modest': 7422, 'schadenfreude': 10043, 'debra': 2802, 'woodston': 12839, 'kansas': 6309, 'assembly': 721, 'wheeeeee': 12673, 'ccs': 1754, 'anipike': 505, 'fanfiction': 4130, 'lee': 6580, 'casually': 1721, 'italy': 6083, 'scripture': 10095, 'abandonment': 50, 'dontknow': 3340, 'linus': 6714, 'hella': 5260, 'mull': 7583, 'income': 5739, 'pediatrician': 8455, 'veery': 12362, 'feauture': 4181, 'rule': 9882, 'selena': 10155, 'humiliated': 5523, 'kali': 6304, 'aku': 329, 'dah': 2700, 'bertukar': 1124, 'jadi': 6112, 'benci': 1100, 'transition': 11826, 'selfless': 10158, 'spread': 10841, 'terrorise': 11514, 'mothering': 7519, 'weaving': 12614, 'collection': 2119, 'harshly': 5145, 'loom': 6814, 'deadline': 2788, 'multitude': 7590, 'levi': 6637, 'sneaker': 10584, 'december': 2811, 'enjoyable': 3780, 'evar': 3909, 'bc': 1015, 'tempestuous': 11473, 'ocean': 7992, 'tigger': 11649, 'lacy': 6464, 'bottom': 1360, 'outcomes': 8157, 'parable': 8322, 'evident': 3932, 'koyama': 6436, 'owl': 8245, 'template': 11474, 'glowy': 4818, 'morph': 7504, 'zucchini': 13019, 'tart': 11400, 'sugary': 11171, 'cereal': 1785, 'jasmine': 6138, 'teapot': 11432, 'cheese': 1864, 'pretzel': 8952, 'lane': 6493, 'mu': 7567, 'plank': 8680, 'suspicion': 11267, 'candidate': 1632, 'interaction': 5945, 'cheaply': 1852, 'running': 9890, 'existent': 4006, 'homemade': 5398, 'chex': 1879, 'violinist': 12454, 'ambition': 428, 'instrume': 5910, 'posting': 8837, 'sweden': 11296, 'frau': 4511, 'nordern': 7860, 'inspite': 5894, 'sensibility': 10178, 'locker': 6775, 'ethic': 3886, 'execute': 3984, 'boil': 1308, 'imperturbable': 5673, 'cataclysmic': 1723, 'adulth': 214, 'shield': 10294, 'wicke': 12723, 'injure': 5848, 'channel': 1817, 'atlanta': 769, 'mature': 7122, 'reevaluate': 9430, 'jerry': 6172, 'hun': 5533, 'hype': 5564, 'matilda': 7115, 'calmness': 1606, 'trunchbull': 11915, 'verdict': 12390, 'toronto': 11745, 'degrassi': 2873, 'weep': 12629, 'unusually': 12247, 'aforementione': 253, 'tylenol': 11985, 'lull': 6888, 'fellowship': 4204, 'pastor': 8390, 'sadistic': 9928, 'unexpected': 12113, 'sum': 11185, 'liberalisation': 6648, 'hardliner': 5129, 'forgo': 4460, 'cha': 1795, 'disbelieve': 3161, 'bipolar': 1181, 'euro': 3898, 'sceptic': 10040, 'handling': 5100, 'maastricht': 6919, 'descend': 2975, 'shamble': 10255, 'vine': 12440, 'morris': 7505, 'trickery': 11876, 'passionately': 8383, 'flop': 4377, 'nannye': 7663, 'snark': 10580, 'sarcasm': 9978, 'bottle': 1359, 'squeal': 10865, 'sleepy': 10506, 'jessica': 6176, 'zoom': 13018, 'trimester': 11882, 'trinity': 11884, 'colette': 2109, 'paul': 8418, 'upse': 12276, 'researched': 9610, 'grace': 4891, 'unrealistic': 12204, 'lds': 6552, 'cube': 2627, 'aaaand': 44, 'milkshake': 7312, 'remedy': 9533, 'uplifting': 12270, 'criticize': 2584, 'solvent': 10666, 'abus': 88, 'glamourous': 4783, 'recluse': 9392, 'dressing': 3423, 'gown': 4886, 'swan': 11284, 'spray': 10840, 'ignorant': 5617, 'mystical': 7636, 'conspiracy': 2332, 'shafted': 10246, 'limply': 6702, 'shotgun': 10337, 'lovesong': 6856, 'audio': 803, 'happpy': 5119, 'athletic': 765, 'truthfully': 11923, 'salad': 9944, 'alittle': 376, 'calvaryccv': 1608, 'minded': 7327, 'uncompromise': 12052, 'provoke': 9098, 'frank': 4503, 'amazon': 425, 'barne': 968, 'noble': 7830, 'ebook': 3547, 'minor': 7349, 'neuropathy': 7762, 'fingernail': 4282, 'slighted': 10513, 'surpris': 11247, 'diaper': 3076, 'gabapentin': 4625, 'dose': 3362, 'zonisamide': 13017, 'benjamin': 1111, 'button': 1560, 'gump': 5031, 'stayviolation': 10936, 'irk': 6038, 'inspect': 5886, 'carniola': 1688, 'carpenter': 1693, 'frog': 4564, 'building': 1508, 'clingy': 2031, 'toddlerhood': 11701, '13': 3, 'mdash': 7155, 'how': 5485, 'broom': 1470, 'newspaper': 7779, 'banana': 936, 'gatorade': 4675, 'moisturize': 7432, 'damaged': 2713, 'creativecommon': 2551, 'sicken': 10365, 'lance': 6483, 'medically': 7177, 'fourth': 4484, 'reminisce': 9540, 'shiver': 10311, 'pissy': 8653, 'boundless': 1366, 'quicken': 9212, 'fluffy': 4394, 'terror': 11513, 'strick': 11050, 'humour': 5529, 'answering': 533, 'loon': 6815, 'disease': 3193, 'junk': 6281, 'christians': 1930, 'boss': 1352, 'separate': 10191, 'coming': 2159, 'shiny': 10301, 'thankyouu': 11544, 'resupplie': 9665, 'vitamin': 12472, 'subcontinent': 11115, 'sprog': 10851, 'manila': 7018, 'guard': 5008, 'xanax': 12913, 'admin': 189, 'avon': 840, 'gracefully': 4894, 'humbly': 5517, 'twitch': 11977, 'county': 2494, 'illegal': 5625, 'alley': 387, 'prosecute': 9072, 'misrepresented': 7381, 'false': 4113, 'deem': 2836, 'campus': 1623, 'wesleyan': 12657, 'cinema': 1958, 'darren': 2752, 'chastise': 1845, 'volume': 12492, 'revenue': 9693, 'pagetype': 8277, 'url': 12291, 'mimedoger': 7320, 'sack': 9920, 'swift': 11306, 'cosmetic': 2463, 'prostitution': 9076, 'assemble': 720, 'exterior': 4050, 'contaminati': 2362, 'maker': 6973, 'employer': 3715, 'analysis': 467, 'survey': 11256, 'anthem': 536, 'festival': 4222, 'smith': 10558, 'instagram': 5895, 'walking': 12541, 'clare': 1983, 'rut': 9904, 'importantly': 5683, 'parisian': 8345, 'salvation': 9953, 'gal': 4634, 'nuh': 7917, 'victorious': 12420, 'mercilessly': 7237, 'abominable': 67, 'len': 6604, 'apologetic': 578, 'mumble': 7594, 'patron': 8412, 'vet': 12401, 'crampy': 2527, 'redshank': 9422, 'sandpiper': 9964, 'lone': 6797, 'oft': 8024, 'harvesting': 5149, 'magi': 6942, 'herod': 5296, 'gertrude': 4730, 'knowingly': 6422, 'siwon': 10447, 'clue': 2060, 'foist': 4418, 'inconvenience': 5750, 'greek': 4950, 'technically': 11441, 'authoritative': 819, 'professionally': 9024, 'doorway': 3351, 'flick': 4357, 'obedience': 7950, 'brief': 1442, 'yash': 12938, 'fateh': 4156, 'immoral': 5659, 'morali': 7487, 'islander': 6066, 'sophisticated': 10700, 'neighbo': 7731, 'woebegon': 12817, 'instructable': 5907, 'norm': 7863, 'distrustful': 3274, 'rogers': 9800, 'gro': 4976, 'brat': 1405, 'tenge': 11489, 'saving': 10003, 'yelled': 12954, 'unsavory': 12218, 'elevator': 3651, 'metallic': 7257, 'pacman': 8266, 'pacquiao': 8267, 'cloudy': 2054, 'teenage': 11451, 'childre': 1895, 'exclusively': 3980, 'trut': 11920, 'abroad': 72, 'preceptor': 8881, 'rash': 9306, 'peel': 8461, 'harsh': 5144, 'chemical': 1868, 'allergic': 384, 'ate': 754, 'checklist': 1857, 'isabel': 6058, 'ellen': 3663, 'racial': 9241, 'slur': 10540, 'ge': 4681, 'socializing': 10629, 'seemad': 10139, 'favour': 4168, 'grandfather': 4910, 'fuel': 4590, 'lugubriou': 6883, 'lbs': 6550, 'january': 6133, 'donation': 3337, 'novice': 7902, 'flattered': 4342, 'pierr': 8620, 'asciatic': 695, 'fluid': 4395, 'imprint': 5695, 'dieting': 3092, 'revision': 9704, 'toddler': 11700, 'bitterness': 1198, 'overseas': 8222, 'ip': 6021, 'schs': 10054, 'dominate': 3332, 'technical': 11440, 'wushu': 12906, 'tiredness': 11683, 'lah': 6472, 'incomprehensible': 5744, 'stiffen': 10973, 'mo': 7408, 'receiver': 9377, 'steamy': 10943, 'gravity': 4938, 'exceptional': 3963, 'ethiopia': 3888, 'goosey': 4863, 'coca': 2080, 'cola': 2103, 'overreact': 8220, 'amplify': 453, 'influx': 5818, 'kerouac': 6352, 'marble': 7039, 'maelstrom': 6935, 'surf': 11239, 'sur': 11236, 'debut': 2805, 'resolved': 9634, 'web': 12615, 'technology': 11444, 'ration': 9310, 'powdered': 8855, 'nervouse': 7750, 'usain': 12295, 'navigate': 7694, 'taiko': 11360, 'root': 9823, 'evil': 3933, 'deplete': 2948, 'kai': 6299, 'dusty': 3495, 'oblivio': 7963, 'falter': 4115, 'truc': 11906, 'arise': 648, 'quieter': 9215, 'obese': 7953, 'yay': 12941, 'sulk': 11184, 'eyeglass': 4071, 'lit': 6734, 'limb': 6694, 'terrifyingly': 11511, 'sesame': 10215, 'partially': 8358, 'recklessly': 9387, 'alfie': 361, 'wale': 12535, 'berate': 1116, 'roethisberger': 9798, 'steeler': 10944, 'offense': 8010, 'carte': 1705, 'laura': 6527, 'tighten': 11652, 'annoya': 518, 'intentionally': 5943, 'gaga': 4630, 'transform': 11820, 'vocal': 12482, 'indulgent': 5789, 'pbss': 8435, 'miyavi': 7404, 'tangent': 11385, 'reggie': 9458, 'ralf': 9274, 'pedlar': 8457, 'drawbridge': 3411, 'commercialism': 2166, 'graze': 4942, 'imporant': 5680, 'churn': 1952, 'esp': 3858, 'costly': 2469, 'worldly': 12856, 'vincent': 12438, 'spirited': 10805, 'resistanc': 9629, 'rouse': 9849, 'coro': 2445, 'platitude': 8693, 'khi': 6363, 'au': 796, 'ng': 7784, 'rephrase': 9575, 'cart': 1704, 'katz': 6334, 'lament': 6479, 'countenance': 2484, 'tal': 11367, 'bmw': 1286, 'interce': 5947, 'concise': 2249, 'singular': 10426, 'federer': 4186, 'sane': 9968, 'guarantee': 5007, 'paragraph': 8326, 'sample': 9955, 'hedge': 5241, 'nearby': 7703, 'hemorrhoid': 5274, 'necklace': 7713, 'combing': 2142, 'oakwood': 7946, 'shirley': 10306, 'maclaine': 6928, 'chick': 1882, 'flake': 4324, 'swell': 11305, 'administration': 190, 'retort': 9675, 'whooping': 12719, 'offender': 8009, 'essentially': 3865, 'momentum': 7445, 'gosh': 4870, 'gossip': 4873, 'polar': 8759, 'tightness': 11654, 'essential': 3864, 'mantra': 7030, 'dire': 3130, 'louis': 6844, 'vuitton': 12504, 'instance': 5897, 'ebay': 3542, 'lv': 6912, 'immerse': 5654, 'nearness': 7705, 'grandpa': 4914, 'bishop': 1187, 'parliamentary': 8351, 'ministerial': 7346, 'minister': 7345, 'capitol': 1650, 'chemistry': 1870, 'watchable': 12589, 'loop': 6817, 'culmination': 2634, 'dancefloor': 2725, 'tempo': 11477, 'offi': 8015, 'peculiar': 8451, 'marvel': 7079, 'permeate': 8519, 'deprived': 2963, 'pinpoint': 8641, 'assess': 724, 'journaling': 6238, 'screeching': 10087, 'halt': 5084, 'carcass': 1660, 'nordstrom': 7861, 'runner': 9888, 'prize': 8999, 'suppport': 11232, 'perspire': 8545, 'muddy': 7575, 'whinge': 12688, 'thompson': 11588, 'fluff': 4393, 'crestfalle': 2567, 'imbicilic': 5642, 'needle': 7718, 'nineteen': 7818, 'tyrant': 11991, 'dedicate': 2831, 'browser': 1479, 'booth': 1342, 'occasional': 7979, 'contrary': 2390, 'german': 4726, 'devout': 3054, 'nazi': 7698, 'detest': 3028, 'partys': 8370, 'ideology': 5600, 'forcibly': 4444, 'conscript': 2313, 'gunther': 5036, 'spazzing': 10752, 'thingy': 11573, 'gikwang': 4757, 'dissapeare': 3244, 'sufficiently': 11166, 'jade': 6110, 'stature': 10932, 'lauren': 6529, 'nowwwwww': 7906, 'relegate': 9505, 'warmly': 12571, 'ini': 5843, 'oblige': 7962, 'seemingly': 10140, 'guilte': 5022, 'monogamous': 7461, 'violence': 12450, 'disturbing': 3277, 'insidious': 5879, 'predictable': 8894, 'blaming': 1218, 'passer': 8377, 'desolation': 2992, 'suda': 11156, 'protagonist': 9077, 'average': 833, 'understoo': 12083, 'zz': 13022, 'logo': 6785, 'keychain': 6357, 'mm': 7406, 'composition': 2225, 'slouchy': 10526, 'studded': 11082, 'warehouse': 12566, 'stable': 10882, 'cautiously': 1745, 'dragon': 3400, 'mbourgon': 7141, 'healer': 5203, 'permalink': 8514, 'quizzical': 9230, 'suite': 11180, 'scrawny': 10084, 'wheelchair': 12675, 'memorable': 7213, 'repay': 9563, 'tingly': 11674, 'persistence': 8532, 'vegetable': 12365, 'grower': 4994, 'decis': 2817, 'internally': 5963, 'winetasting': 12777, 'absoloutely': 75, 'locate': 6771, 'leslie': 6622, 'significant': 10385, 'redhead': 9420, 'florence': 4380, 'sanctum': 9960, 'tradition': 11789, 'vampire': 12336, 'buddy': 1498, 'discomfort': 3172, 'france': 4500, 'aj': 324, 'candle': 1633, 'flashlight': 4336, 'asher': 700, 'bug': 1505, 'nolonger': 7841, 'mba': 7140, 'unfinished': 12121, 'freud': 4542, 'irma': 6040, 'injection': 5847, 'oregon': 8113, 'leadingstring': 6559, 'mashed': 7091, 'pronto': 9060, 'mash': 7090, 'amish': 442, 'punctual': 9150, 'hawaiian': 5181, 'sauce': 9997, 'pineapple': 8637, 'onion': 8060, 'preschooler': 8929, 'thoughtful': 11593, 'soften': 10644, 'captivate': 1654, 'ibs': 5584, 'implication': 5677, 'agn': 286, 'rhetoric': 9716, 'diplomatic': 3127, 'gaffe': 4628, 'crc': 2541, 'cre': 2542, 'investigati': 6006, 'miguel': 7300, 'thoughtfu': 11592, 'telegram': 11460, 'compartmentalise': 2193, 'backing': 890, 'dial': 3067, 'desp': 2993, 'drawer': 3412, 'lotion': 6836, 'fiesty': 4248, 'communing': 2180, 'nighter': 7807, 'portraiture': 8813, 'dvds': 3500, 'cunt': 2645, 'derfwadmanor': 2969, 'dejected': 2881, 'survival': 11257, 'onwards': 8066, 'chendol': 1872, 'kacang': 6297, 'bb': 1011, 'ritalin': 9767, 'flias': 4356, 'ski': 10464, 'slope': 10522, 'steep': 10945, 'cullam': 2632, 'greys': 4960, 'anatomy': 470, 'inaction': 5707, 'recycled': 9414, 'generic': 4703, 'suppliment': 11223, 'decorate': 2827, 'loft': 6778, 'stair': 10893, 'convenience': 2395, 'intellectual': 5928, 'eid': 3618, 'paulo': 8420, 'coelho': 2088, 'lovedi': 6852, 'virtual': 12459, 'prematurely': 8913, 'certificate': 1790, 'rubbish': 9863, 'dick': 3081, 'hobb': 5365, 'rebecca': 9367, 'mcpherson': 7150, 'unintentionally': 12151, 'jajaja': 6118, 'roundly': 9848, 'ravage': 9316, 'crossing': 2598, 'explode': 4029, 'pressurize': 8942, 'cabin': 1576, 'foundation': 4480, 'bert': 1122, 'rafferty': 9258, 'cli': 2018, 'conversion': 2402, 'identity': 5599, 'tenderness': 11488, 'statistic': 10931, 'hsp': 5492, 'whingee': 12689, 'beluga': 1095, 'whale': 12668, 'nameless': 7658, 'marginally': 7049, 'awash': 849, 'overeducated': 8205, 'underpaid': 12075, 'indenture': 5763, 'dupe': 3487, 'weirdo': 12642, 'adjust': 187, 'wealth': 12601, 'sven': 11278, 'hjerson': 5357, 'smil': 10554, 'stu': 11075, 'blond': 1261, 'cherry': 1874, 'washing': 12582, 'lunapad': 6895, 'appreciation': 606, 'devise': 3046, 'distribution': 3272, 'piddle': 8615, 'punch': 9149, 'midst': 7289, 'duo': 3486, 'shedding': 10278, 'hurtful': 5552, 'insignificant': 5881, 'peep': 8462, 'coffin': 2092, 'crone': 2592, 'scoff': 10064, 'popeye': 8793, 'cartoon': 1707, 'morla': 7498, 'gosman': 4871, 'touristy': 11774, 'montauk': 7469, 'infrequent': 5827, 'cawing': 1751, 'seagull': 10108, 'piling': 8627, 'spook': 10829, 'plum': 8723, 'heavens': 5234, 'plead': 8707, 'weigh': 12632, 'funeral': 4611, 'argume': 643, 'edith': 3570, 'stoner': 11000, 'withdrawal': 12801, 'agitat': 283, 'jam': 6122, 'excessive': 3967, 'noseband': 7875, 'metal': 7256, 'due': 3467, 'stagnate': 10890, 'brach': 1387, 'chipmunk': 1907, 'went': 12653, 'natasha': 7676, 'gan': 4647, 'suede': 11161, 'chadstone': 1797, 'tonite': 11727, 'playoff': 8704, 'york': 12975, 'ruslan': 9896, 'fedotenko': 4188, 'flail': 4322, 'primitive': 8975, 'deathly': 2799, 'stanley': 10908, 'disconnect': 3175, 'feely': 4200, 'envelope': 3820, 'regulate': 9472, 'sustain': 11270, 'swedish': 11297, 'muffin': 7577, 'attachment': 782, 'bettys': 1135, 'thief': 11568, 'importance': 5681, 'heavier': 5235, 'primer': 8973, 'rex': 9714, 'dingler': 3119, 'amd': 434, 'vary': 12351, 'hesitate': 5305, 'tangible': 11386, 'pragmatic': 8869, 'disagreement': 3146, 'friar': 4543, 'contin': 2376, 'kuwait': 6449, 'balk': 922, 'soup': 10724, 'pregant': 8905, 'lucas': 6872, 'sombre': 10667, 'maureen': 7127, 'spee': 10776, 'dun': 3480, 'possesive': 8827, 'inanimate': 5713, 'piano': 8603, 'janelle': 6129, 'mon': 7451, 'elle': 3662, 'february': 4183, 'strand': 11024, 'fraser': 4510, 'submerge': 11124, 'wd': 12598, 'hire': 5348, 'vehicle': 12369, 'stride': 11053, 'kickoff': 6367, 'englishman': 3770, 'talkative': 11375, 'taunt': 11415, 'existance': 4004, 'masculinity': 7089, 'diabetes': 3062, 'dee': 2833, 'triangle': 11870, 'kara': 6311, 'attraction': 793, 'actively': 156, 'normative': 7869, 'blogosphere': 1255, 'hog': 5373, 'verbally': 12389, 'eighth': 3621, 'suzanne': 11277, 'vegas': 12364, 'regain': 9452, 'billion': 1168, 'pear': 8446, 'blueberry': 1276, 'smoothie': 10566, 'olympic': 8045, 'distaste': 3257, 'designer': 2986, 'incorporate': 5751, 'actuality': 162, 'thundershower': 11625, 'ginormous': 4764, 'gloominess': 4808, 'sanctity': 9959, 'webkit': 12616, 'inline': 5853, 'jake': 6119, 'budget': 1500, 'spreadsheet': 10842, 'someplace': 10674, 'aspieness': 714, 'iq': 6025, 'mense': 7224, 'noisy': 7838, 'medicate': 7178, 'mundane': 7599, 'disrespectful': 3239, 'hilly': 5335, 'going': 4839, 'coronation': 2446, 'aac': 45, 'haircut': 5070, 'shimmer': 10296, 'obvious': 7976, 'looking': 6811, 'caretaker': 1677, 'ptk': 9122, 'convention': 2398, 'slack': 10485, 'constipate': 2339, 'alliance': 388, 'unmotivated': 12184, 'enormously': 3789, 'francis': 4502, 'weighing': 12634, 'devon': 3048, 'loch': 6773, 'decluttere': 2824, 'comparatively': 2189, 'et': 3878, 'cetera': 1792, 'yank': 12933, 'readjust': 9340, 'methodically': 7262, 'expr': 4038, 'morrison': 7506, 'thirsty': 11579, 'inadequacy': 5710, 'backstabber': 893, 'accusation': 130, 'jene': 6162, 'pursuit': 9170, 'nachos': 7640, 'ravenous': 9318, 'uruk': 12292, 'hai': 5066, 'expertise': 4025, 'global': 4804, 'corporation': 2450, 'nowher': 7905, 'gloomed': 4807, 'billiard': 1167, 'imperfection': 5669, 'coerce': 2089, 'mock': 7415, 'ade': 181, 'upstairs': 12280, 'benefice': 1105, 'bail': 914, 'plate': 8690, 'newsprint': 7780, 'readership': 9337, 'tame': 11380, 'remotely': 9547, 'related': 9493, 'homosexuality': 5411, 'dozen': 3393, 'stipulation': 10988, 'skeered': 10455, 'rupee': 9893, 'console': 2330, 'allusion': 395, 'massou': 7102, 'fullness': 4599, 'satisfaction': 9992, 'purposeless': 9166, 'innovative': 5860, 'dewi': 3056, 'lestari': 6627, 'metaphor': 7258, 'hockney': 5372, 'collect': 2118, 'mega': 7189, 'pander': 8305, 'sucker': 11152, 'crowed': 2604, 'furniture': 4617, 'downtown': 3391, 'dalla': 2708, 'eucharist': 3893, 'professor': 9025, 'banker': 947, 'conservative': 2319, 'liberal': 6647, 'arrogant': 671, 'stat': 10923, 'barrel': 972, 'nipping': 7824, 'flirt': 4365, 'eurgh': 3897, 'dehydrated': 2876, 'oprah': 8096, 'openly': 8077, 'tess': 11517, 'muff': 7576, 'successive': 11149, 'pummel': 9144, 'electora': 3638, 'ply': 8734, 'tweedy': 11969, 'yarn': 12937, 'rowan': 9853, 'shawl': 10275, 'manga': 7007, 'ttc': 11934, 'offering': 8013, 'hunting': 5543, 'fishing': 4306, 'confide': 2272, 'effective': 3593, 'repentant': 9570, 'fe': 4172, 'puff': 9137, 'parliament': 8350, 'gil': 4758, 'roble': 9788, 'promptly': 9057, 'cancel': 1630, 'charette': 1830, 'apo': 577, 'witch': 12799, 'smoker': 10561, 'sojourn': 10648, 'yori': 12974, 'aoshi': 563, 'complicated': 2219, 'prelim': 8911, 'math': 7113, 'limbo': 6695, 'invincible': 6012, 'talking': 11376, 'execution': 3985, 'fathom': 4159, 'unease': 12105, 'podcast': 8741, 'concrete': 2253, 'childish': 1891, 'claudia': 1998, 'lifetime': 6666, 'questionable': 9208, 'aussie': 810, 'own': 8246, 'nokia': 7839, 'rawr': 9321, 'highschool': 5325, 'edmonton': 3573, 'wainwright': 12522, 'empathise': 3708, 'elaine': 3627, 'christina': 1931, 'cho': 1911, 'collar': 2115, 'padlock': 8270, 'hymn': 5563, 'proffer': 9026, 'supportiveness': 11228, 'avast': 831, 'antivirus': 547, 'seb': 10119, 'baltimore': 932, 'sprinkling': 10848, 'snappy': 10578, 'poem': 8743, 'sophat': 10698, 'kandal': 6307, 'recovery': 9408, 'marvin': 7082, 'ma': 6918, 'conor': 2303, 'reinforcement': 9482, 'cognitive': 2094, 'reframe': 9444, 'diminish': 3112, 'defer': 2856, 'barrage': 971, 'enid': 3774, 'blyton': 1285, 'johns': 6210, 'baker': 917, 'oily': 8030, 'poser': 8820, 'babysat': 880, 'monroe': 7465, 'anansi': 469, 'leather': 6574, 'sandal': 9962, 'wobbly': 12815, 'bruise': 1482, 'chiharu': 1886, 'heap': 5209, 'shinae': 10298, 'sms': 10570, 'andy': 480, 'mansell': 7027, 'trou': 11901, 'brasse': 1404, 'robot': 9789, 'means': 7164, 'logic': 6782, 'thi': 11564, 'taheb': 11358, 'vague': 12318, 'esteem': 3873, 'killjoy': 6376, 'whimsy': 12685, 'elite': 3659, 'universal': 12162, 'dimple': 3113, 'sag': 9936, 'ashley': 701, 'recoil': 9396, 'basket': 987, 'monogramme': 7462, 'tropical': 11898, 'oscar': 8140, 'denounce': 2929, 'grotesque': 4985, 'sadly': 9930, 'crab': 2520, 'getin': 4736, 'coldplay': 2107, 'nay': 7697, 'principle': 8979, 'contrast': 2391, 'alignment': 374, 'proximity': 9101, 'whizz': 12711, 'oftentime': 8025, 'wycombe': 12912, '82nd': 38, 'winner': 12782, 'neill': 7737, 'reasonable': 9359, 'predicate': 8892, 'pooley': 8786, 'vanish': 12341, 'altogether': 412, 'emp': 3706, 'inclined': 5734, 'manif': 7015, 'tactic': 11354, 'skimmable': 10470, 'confrontational': 2287, 'thrive': 11611, 'executive': 3986, 'corporate': 2449, 'mortuary': 7511, 'morbid': 7491, 'compasionate': 2194, 'greive': 4958, 'insurance': 5919, 'kilometre': 6378, 'shuffle': 10354, 'puzzle': 9179, 'administrator': 191, 'ssr': 10877, 'unw': 12248, 'reaura': 9366, 'firm': 4297, 'admitting': 199, 'closed': 2045, 'indigestion': 5774, 'dubai': 3459, 'fedex': 4187, 'treasured': 11851, 'linda': 6704, 'financially': 4275, 'peek': 8460, 'climax': 2026, 'phase': 8574, 'waken': 12530, 'occupant': 7986, 'spoiler': 10822, 'elsewhe': 3668, 'biggie': 1161, 'jude': 6252, 'lambrusco': 6477, 'bubbly': 1493, 'inventory': 6002, 'perishable': 8512, 'glam': 4780, 'nuptial': 7925, 'resentment': 9615, 'tempura': 11483, 'sundaes': 11193, 'absurd': 83, 'dagger': 2699, 'sleeve': 10508, 'wreck': 12884, 'pendleton': 8477, 'tried': 11879, 'trusty': 11919, 'intuition': 5996, 'mayo': 7138, 'killers': 6375, 'cathartic': 1730, 'secretly': 10128, 'mychem': 7628, 'legtimately': 6596, 'quitter': 9224, 'millennia': 7314, 'brainstorm': 1396, 'sig': 10376, 'hellip': 5261, 'expressway': 4042, 'barbeque': 956, 'glycerin': 4824, 'rainbow': 9269, 'rambo': 9277, 'massac': 7096, 'absolutly': 78, 'flourishing': 4386, 'tangle': 11388, 'unsuitable': 12234, 'calendar': 1594, 'fascinated': 4144, 'cholesterol': 1918, 'respectful': 9641, 'polite': 8768, 'lif': 6660, 'generate': 4699, 'usmleasy': 12303, 'weirdly': 12641, 'founder': 4481, 'artisan': 683, 'poverty': 8852, 'shush': 10356, 'unexplained': 12115, 'magnetic': 6949, 'cable': 1577, 'darkest': 2745, 'gloom': 4806, 'irrevocably': 6050, 'headachie': 5191, '40th': 32, 'incommunicado': 5741, 'mini': 7336, 'bikini': 1164, 'hyun': 5577, 'joong': 6229, 'realism': 9348, 'hardship': 5131, 'mumbai': 7593, 'facility': 4088, 'nashville': 7673, 'faite': 4103, 'disrespect': 3238, 'cordelia': 2434, 'rejoice': 9487, 'knitter': 6415, 'olympian': 8044, 'oop': 8069, 'mun': 7597, 'stressful': 11044, 'floyd': 4390, 'patterson': 8416, 'treatme': 11854, 'undeservingly': 12092, 'clodia': 2042, 'everitt': 3919, 'throe': 11616, 'ownership': 8248, 'babe': 874, 'gallery': 4637, 'perversion': 8551, 'poster': 8835, 'organise': 8118, 'involved': 6019, 'dovetail': 3377, 'ironic': 6042, 'gyp': 5049, 'nursery': 7927, 'curriculum': 2659, 'pupil': 9157, 'andrea': 476, 'maxs': 7134, 'organized': 8123, 'unreliable': 12210, 'iced': 5587, 'capp': 1651, 'surprisingly': 11251, 'mud': 7572, 'wrestling': 12890, 'outrageous': 8173, 'sympathise': 11328, 'bernard': 1119, 'hypnosis': 5572, 'ex': 3940, 'divo': 3293, 'harmony': 5138, 'hesitation': 5306, 'engaged': 3763, 'rhythmic': 9719, 'bailey': 915, 'nhs': 7785, 'shakiness': 10250, 'feelbut': 4195, 'rabbit': 9237, 'fina': 4267, 'enquiry': 3791, 'notify': 7893, 'zimmerman': 13009, 'whimper': 12683, 'uncared': 12040, 'scoop': 10066, 'texte': 11526, 'haircute': 5071, 'acting': 152, 'orient': 8127, 'uniform': 12140, 'glove': 4816, 'patie': 8401, 'assessment': 725, 'ambitious': 429, 'drunk': 3447, 'rosary': 9827, 'unconscious': 12055, 'overt': 8226, 'arrise': 667, 'spit': 10809, 'pipsqueak': 8649, 'walia': 12538, 'tarun': 11403, 'bani': 943, 'planning': 8683, 'nathan': 7677, 'travis': 11843, 'tease': 11436, 'edouard': 3577, 'sickening': 10366, 'selective': 10152, 'privacys': 8993, 'clozapine': 2057, 'constructively': 2348, '1878': 6, 'greenock': 4953, 'langu': 6494, 'parson': 8354, 'avai': 828, 'historian': 5350, 'scarred': 10030, 'mso': 7565, 'bidi': 1159, 'retarte': 9671, 'faber': 4080, 'vaudeville': 12355, '1929': 8, 'baritone': 964, 'bolovian': 1313, 'ballad': 924, 'bab': 871, 'mph': 7558, 'ballet': 926, 'wrecke': 12885, 'athleticism': 766, 'severely': 10229, 'cruel': 2610, 'solace': 10650, 'familiarly': 4122, 'decite': 2820, 'surkov': 11245, 'nevermind': 7768, 'supposedly': 11230, 'overtook': 8233, 'haggle': 5060, 'attire': 790, 'attainable': 785, 'committee': 2170, 'futur': 4623, 'lecture': 6578, 'bee': 1051, 'cara': 1657, 'vip': 12455, 'sticker': 10971, 'luxurious': 6910, 'resigned': 9625, 'spurn': 10855, 'seedy': 10136, 'syndrome': 11334, 'hyper': 5565, 'cleaning': 2005, 'blindly': 1242, 'disintereste': 3211, 'hone': 5414, 'razor': 9325, 'hindsight': 5342, 'inevitably': 5799, 'withstand': 12803, 'accurate': 128, 'longevity': 6804, 'speculation': 10775, 'suspiciously': 11269, 'moist': 7427, 'turkey': 11955, 'stuffing': 11088, 'ahhh': 302, 'depressing': 2957, 'unrewarde': 12213, 'ounce': 8150, 'insulting': 5918, 'mowbray': 7554, 'mien': 7294, 'newly': 7776, 'cour': 2498, 'monkee': 7460, 'detailed': 3019, 'vibrant': 12409, 'patent': 8394, 'illustrator': 5633, 'trapping': 11835, 'crosshatch': 2597, 'lensflare': 6614, 'maman': 6990, 'enmayi': 3785, 'doll': 3323, 'tak': 11363, 'mustard': 7622, 'agonise': 290, 'finality': 4271, 'netflix': 7758, 'misinformed': 7377, 'hatter': 5167, 'alice': 369, 'picoult': 8611, 'rally': 9275, 'gray': 4939, 'mare': 7043, 'kilburn': 6372, 'hello': 5262, 'kelly': 6345, 'imitate': 5646, 'refill': 9435, 'humbug': 5518, 'grapple': 4923, 'hairdryer': 5072, 'sketc': 10461, 'bonka': 1330, 'neva': 7767, 'costume': 2470, 'scott': 10073, 'sunderland': 11195, 'crosby': 2593, 'craisin': 2524, 'siren': 10432, 'pogue': 8747, 'reggae': 9457, 'sizzler': 10451, 'discipline': 3166, 'cruelty': 2611, 'lupron': 6902, 'intercessor': 5950, 'absorb': 79, 'revelation': 9690, 'tome': 11715, 'selling': 10162, 'outfit': 8162, 'wt': 12903, 'txl': 11981, 'sage': 9937, 'esteemed': 3874, 'ultralight': 12012, 'forum': 4475, 'rescue': 9607, 'sonam': 10681, 'genelia': 4694, 'verrrrrrrryyyy': 12392, 'ntoward': 7910, 'bsc': 1488, 'ally': 396, 'maneuver': 7005, 'parking': 8349, 'maniacal': 7012, 'travelogue': 11842, 'bernie': 1120, 'humungous': 5532, 'modernization': 7421, 'storyline': 11010, 'detraction': 3032, 'motor': 7529, 'quivering': 9227, 'lapse': 6499, 'accelerate': 97, 'flicker': 4358, 'slam': 10488, 'adequately': 182, 'breakup': 1417, 'synod': 11335, 'frozen': 4573, 'maeve': 6936, 'sharp': 10269, 'rile': 9753, 'unsheathe': 12224, 'sword': 11319, 'consultant': 2351, 'patronise': 8413, 'refusal': 9450, 'deliver': 2903, 'established': 3868, 'unreal': 12203, 'pocket': 8739, 'lo': 6761, 'rounder': 9847, 'personalitie': 8537, 'reward': 9710, 'quarter': 9198, 'flare': 4332, 'astonishe': 747, 'renault': 9551, 'accumulate': 126, 'variant': 12346, 'jerome': 6171, 'practicie': 8867, 'cult': 2636, 'falun': 4116, 'gong': 4848, 'bemuse': 1097, 'forehead': 4449, 'ronaldsay': 9817, 'jay': 6143, 'crumble': 2613, 'conducive': 2262, 'nudge': 7914, 'voicesfromkrypton': 12488, 'oppie': 8089, 'nondescript': 7847, 'wiry': 12790, 'profusely': 9031, 'chinese': 1904, 'whatever': 12670, 'kamiki': 6306, 'kun': 6445, 'nozomi': 7907, 'nonchan': 7846, 'dang': 2729, 'patriotism': 8410, 'millionth': 7317, 'desendant': 2980, 'canter': 1641, 'stem': 10951, 'undergraduate': 12070, 'buoie': 1530, 'detached': 3016, 'stressor': 11046, 'segment': 10143, 'khmer': 6364, 'rouge': 9842, 'atrocity': 779, '1975': 10, '1978': 11, 'cambodia': 1611, 'likelihood': 6688, 'cambodian': 1612, 'factio': 4091, 'rooted': 9824, 'carcenogenic': 1661, 'pleasantness': 8710, 'eagle': 3516, 'internal': 5961, 'boundary': 1365, 'oz': 8253, 'occassional': 7981, 'viewing': 12430, 'portray': 8814, 'punjabi': 9155, 'lobia': 6769, 'masala': 7085, 'tryin': 11925, 'gud': 5012, 'understad': 12079, 'abt': 85, 'dat': 2756, 'ur': 12283, 'problemn': 9005, 'carin': 1681, 'rte': 9858, 'emoticon': 3701, 'lyman': 6914, 'urgent': 12287, 'diego': 3090, 'edition': 3571, 'leanne': 6564, 'kakashi': 6302, 'detox': 3030, 'cobwebs': 2079, 'psychopathology': 9117, 'amphetamine': 451, 'info': 5819, 'comfident': 2150, 'burbank': 1532, 'los': 6829, 'angeles': 485, 'legion': 6589, 'indy': 5792, 'digital': 3101, 'ingrate': 5834, 'twitchy': 11978, 'brainless': 1395, 'overdo': 8199, 'defriende': 2872, 'hound': 5474, 'creatur': 2555, 'pinterest': 8643, 'glory': 4812, 'darkness': 2747, 'hath': 5164, 'televis': 11464, 'understo': 12082, 'undeniably': 12062, 'restraint': 9658, 'helplessly': 5268, 'tuition': 11945, 'sci': 10056, 'haunting': 5171, 'thriller': 11609, 'mister': 7391, 'magnum': 6952, 'gi': 4748, 'convenient': 2396, 'times': 11663, 'repor': 9581, 'allergen': 383, 'restriction': 9661, 'prick': 8963, 'priestess': 8968, 'ven': 12377, 'talia': 11372, 'devotion': 3052, 'rank': 9290, 'insistent': 5884, 'exert': 3988, 'poli': 8762, 'deer': 2843, 'pinch': 8635, 'tis': 11684, 'pitcher': 8658, 'organisation': 8117, 'hyperemesis': 5567, 'newness': 7777, 'masochistically': 7094, 'inadequacie': 5709, 'breathing': 1424, 'steroid': 10962, 'thailand': 11533, 'touring': 11771, 'davidson': 2769, 'earshot': 3529, 'rv': 9907, 'dinette': 3118, 'driveway': 3434, 'stringer': 11058, '19': 7, 'dribble': 3425, 'mums': 7596, 'unintelligible': 12149, 'blabbering': 1202, 'flora': 4378, 'wer': 12654, 'intrusive': 5994, 'fulfilling': 4596, 'foreigner': 4451, 'complex': 2215, 'wnat': 12812, 'seamlessly': 10111, 'infer': 5810, 'impolite': 5679, 'trace': 11784, 'promoter': 9052, 'duva': 3497, 'contender': 2369, 'fi': 4235, 'replenish': 9578, 'disbelief': 3160, 'ryota': 9911, 'keita': 6343, 'kota': 6435, 'atention': 757, 'confusion': 2291, 'misstreate': 7388, 'affeccion': 238, 'unrest': 12212, 'screenwriter': 10091, 'eit': 3624, 'hyde': 5561, 'latex': 6513, 'hungover': 5538, 'bumper': 1521, 'demonstrate': 2915, 'infrastructure': 5826, 'inequality': 5796, 'quantum': 9196, 'standout': 10907, 'feist': 4201, 'performer': 8508, 'pistol': 8655, 'auction': 799, 'functional': 4605, 'java': 6140, 'python': 9184, 'haskell': 5152, 'domain': 3328, 'babsbrisbane': 875, 'wean': 12603, 'wo': 12813, 'lissa': 6728, 'plod': 8719, 'contemplation': 2365, 'consolidation': 2331, 'alotta': 402, 'refrigerator': 9447, 'magnet': 6948, 'tripper': 11887, 'isle': 6067, 'wight': 12741, 'pla': 8668, 'repressive': 9591, 'guideline': 5019, 'partaking': 8356, 'revelry': 9691, 'slut': 10541, 'grove': 4992, 'rot': 9838, 'clumsy': 2064, 'sh': 10240, 'sniping': 10594, 'alba': 340, 'fitting': 4310, 'recycle': 9413, 'household': 5479, 'scrap': 10077, 'dittmar': 3281, 'willy': 12761, 'nilly': 7817, 'permanenter': 8517, 'zum': 13020, 'eintrag': 3623, 'layout': 6545, 'flag': 4320, 'turkish': 11956, 'err': 3850, 'unwilling': 12254, 'loada': 6763, 'maybee': 7136, 'bitt': 1195, 'snug': 10613, 'ken': 6346, 'maine': 6960, 'temp': 11469, 'nightmare': 7812, 'livejournal': 6745, 'enable': 3723, 'affordable': 247, 'pompom': 8780, 'colored': 2130, 'braid': 1393, 'flap': 4330, 'benefi': 1104, 'somthing': 10679, 'scratcheverythe': 10081, 'correspondingly': 2458, 'temperatur': 11471, 'elbow': 3632, 'banged': 941, 'bleak': 1231, 'redundant': 9425, 'considerably': 2322, 'unsettle': 12221, 'imbibe': 5641, 'incalculable': 5721, 'mischief': 7367, 'sarah': 9976, 'jareth': 6137, 'labyrinth': 6458, 'toby': 11696, 'landscape': 6491, 'aftermath': 261, 'lightning': 6679, 'gloss': 4813, 'evans': 3907, 'estonians': 3875, 'russian': 9899, 'populati': 8797, 'disguise': 3197, 'brightly': 1446, 'stella': 10949, 'endeavor': 3740, 'database': 2758, 'wip': 12786, 'sissy': 10435, 'intoxication': 5984, 'bosom': 1351, 'towelling': 11778, 'robe': 9782, 'illustrate': 5631, 'communicator': 2179, 'sophomore': 10701, 'sufficient': 11165, 'accordance': 121, 'faithfulness': 4106, 'examination': 3947, 'ulysse': 12014, 'tranny': 11811, 'blake': 1216, 'eternity': 3883, 'rice': 9724, 'er': 3842, 'ssa': 10876, 'serendipity': 10198, 'collide': 2123, 'stepchild': 10954, 'prominently': 9050, 'valente': 12324, 'harmonious': 5137, 'sassy': 9986, 'aluminum': 414, 'fiber': 4237, 'puppy': 9158, 'hanley': 5110, 'prison': 8988, 'liverpool': 6748, 'homeschoole': 5403, 'scarecrow': 10026, 'wizard': 12810, 'undone': 12097, 'herb': 5285, 'experienced': 4022, 'entrance': 3814, 'brazil': 1408, 'photoshoot': 8593, 'gameplay': 4643, 'ideally': 5596, 'acim': 140, 'integrate': 5925, 'abraham': 71, 'paining': 8283, 'equivalent': 3841, 'collective': 2120, 'hara': 5122, 'kiri': 6395, 'paradoxically': 8325, 'cell': 1770, 'barking': 966, 'squirrel': 10869, 'partne': 8366, 'upper': 12273, 'desert': 2981, 'ridicule': 9735, 'grammar': 4905, 'parenting': 8342, 'blatantly': 1227, 'deployment': 2950, 'eternally': 3882, 'hilmari': 5336, 'luggage': 6882, 'oiut': 8031, 'minibus': 7338, 'fare': 4135, 'otherworldliness': 8147, 'translucent': 11829, 'pulpit': 9141, 'efficacy': 3597, 'excellent': 3961, 'mythology': 7638, 'trader': 11788, 'overtaken': 8228, 'greenery': 4952, 'penguin': 8479, 'interview': 5975, 'freaking': 4517, 'tastic': 11408, 'towel': 11777, 'melody': 7202, 'nightmarish': 7813, 'disengage': 3194, 'zest': 13003, 'barney': 969, 'tidbit': 11641, 'innate': 5857, 'titanium': 11688, 'hedgehog': 5242, 'fester': 4220, 'perk': 8513, 'operation': 8081, 'revovle': 9708, 'ansi': 531, 'saying': 10010, 'lollypop': 6793, 'pork': 8805, 'loin': 6786, 'gallon': 4638, 'ziplock': 13012, 'marinade': 7056, 'freezer': 4529, 'inauguration': 5718, 'cathe': 1731, 'dodgy': 3314, 'ukrainian': 12007, 'inclusive': 5737, 'wisconsin': 12791, 'magnificent': 6950, 'twisted': 11976, 'allocate': 390, 'penny': 8485, 'lurk': 6905, 'archdiocese': 632, 'underway': 12087, 'restoration': 9655, 'cathedral': 1732, 'strategic': 11032, 'healthcare': 5206, 'trample': 11808, 'smacked': 10545, 'brotherhood': 1473, 'advanced': 217, 'pe': 8437, 'twin': 11973, 'copper': 2428, 'harry': 5143, 'potter': 8847, 'vacancy': 12314, 'emtyness': 3721, 'standby': 10905, 'couch': 2472, 'legitemately': 6591, 'extrememly': 4061, 'irrelevant': 6046, 'impersonal': 5672, 'accumulation': 127, 'elusive': 3671, 'jumble': 6271, 'culprit': 2635, 'snippet': 10595, 'dublin': 3460, 'incompetent': 5742, 'jen': 6161, 'mobility': 7414, 'crutch': 2619, 'occupational': 7988, 'cricnepal': 2572, 'nosy': 7879, 'peice': 8469, 'you': 12979, 'piddi': 8614, 'nudist': 7915, 'mimm': 7322, 'thislifeissparkle': 11584, 'danger': 2730, 'acknowledgement': 143, 'eddie': 3565, 'eg': 3606, 'wor': 12843, 'tomorr': 11717, 'cabbage': 1573, 'venison': 12380, 'component': 2222, 'stew': 10967, 'pomegranate': 8779, 'oiliness': 8029, 'corrupting': 2459, 'unloveable': 12180, 'istanbul': 6081, 'homesickish': 5406, 'snowpea': 10610, 'nissan': 7825, 'stanza': 10909, 'rt': 9857, 'underst': 12078, 'incrementally': 5758, 'rigid': 9747, 'paranoia': 8332, 'belonging': 1089, 'missy': 7389, 'shun': 10355, 'davids': 2768, 'lovecraft': 6850, 'pokemon': 8756, 'risky': 9765, 'mait': 6965, 'wierd': 12734, 'cbc': 1752, 'jazzyboy': 6145, 'cox': 2515, 'enchanting': 3729, 'runneth': 9889, 'obey': 7955, 'lunar': 6896, 'whim': 12682, 'scandalize': 10019, 'nfl': 7783, 'openness': 8078, 'pacesetter': 8258, 'existence': 4005, 'anything': 560, 'squint': 10868, 'boarder': 1289, 'positively': 8825, 'hillary': 5333, 'nonp': 7851, 'broad': 1460, 'categorie': 1727, 'se': 10105, 'screaming': 10086, 'dale': 2706, 'frusterate': 4577, 'yo': 12968, 'polyvore': 8778, 'advent': 219, 'satan': 9988, 'autism': 821, 'workload': 12850, 'cardio': 1666, 'zach': 12991, 'peg': 8467, 'adrenaline': 210, 'ti': 11631, 'paste': 8388, 'fragrance': 4492, 'freshen': 4538, 'girly': 4770, 'presumably': 8945, 'necessity': 7711, 'uniqueness': 12156, 'presupposition': 8946, 'midwife': 7293, 'calmly': 1605, 'hypocrisy': 5573, 'establishm': 3869, 'quench': 9204, 'extinguish': 4053, 'eliminate': 3656, 'governme': 4882, 'callous': 1603, 'unfaithful': 12119, 'noticeable': 7889, 'weariness': 12608, 'unfairly': 12117, 'nag': 7644, 'polish': 8766, 'katherine': 6326, 'downvoted': 3392, 'rugmi': 9879, 'perfume': 8509, 'iggy': 5612, 'azealea': 867, 'louboutin': 6840, 'rita': 9766, 'ora': 8102, 'vivienne': 12477, 'westwood': 12663, 'facilitate': 4087, 'interference': 5957, 'stunt': 11095, 'babysit': 881, 'introduction': 5989, 'dub': 3458, 'inarticulate': 5716, 'lucien': 6874, 'flailing': 4323, 'laurent': 6530, 'pensive': 8489, 'alon': 398, 'stony': 11001, 'sever': 10227, 'drivel': 3432, 'disclaimer': 3167, 'boldly': 1312, 'advertise': 225, 'stupendous': 11100, 'incredulity': 5756, 'ritz': 9770, 'chickie': 1884, 'int': 5920, 'knowlege': 6424, 'overpower': 8218, 'feeble': 4191, 'developer': 3041, 'abc': 54, 'fleeting': 4352, 'leer': 6582, 'pure': 9160, 'simkin': 10401, 'ller': 6758, 'anim': 499, 'naight': 7647, 'buck': 1494, 'spinach': 10799, 'feta': 4224, 'cranberry': 2528, 'balsamic': 931, 'viniagrette': 12443, 'microsoft': 7280, 'iron': 6041, 'cineworld': 1960, 'unamerican': 12025, 'hyperchondria': 5566, 'exaggeration': 3945, 'nauseas': 7691, 'trade': 11787, 'pencil': 8474, 'exit': 4007, 'freshly': 4539, 'wounding': 12876, 'clint': 2035, 'hairstyle': 5075, 'droop': 3436, 'frizz': 4561, 'grape': 4920, 'watermelon': 12592, 'berry': 1121, 'chop': 1920, 'mint': 7352, 'liqueur': 6721, 'coconut': 2086, 'rum': 9883, 'drambuie': 3407, 'oracle': 8103, 'busine': 1550, 'inform': 5820, 'desirable': 2987, 'validation': 12329, 'feminism': 4210, 'bauer': 1008, 'unconvinced': 12059, 'speaking': 10756, 'converse': 2401, 'rudimentary': 9871, 'unlikely': 12177, 'muck': 7571, 'aggressive': 278, 'frantically': 4507, 'scramble': 10076, 'meticulously': 7263, 'abolitionist': 66, 'spectrum': 10773, 'priso': 8987, 'robyn': 9790, 'leant': 6565, 'vastly': 12354, 'bomber': 1318, 'convoy': 2412, 'hauler': 5169, 'reaffirm': 9342, 'questioning': 9209, 'incomplete': 5743, 'regimented': 9461, 'distill': 3258, 'complexity': 2216, 'objective': 7957, 'definitive': 2867, 'tantric': 11391, 'buddhism': 1497, 'js': 6248, 'jilt': 6189, 'passport': 8385, '40': 31, 'stadia': 10885, 'mighty': 7298, 'mino': 7348, 'astonished': 748, 'packing': 8265, 'fn': 4406, 'limited': 6700, 'arrangment': 665, 'kenny': 6348, 'israelis': 6077, 'arguably': 641, 'constitute': 2340, 'palestinians': 8296, 'agnes': 287, 'phr': 8594, 'imperialism': 5671, 'lesbian': 6620, 'underwhelmed': 12089, 'sweetie': 11303, 'comprehend': 2227, 'embroider': 3689, 'satin': 9990, 'breech': 1426, 'jabot': 6100, 'eighteenth': 3620, 'june': 6277, 'illinois': 5627, 'psychopath': 9116, 'karapiro': 6313, 'regatta': 9455, 'zumba': 13021, 'blackberry': 1204, 'pipkin': 8648, 'limp': 6701, 'rosemary': 9831, 'autistic': 822, 'twas': 11966, 'bedside': 1049, 'cutter': 2678, 'insecured': 5872, 'impose': 5684, 'coupon': 2497, 'tire': 11681, 'headless': 5196, 'slough': 10527, 'kathumpe': 6327, 'logically': 6784, 'unconditional': 12054, 'connected': 2299, 'hiatus': 5313, 'laddie': 6467, 'minimize': 7342, 'tech': 11438, 'concurrently': 2254, 'trajectory': 11806, 'christianity': 1929, 'whoop': 12718, 'unsteady': 12231, 'duration': 3488, 'plantar': 8685, 'fascitis': 4147, 'jewellery': 6182, 'luxury': 6911, 'scold': 10065, 'whirlwind': 12696, 'kentucky': 6349, 'secretive': 10127, 'hihi': 5326, 'remarkable': 9529, 'grader': 4898, 'demos': 2918, 'panel': 8307, 'vendor': 12378, 'mange': 7008, 'flourish': 4385, 'gfs': 4742, 'electrocute': 3643, 'chaste': 1844, 'datey': 2760, 'possess': 8828, 'prejudging': 8908, 'tt': 11931, 'stutter': 11104, 'asking': 709, 'taking': 11366, 'easel': 3534, 'frumpy': 4576, 'premature': 8912, 'graying': 4940, 'di': 3061, 'diploma': 3126, 'commodity': 2172, 'frosty': 4570, 'glaring': 4787, 'drastic': 3408, 'flickr': 4359, 'prickly': 8964, 'whisker': 12697, 'repulse': 9599, 'undeveloped': 12094, 'telling': 11467, 'restive': 9651, 'waaay': 12512, 'childishly': 1892, 'enviously': 3822, 'dave': 2765, 'atell': 756, 'enfold': 3759, 'babysitting': 882, 'vanishe': 12342, 'consternation': 2338, 'westminst': 12661, 'schellenberg': 10047, 'nerdy': 7746, 'workmate': 12851, 'waggoner': 12518, 'nemesis': 7738, 'workplace': 12853, 'tow': 11776, 'pickup': 8608, 'uncharacteristically': 12044, 'registration': 9465, 'uneventful': 12112, 'substitute': 11138, 'entrenchedly': 3815, 'moving': 7553, 'pureland': 9161, 'cripple': 2576, 'beam': 1026, 'navigating': 7695, 'drunkenly': 3449, 'waist': 12523, 'murmur': 7605, 'nothing': 7885, 'trafford': 11795, 'stamford': 10898, 'slate': 10493, 'auster': 813, 'embarrassment': 3683, 'disband': 3159, 'server': 10212, 'aimlessly': 308, 'pointlessly': 8750, 'traumatise': 11839, 'pestilence': 8559, 'starvation': 10920, 'idiocy': 5601, 'fastforwarding': 4152, 'instant': 5898, 'impractical': 5690, 'comprehensive': 2228, 'chant': 1818, 'reverberate': 9695, 'wrench': 12887, 'marshal': 7070, 'glenn': 4795, 'lure': 6903, 'emoexaderistic': 3699, 'seafood': 10107, 'clam': 1977, 'prawn': 8873, 'successio': 11148, 'coil': 2098, 'ain': 309, 'railway': 9266, 'platform': 8692, 'menstrual': 7225, 'ongoing': 8059, 'blend': 1235, 'scarlet': 10029, 'camille': 1617, 'matador': 7107, 'fl': 4316, 'impatience': 5662, 'shaw': 10274, 'durham': 3490, 'cleveland': 2016, 'veteran': 12402, '50': 34, 'persistent': 8533, 'advertising': 227, 'ordinance': 8111, 'nadia': 7641, 'cocktail': 2083, 'suppous': 11231, 'wycliffe': 12911, 'extremley': 4062, 'remote': 9546, 'location': 6772, 'sunset': 11200, 'cliched': 2021, 'revise': 9702, 'scraper': 10079, 'quake': 9189, 'shore': 10326, 'wth': 12904, 'earplug': 3527, 'entail': 3798, 'insomnia': 5885, 'acquaintance': 146, 'ac': 93, 'signalman': 10384, 'coope': 2420, 'shortness': 10334, 'minicab': 7339, 'cabb': 1572, 'lifespan': 6664, 'chronically': 1937, 'farm': 4139, 'bobo': 1296, 'spay': 10751, 'jonah': 6222, 'motel': 7516, 'violin': 12453, 'techno': 11443, 'slander': 10489, 'concidence': 2247, 'dams': 2721, 'structure': 11071, 'sketch': 10462, 'adapt': 170, 'frame': 4495, 'appearanc': 592, 'ewhich': 3939, 'movign': 7552, 'blowout': 1271, 'tantrum': 11392, 'musicjuzz': 7618, 'trimming': 11883, 'continuity': 2382, 'claire': 1975, 'alertness': 353, 'blaze': 1228, 'marker': 7060, 'cairn': 1587, 'contr': 2386, 'fireplace': 4294, 'jo': 6197, 'animosity': 504, 'snake': 10575, 'raphael': 9295, 'laiya': 6474, 'jennifer': 6164, 'scamper': 10017, 'nauseate': 7692, 'km': 6408, 'overnight': 8217, 'monica': 7458, 'welcoming': 12645, 'kao': 6310, 'mcwhinney': 7154, '55': 36, 'drumhark': 3446, 'comber': 2139, 'pulsar': 9142, 'spectato': 10770, 'circus': 1966, 'underpant': 12076, 'luke': 6887, 'mural': 7602, 'shamelessly': 10259, 'spilt': 10797, 'assortment': 737, 'expectant': 4016, 'accountant': 123, 'strained': 11022, 'misbehavior': 7365, 'hurried': 5548, 'frayed': 4513, 'lesley': 6621, 'flagellate': 4321, 'albino': 342, 'demon': 2914, 'drum': 3445, 'tody': 11703, 'delilahlwl': 2902, 'sibling': 10362, 'lanky': 6497, 'cecilia': 1760, 'improvise': 5700, 'fulfilled': 4595, 'pussy': 9174, 'naught': 7688, 'hehehehehe': 5248, 'awkwardness': 860, 'cuz': 2680, 'linux': 6715, 'ehh': 3617, 'belongingness': 1090, 'groan': 4977, 'wilkinson': 12750, 'defea': 2846, 'intellectually': 5929, 'cape': 1647, 'transient': 11824, 'willed': 12752, 'iam': 5581, 'needless': 7719, 'vigilant': 12432, 'whoosh': 12720, 'dipshit': 3128, 'jittery': 6196, 'meh': 7190, 'horrendously': 5448, 'avant': 830, 'garde': 4658, 'distortion': 3263, 'fictional': 4239, 'hachi': 5054, 'nobu': 7831, 'nana': 7660, 'dissipate': 3251, 'anxiously': 555, 'wif': 12735, 'appoint': 602, 'methink': 7260, 'ladyship': 6470, 'absurdity': 84, 'bulldog': 1512, 'minut': 7354, 'fran': 4498, 'faint': 4099, 'communicate': 2177, 'larry': 6504, 'singing': 10424, 'culley': 2633, 'yorke': 12976, 'fatigue': 4160, 'anyways': 561, 'twat': 11967, 'outweigh': 8187, 'palate': 8293, 'messianic': 7253, 'aggie': 272, 'hobnail': 5369, 'choc': 1912, 'bloc': 1248, 'fanatic': 4126, 'internalize': 5962, 'vietnam': 12426, 'liquid': 6722, 'moustache': 7545, 'droope': 3437, 'holler': 5383, 'suitably': 11178, 'yhhhay': 12962, 'stringent': 11057, 'mandela': 7002, 'tumultuous': 11950, 'ticker': 11637, 'traveler': 11841, 'devoid': 3047, 'kitwe': 6404, 'kina': 6382, 'taryn': 11404, 'zicam': 13006, 'solomon': 10662, 'slalom': 10487, 'keith': 6344, 'detour': 3029, 'xela': 12917, 'homemaker': 5399, 'tolonen': 11712, 'traditionalist': 11791, 'skeletal': 10456, 'unbounded': 12036, 'belts': 1094, 'murray': 7606, 'species': 10764, 'candyland': 1636, 'haggard': 5059, 'pacify': 8260, 'coordinate': 2423, 'housemate': 5481, 'lacey': 6461, 'disapprovement': 3155, 'rikkis': 9751, 'merit': 7244, 'hypocritical': 5575, 'tote': 11757, 'tricky': 11878, 'stitch': 10990, 'maschke': 7087, 'architecturally': 636, 'haired': 5073, 'insid': 5876, 'worri': 12859, 'carping': 1695, 'kuya': 6450, 'angee': 483, 'fondle': 4429, 'behalf': 1065, 'minuscule': 7353, 'tampon': 11383, 'firs': 4300, 'fiddle': 4240, 'hearth': 5224, 'vivek': 12474, 'oberoi': 7952, 'unacceptable': 12022, 'cursing': 2662, 'alan': 335, 'itchy': 6085, 'workaholic': 12847, 'communion': 2181, 'tremendous': 11860, 'theologically': 11553, 'eper': 3829, 'haley': 5078, 'fans': 4131, 'biochem': 1175, 'cluster': 2066, 'conqueror': 2307, 'remai': 9525, 'huckleberry': 5497, 'finn': 4289, 'censor': 1777, 'reagan': 9343, 'plein': 8716, 'repair': 9560, 'hooker': 5430, 'futility': 4620, 'angelic': 486, 'scrapbook': 10078, 'latin': 6516, 'besiege': 1125, 'prefecture': 8899, 'pol': 8757, 'mormon': 7499, 'mor': 7485, 'empathetic': 3707, 'gulity': 5029, 'obligatory': 7961, 'hr': 5488, 'isaac': 6057, 'over': 8190, 'lace': 6459, 'joshua': 6234, 'josh': 6233, 'groban': 4978, 'successfully': 11147, 'mingle': 7335, 'recommendation': 9399, '1993': 19, '94': 39, 'squad': 10858, 'adorn': 209, 'colleag': 2116, 'godwin': 4836, '23': 24, 'sophie': 10699, 'um': 12015, 'mover': 7550, 'magnify': 6951, 'oxford': 8250, 'dictionary': 3086, 'tero': 11502, 'totality': 11755, 'birthmom': 1185, 'slog': 10521, 'out': 8151, 'popcorn': 8792, 'pinot': 8640, 'gris': 4973, 'hung': 5535, 'slung': 10539, 'preference': 8902, 'embalm': 3677, 'soil': 10647, 'fortune': 4474, 'disadvantag': 3142, 'acause': 96, 'qa': 9185, 'purple': 9164, 'bark': 965, 'rosie': 9833, 'evgeni': 3929, 'malkin': 6984, 'seattle': 10118, 'fervent': 4219, 'yearning': 12950, 'nuance': 7911, 'psychotic': 9118, 'digg': 3100, 'multiple': 7587, 'resident': 9621, 'fox': 4486, 'downcas': 3380, 'unconsciously': 12056, 'jewel': 6180, 'plump': 8727, 'astounded': 750, 'soapy': 10618, 'tonigh': 11725, 'flirtie': 4366, 'bridget': 1440, 'jones': 6224, 'barbarossa': 955, 'mandate': 7001, 'milan': 7303, 'milanese': 7304, 'consul': 2349, 'imperial': 5670, 'ambassador': 426, 'rfttttttttttsjiowefmklldkavsvdsbtwrsbdvfocxfibjxrklrgrmvaeridubneosdvfrwfd': 9715, 'stressing': 11045, 'consultation': 2352, 'efficiently': 3600, 'eh': 3614, 'infact': 5803, 'brunch': 1483, 'trumpeter': 11914, 'waldo': 12534, 'carter': 1706, 'startle': 10917, 'flinch': 4362, 'camper': 1621, 'daisy': 2703, 'paster': 8389, 'edc': 3564, 'downtempo': 3389, 'adaption': 171, 'regional': 9463, 'tattered': 11413, 'gust': 5040, 'acheivment': 134, 'pro': 9002, 'vaccine': 12317, 'getaway': 4735, 'colorful': 2131, 'grumpily': 5002, 'lemony': 6603, 'vanilla': 12340, 'buttermilk': 1559, 'doucher': 3372, 'manuscript': 7034, 'requirement': 9604, 'jol': 6217, 'unspokenwords': 12230, 'keptinside': 6351, 'legitimize': 6594, 'mosquito': 7513, 'ollie': 8042, 'dreadful': 3415, 'lender': 6606, 'frightene': 4555, 'ibrox': 5583, 'ch': 1794, 'believ': 1077, 'focalor': 4409, 'sigil': 10381, 'opium': 8088, 'incense': 5725, 'wooden': 12835, 'randythomas': 9287, 'dilute': 3109, 'timetable': 11665, 'hiccup': 5314, 'kg': 6359, 'eyebr': 4068, 'upstream': 12281, 'ole': 8039, 'kairi': 6301, 'yomis': 12973, 'highlight': 5323, 'atletico': 773, 'forgave': 4455, 'stpm': 11015, 'shackel': 10243, 'fetch': 4225, 'magistrate': 6946, 'constable': 2334, 'hermione': 5292, 'rekindle': 9490, 'tourism': 11772, 'hospitality': 5463, 'trump': 11912, 'fleece': 4350, 'gullible': 5030, 'aroma': 660, 'bhubaneswar': 1150, 'orissa': 8134, 'katja': 6329, 'disallusione': 3147, 'batch': 993, 'waffle': 12515, 'glu': 4819, 'lucille': 6875, 'sharpe': 10270, 'flapped': 4331, 'machi': 6923, 'motherlover': 7521, 'countertop': 2488, 'froze': 4572, 'versus': 12396, 'irishman': 6037, 'macsharry': 6929, 'delors': 2905, 'paralysed': 8329, 'dreamland': 3417, 'validity': 12330, 'glorney': 4811, 'manifest': 7016, 'offence': 8006, 'romcom': 9813, 'disinfect': 3210, 'distribute': 3271, 'patr': 8406, 'coincidence': 2100, 'appealing': 590, 'restlessly': 9653, 'shelter': 10287, 'arca': 628, 'rd': 9327, 'unworthiness': 12259, 'northern': 7872, 'saskatchewan': 9984, 'uninspired': 12146, 'rearrange': 9357, 'confirm': 2279, 'acker': 141, 'passeng': 8374, 'deferential': 2857, 'downtime': 3390, 'bombard': 1316, 'dya': 3506, 'soapbox': 10617, 'hypersexual': 5568, 'tartlet': 11402, 'rihanna': 9750, 'provocative': 9097, 'malaysia': 6979, 'shocking': 10315, 'overanalyze': 8193, 'duck': 3463, 'lurgy': 6904, 'exposure': 4037, 'stephen': 10956, 'spielberg': 10793, 'fir': 4290, 'concoction': 2252, 'bod': 1297, 'browness': 1476, 'deborah': 2801, 'lippmann': 6719, 'stain': 10891, 'ws': 12902, 'modify': 7424, 'peachy': 8443, 'jelly': 6160, 'sation': 9991, 'byte': 1568, 'dotting': 3364, 'transformation': 11821, 'congest': 2293, 'electrical': 3640, 'tamper': 11382, 'applaince': 596, 'horizontal': 5444, 'enforcement': 3761, 'postpone': 8838, 'excess': 3966, 'snicker': 10588, 'module': 7426, 'snidey': 10589, 'soooooooooooo': 10695, 'wantd': 12559, 'conscientious': 2309, 'happend': 5115, 'prohibit': 9040, 'fucker': 4586, 'artifically': 680, 'transformer': 11822, 'fluidly': 4396, 'galileo': 4636, 'rival': 9772, 'characteristically': 1828, 'devotee': 3051, 'deen': 2837, 'bandhu': 939, 'uplifter': 12269, 'ashton': 703, 'flex': 4354, 'cowboy': 2513, 'identical': 5597, 'retirement': 9673, 'steak': 10940, 'rin': 9755, 'isi': 6061, 'enna': 3786, 'razo': 9324, 'edwin': 3585, 'landmass': 6489, 'reside': 9619, 'competitive': 2204, 'perpetually': 8522, 'pore': 8803, 'unacceptably': 12023, 'protrude': 9087, 'disconnected': 3176, 'heartbreak': 5217, 'danielle': 2735, 'homophobic': 5409, 'denial': 2924, 'betty': 1134, 'ccw': 1755, 'maturestudenthanginginthere': 7123, 'swirl': 11313, 'apendage': 574, 'organ': 8115, 'antique': 544, 'merrill': 7246, 'sparse': 10748, 'selection': 10151, 'adjectival': 185, 'punctuation': 9151, 'commission': 2167, 'designati': 2985, 'acid': 139, 'reflux': 9441, 'barcomb': 958, 'boe': 1305, 'union': 12154, 'aaaaand': 43, 'petition': 8564, 'undefinable': 12061, 'kitty': 6403, 'underrated': 12077, 'loopy': 6818, 'flunk': 4397, 'conflicted': 2281, 'pagan': 8273, 'originate': 8132, 'emma': 3697, 'societys': 10634, 'gould': 4878, 'ornithological': 8136, 'exploit': 4030, 'natu': 7683, 'worsen': 12864, 'uglier': 12001, 'deformed': 2870, 'canaglia': 1629, 'sciatica': 10057, 'swinge': 11312, 'brake': 1398, 'pedal': 8453, 'isobelmeg': 6070, 'inactivity': 5708, 'indifferen': 5771, 'unread': 12202, 'numbingly': 7921, 'territory': 11512, 'posh': 8821, 'cushy': 2666, 'contort': 2385, 'helping': 5266, 'filmmaker': 4263, 'dudley': 3466, 'dursley': 3491, 'cornelius': 2441, 'fudge': 4589, 'minerva': 7334, 'mcgonnagall': 7146, 'neville': 7769, 'longbottom': 6803, 'pettigrew': 8568, 'oliver': 8040, 'tofurkey': 11706, 'hehe': 5247, 'tonic': 11724, 'whisky': 12699, 'gin': 4761, 'oversized': 8225, 'tee': 11449, 'streak': 11036, 'meditative': 7184, 'pam': 8301, 'encapsulate': 3727, 'energise': 3755, 'socialise': 10626, 'smiley': 10556, 'searchin': 10114, 'trustworthy': 11918, 'disastered': 3157, 'spotless': 10836, 'stylish': 11109, 'residential': 9622, 'mistrustful': 7394, 'mar': 7036, 'prose': 9071, 'nanashi': 7661, 'mane': 7004, 'lp': 6865, 'wimbledon': 12765, 'activist': 157, 'directionless': 3133, 'tranquility': 11813, 'spotlessly': 10837, 'uhm': 12004, 'segregate': 10144, 'sasuke': 9987, 'fatally': 4154, 'aloof': 400, 'merson': 7248, 'somebodys': 10669, 'overshare': 8224, 'hump': 5530, 'yorkshire': 12977, 'packet': 8264, 'daytime': 2776, 'amos': 445, 'retrofitting': 9679, 'cohen': 2096, 'homage': 5392, 'awaken': 845, 'wearer': 12606, 'perplexed': 8524, 'liam': 6643, 'johnny': 6208, 'blogpost': 1257, 'lipbalm': 6718, 'subje': 11118, 'capability': 1644, 'charitable': 1832, 'andover': 475, 'sodding': 10639, 'canteen': 1640, 'pew': 8570, 'sanitiation': 9970, 'snoozel': 10602, 'graveside': 4936, 'interestin': 5955, 'galaxy': 4635, 'judy': 6259, 'glasberg': 4788, 'prediction': 8896, 'curiously': 2653, 'intentionality': 5942, 'quilty': 9220, 'allen': 382, 'aldridge': 349, 'finishe': 4285, 'ag': 264, 'kat': 6323, 'denningss': 2927, 'deadpan': 2790, 'dorm': 3357, 'outcast': 8154, 'blunder': 1279, 'happiuness': 5118, 'resurrect': 9666, 'counts': 2493, 'sorrowfu': 10708, 'sadhana': 9927, 'psych': 9106, 'elderly': 3634, 'architectural': 635, 'puzzlement': 9181, 'joyfully': 6245, 'susanna': 11261, 'vienna': 12425, 'hyundai': 5578, 'tucson': 11941, 'seven': 10225, 'impulse': 5703, 'endgame': 3742, 'takeaway': 11365, 'choccy': 1913, 'catapult': 1725, 'grayish': 4941, 'thrille': 11607, 'max': 7130, 'forsake': 4468, 'kindda': 6386, 'quixote': 9228, 'blinding': 1241, 'windmill': 12771, 'eventual': 3914, 'eyeliner': 4074, 'moulding': 7533, 'devil': 3045, 'suited': 11181, 'playboy': 8696, 'extended': 4045, 'daley': 2707, 'rightly': 9745, 'bronze': 1465, 'medal': 7174, 'delightful': 2901, 'lighten': 6670, 'nigel': 7803, 'lawson': 6539, 'pistil': 8654, 'manliness': 7024, 'stimulated': 10981, 'stray': 11034, 'asylum': 751, 'seeker': 10138, 'aout': 564, 'techfeel': 11439, 'uploads': 12272, 'hindi': 5340, 'mariah': 7051, 'carey': 1678, 'tilt': 11657, 'boardwalk': 1290, 'tyre': 11992, 'planter': 8686, 'loathe': 6765, 'deke': 2884, 'consignment': 2325, 'goodwill': 4856, 'dentis': 2934, 'overcommit': 8196, 'manicure': 7014, 'unspoilt': 12229, 'nini': 7820, 'miller': 7315, 'endurance': 3749, 'contentment': 2373, 'rebel': 9369, 'funding': 4609, 'wardrode': 12565, 'dejecte': 2880, 'diabetic': 3063, 'exhilaration': 4000, 'binocul': 1173, 'carole': 1691, 'karaoke': 6312, 'indian': 5768, 'sri': 10874, 'lankas': 6496, 'mammoth': 6993, 'strictly': 11052, 'coke': 2102, 'bucket': 1495, 'anaesthetic': 464, 'dabble': 2695, 'crushing': 2618, 'spitak': 10810, 'ordain': 8108, 'narrator': 7671, 'annulment': 525, 'initially': 5845, 'panorma': 8312, 'indonesia': 5785, 'dynamic': 3511, 'jeanette': 6151, 'winterson': 12784, 'scope': 10067, 'nw': 7939, 'inclusion': 5736, 'advise': 230, 'outrage': 8171, 'ind': 5760, 'corey': 2436, 'forego': 4448, 'futon': 4621, 'fame': 4118, 'britney': 1456, 'barcial': 957, 'beware': 1138, 'harrass': 5140, 'oppress': 8095, 'dude': 3465, 'concentric': 2241, 'brot': 1471, 'bladder': 1211, 'shaun': 10272, 'dlpt': 3302, 'negate': 7723, 'emphasize': 3712, 'snob': 10598, 'werner': 12656, 'thomas': 11587, 'reshape': 9618, 'gwen': 5046, 'whirl': 12695, 'figu': 4253, 'prey': 8959, 'cardinal': 1665, 'manifestation': 7017, 'rebellion': 9370, 'goth': 4874, 'esily': 3857, 'airritate': 319, 'bestselle': 1128, 'kathy': 6328, 'lette': 6632, 'starbuck': 10911, 'wh': 12666, 'inconsistent': 5747, 'representation': 9586, 'describ': 2976, 'lightwater': 6681, 'affront': 249, 'dri': 3424, 'prompting': 9056, 'serence': 10197, 'burgeon': 1538, 'crumpled': 2614, 'perspiration': 8544, 'processing': 9011, 'yixuan': 12967, 'atiqah': 767, 'stroller': 11065, 'moisturiser': 7430, 'last': 6507, 'cleanse': 2006, 'moisturise': 7429, 'encouraging': 3738, 'overcompensate': 8197, 'stub': 11076, 'stadium': 10886, 'alphabet': 403, 'jsk': 6249, 'lolita': 6791, 'jane': 6128, 'austen': 812, '19th': 21, 'byron': 1567, 'supplement': 11220, 'liteheaded': 6736, 'illicit': 5626, 'laser': 6505, 'perserverence': 8529, 'delve': 2908, 'uber': 11996, 'festi': 4221, 'arou': 661, 'opis': 8087, 'sashy': 9983, 'lavander': 6533, 'hack': 5055, 'hopelessness': 5441, 'etrie': 3890, 'digress': 3105, 'carol': 1690, 'hearing': 5211, 'fareha': 4136, 'marketer': 7062, 'investigate': 6005, 'rightfully': 9744, 'disbelieving': 3162, 'downe': 3382, 'stupef': 11096, 'brow': 1474, 'steady': 10939, 'angalo': 482, 'pat': 8391, 'shoulde': 10339, 'compliant': 2217, 'voip': 12490, 'institution': 5906, 'telephony': 11462, 'desktop': 2990, 'mobile': 7413, 'stove': 11014, 'permanence': 8515, 'fingertip': 4283, 'claret': 1984, 'jug': 6260, 'courageous': 2500, 'palette': 8297, 'siege': 10372, 'sephora': 10194, 'terpene': 11503, 'flavour': 4345, 'insatiably': 5867, 'handheld': 5097, 'cam': 1610, 'choke': 1917, 'profile': 9027, 'mack': 6927, 'dallas': 2709, 'onlooker': 8062, 'crease': 2546, 'ir': 6026, 'chapter': 1823, 'yanto': 12934, 'fiv': 4311, 'errand': 3851, 'sized': 10450, 'sleeper': 10502, 'extensivel': 4048, 'hercule': 5287, 'constitutional': 2342, 'bureaucracy': 1535, 'judgemental': 6256, 'hopper': 5443, 'crol': 2591, 'tl': 11692, 'composed': 2224, 'dylan': 3510, 'stigmatize': 10975, 'stigma': 10974, 'howl': 5486, 'comet': 2149, 'translation': 11828, 'hermit': 5293, 'verse': 12394, 'compose': 2223, 'beehive': 1052, 'hut': 5557, 'irel': 6031, 'gastric': 4668, 'whitehall': 12706, 'sha': 10241, 'alexandra': 357, 'janet': 6130, 'opin': 8083, 'seventy': 10226, 'roller': 9805, 'coaster': 2076, 'craziness': 2539, 'shoudlnt': 10338, 'continuer': 2381, 'folksy': 4424, 'frappe': 4509, 'revival': 9706, 'overflow': 8207, 'stre': 11035, 'generalize': 4697, 'retaliation': 9669, 'mia': 7271, 'farrow': 4141, 'yi': 12963, 'woody': 12840, 'yester': 12959, 'teh': 11458, 'ventrure': 12384, 'mic': 7272, 'carolina': 1692, 'uwilnevrknow': 12312, 'conditioner': 2259, 'venting': 12383, 'adolescence': 201, 'revert': 9699, 'peppermint': 8494, 'patty': 8417, 'unexpectedly': 12114, 'aiw': 323, 'wonderland': 12831, 'haunt': 5170, 'phantomwise': 8573, 'fad': 4094, 'pedestrian': 8454, 'passenger': 8375, 'frighte': 4553, 'enuff': 3819, 'stairs': 10894, 'baffroom': 906, 'intercourse': 5952, 'tate': 11411, 'goliath': 4844, 'enormous': 3788, 'underground': 12071, 'andrus': 478, 'fil': 4257, 'tazi': 11420, 'funky': 4613, 'individuality': 5783, 'amateur': 420, 'oth': 8146, 'majorly': 6970, 'handbook': 5094, 'discharge': 3164, 'hrs': 5490, 'abruptly': 73, 'walmart': 12547, 'macey': 6922, 'firstly': 4303, 'madness': 6933, 'secondly': 10123, 'painstakingly': 8285, 'rigorous': 9748, 'ingenious': 5832, 'sti': 10969, 'idol': 5607, 'extremly': 4063, 'jason': 6139, 'buzz': 1563, 'parenthood': 8341, 'halloween': 5082, 'weasel': 12610, 'flounder': 4384, 'tsa': 11928, 'babychaser': 877, 'lili': 6691, 'thai': 11532, 'edward': 3584, 'kisser': 6398, 'nijifagilie': 7814, 'dollar': 3324, 'tapestry': 11396, 'grimacing': 4967, 'knife': 6412, 'pilgrimage': 8626, 'dovercourt': 3376, 'bbc': 1012, 'pierce': 8618, 'lonel': 6798, 'dither': 3279, 'clinton': 2036, 'francesca': 4501, 'bower': 1372, 'chateau': 1847, 'consist': 2326, 'lewis': 6638, 'carroll': 1698, 'pester': 8557, 'defile': 2861, 'pavilion': 8426, 'immigration': 5656, 'plateau': 8691, 'province': 9093, 'prudent': 9102, 'default': 2845, 'heidi': 5249, 'witless': 12804, 'embed': 3684, 'unattainable': 12027, 'scorn': 10069, 'establishment': 3870, 'dennis': 2928, 'weaver': 12613, 'cocaine': 2081, 'faldo': 4111, 'trotting': 11900, 'nails': 7649, 'impetuous': 5674, 'infatuation': 5806, 'civilization': 1972, 'few': 4230, 'oxbow': 8249, 'preakness': 8879, 'stevens': 10965, 'awkwardly': 859, 'melbourne': 7195, 'postgraduate': 8836, 'solicit': 10656, 'worthlessness': 12868, 'misfortune': 7373, 'befall': 1056, 'tribulation': 11873, 'witte': 12807, 'victoria': 12418, 'ruby': 9865, 'prejudice': 8909, 'meaningless': 7162, 'productivity': 9019, 'chalk': 1804, 'pigeon': 8622, 'uninhabited': 12144, 'brandy': 1402, 'turbulently': 11954, 'violently': 12452, 'granddaughter': 4908, 'ballater': 925, 'wr': 12880, 'therapeutic': 11557, 'gluten': 4822, 'sadlovequotesforhim': 9929, 'hyena': 5562, 'myriad': 7630, 'worrie': 12860, 'commons': 2174, 'jeffrey': 6158, 'whereabou': 12678, 'hurtle': 5553, 'funk': 4612, 'unfit': 12122, 'rotund': 9841, 'fierce': 4244, 'bloke': 1260, 'corn': 2438, 'dent': 2932, 'befc': 1057, 'begleiter': 1064, 'biostatistic': 1180, 'physiology': 8600, 'touchy': 11764, 'wanting': 12560, 'rattl': 9312, 'separately': 10192, 'sole': 10652, 'cleary': 2011, 'unemployment': 12110, 'caribbean': 1679, 'diving': 3290, 'freshman': 4540, 'velocity': 12375, 'slobby': 10520, 'carl': 1683, 'clarke': 1988, 'accomplished': 118, 'hardbroom': 5125, 'reprimand': 9593, 'mascara': 7086, 'animate': 501, 'covington': 2508, 'mistreatment': 7392, 'vocab': 12481, 'tizzy': 11691, 'haagen': 5051, 'dazs': 2779, 'ruc': 9866, 'investigation': 6007, 'res': 9606, 'yoke': 12972, 'lethal': 6630, 'overdose': 8201, 'remainder': 9527, 'clump': 2062, 'compensate': 2200, 'biochemistry': 1176, 'zambia': 12994, 'snoop': 10600, 'ro': 9778, 'sox': 10730, 'tampa': 11381, 'bay': 1009, 'waldmans': 12533, 'whimsical': 12684, 'treachery': 11845, 'regent': 9456, 'sequel': 10196, 'shinobi': 10300, 'restart': 9647, 'disorientating': 3224, 'kate': 6325, 'husky': 5555, 'roberto': 9784, 'orcis': 8107, 'adoration': 207, 'dubya': 3462, 'pampered': 8303, 'orci': 8106, 'determination': 3025, 'poo': 8784, 'roomate': 9820, 'shermin': 10290, 'joey': 6203, 'charade': 1829, 'lottery': 6838, 'wod': 12816, 'revere': 9696, 'pioneer': 8644, 'economically': 3557, 'endorse': 3748, 'racist': 9245, 'clinique': 2034, 'sacred': 9921, 'mcshane': 7152, 'lifelong': 6663, 'convict': 2405, 'sen': 10167, 'firework': 4295, 'reboot': 9372, 'homeland': 5394, 'adversely': 224, 'adverse': 223, 'hearnsay': 5212, 'maladaptive': 6977, 'alongside': 399, 'hiit': 5327, 'interval': 5973, 'acco': 112, 'nahariya': 7646, 'downhearte': 3384, 'lessen': 6624, 'imaginary': 5637, 'malign': 6982, 'concert': 2246, 'fam': 4117, 'crying': 2623, 'swarm': 11286, 'chewie': 1878, 'auburn': 798, 'clung': 2065, 'scalp': 10016, 'freckle': 4520, 'tigh': 11650, 'legislator': 6590, 'protection': 9079, 'qaeda': 9186, 'iraq': 6027, 'iraqi': 6028, 'israel': 6075, 'swagger': 11281, 'mau': 7124, 'unprofessional': 12199, 'chiuv': 1908, 'kaddish': 6298, 'daven': 2766, 'amud': 455, 'gross': 4983, 'pointlessness': 8751, 'cu': 2626, 'wal': 12532, 'xvi': 12926, 'antoinette': 549, 'thaliad': 11535, 'uneven': 12111, 'oscillate': 8141, 'xdd': 12916, 'hohoho': 5374, 'foward': 4485, 'tmr': 11693, 'cya': 2681, 'column': 2135, 'nitch': 7826, 'vt': 12503, 'dim': 3110, 'dhawan': 3060, 'tweet': 11970, 'javascript': 6141, 'organising': 8119, 'favs': 4170, 'benno': 1112, 'motorcycle': 7530, 'trepidation': 11866, 'amidst': 441, 'inebriated': 5793, 'gar': 4655, 'impromptu': 5696, 'thumbnail': 11622, 'irritant': 6053, 'backfire': 888, 'solondz': 10663, 'gimmick': 4760, 'tot': 11753, 'daycare': 2773, 'perpetuate': 8523, 'educator': 3583, 'bulletin': 1514, 'downhearted': 3385, 'secrecy': 10124, 'uneasiness': 12106, 'krupke': 6441, 'shockingly': 10316, 'reckless': 9386, 'consumption': 2356, 'ignored': 5620, 'uncomfterble': 12048, 'lightening': 6671, 'umbrella': 12016, 'rewrite': 9713, 'fma': 4405, 'op': 8072, 'huhwe': 5506, 'neun': 7761, 'gatda': 4670, 'beoryeo': 1115, 'priceless': 8962, 'sesang': 10216, 'ye': 12942, 'ban': 934, 'namja': 7659, 'neottaemune': 7744, 'na': 7639, 'ulji': 12009, 'anha': 498, 'gucha': 5011, 'hage': 5058, 'neoreul': 7743, 'jabgeo': 6099, 'mae': 6934, 'dallil': 2710, 'ireun': 6032, 'jeoldae': 6168, 'ignorantly': 5618, 'primate': 8971, 'testing': 11520, 'reduc': 9423, 'unsatisfied': 12216, 'ant': 534, 'embarrassing': 3682, 'pervert': 8552, 'resonance': 9635, 'grassroots': 4926, 'preservation': 8935, 'flamingo': 4328, 'subscriber': 11130, 'chunky': 1949, 'recless': 9390, 'mamma': 6991, 'headlock': 5197, 'whooooo': 12716, 'whooooooooo': 12717, 'craaaaaaack': 2519, 'kassim': 6322, 'selamat': 10148, 'preface': 8898, 'peta': 8561, 'leslielandberg': 6623, 'guar': 5006, 'revamp': 9686, 'resonate': 9636, 'clap': 1980, 'sw': 11279, 'eerily': 3588, 'herse': 5300, 'marillac': 7054, 'teeny': 11455, 'nostril': 7878, 'scroll': 10096, 'johann': 6206, 'khartoum': 6361, 'descara': 2974, 'scad': 10013, 'molest': 7435, 'aslef': 712, 'disp': 3225, 'informed': 5825, 'mansion': 7028, 'prosperous': 9075, 'caversham': 1749, 'invocation': 6017, 'comic': 2157, 'arc': 627, 'stacey': 10883, 'polanski': 8758, 'thirtieth': 11581, 'linesman': 6707, 'offside': 8022, 'bean': 1027, 'bezos': 1146, 'reporter': 9584, 'undoubtedly': 12098, 'pundit': 9153, 'villain': 12436, 'druian': 3444, 'justanswer': 6285, 'flatmate': 4339, 'neat': 7706, 'deceptively': 2814, 'kirkwood': 6396, 'decisive': 2819, 'inject': 5846, 'winne': 12781, 'ick': 5588, 'chug': 1946, 'ol': 8035, 'nun': 7924, 'bodyguard': 1301, 'soundtrack': 10722, 'sub': 11112, 'puzz': 9178, 'songy': 10683, 'herd': 5288, 'mindless': 7329, 'remodel': 9543, 'amenity': 435, 'comfor': 2151, 'nesting': 7754, 'homemaking': 5400, 'instinct': 5904, 'barn': 967, 'prized': 9001, 'magazin': 6938, 'starve': 10921, 'bungalow': 1525, 'glittery': 4802, 'admittedly': 198, 'strap': 11029, 'slugging': 10534, 'glint': 4799, 'pathological': 8399, 'unimaginable': 12141, 'spiral': 10802, 'ghost': 4746, 'mouthed': 7547, 'rattle': 9313, 'alva': 416, 'noe': 7834, 'gwiyomi': 5047, 'glamour': 4782, 'hugh': 5504, 'laurie': 6531, 'rave': 9317, 'exaggerate': 3943, 'peacefully': 8441, 'gurgle': 5037, 'vomity': 12497, 'miniscule': 7344, 'integral': 5924, 'bicep': 1155, 'caustic': 1742, 'flist': 4369, 'agi': 280, 'receiving': 9378, 'firsthand': 4302, 'comeback': 2145, 'norma': 7864, 'rejecte': 9485, 'atrocious': 778, 'opinon': 8086, 'becuz': 1043, 'badman': 903, 'ah': 297, 'indenbaum': 5762, 'modigliani': 7425, 'portrait': 8812, 'exuberance': 4065, 'jess': 6174, 'unsatisfying': 12217, 'internetsphere': 5966, 'marginalize': 7048, 'unattractive': 12028, 'outr': 8170, 'contend': 2368, 'morality': 7488, 'roman': 9808, 'silver': 10396, 'moonligh': 7478, 'stiller': 10977, 'vaughn': 12357, 'hater': 5163, 'sharknado': 10268, 'ene': 3751, 'fro': 4562, 'prescence': 8927, 'stationary': 10930, 'hidden': 5316, 'jail': 6117, 'inhuman': 5841, 'netherlands': 7759, 'kremlin': 6437, 'chechens': 1855, 'saudi': 9998, 'afghan': 251, 'mujahedin': 7580, 'grandson': 4917, 'gozeleme': 4887, 'wardrobe': 12564, 'stimulate': 10980, 'wat': 12587, 'japan': 6134, 'irresistible': 6047, 'frock': 4563, 'ribbon': 9722, 'dara': 2739, 'demise': 2911, 'roshanara': 9832, 'luh': 6885, 'strait': 11023, 'download': 3386, 'sodium': 10640, 'stitching': 10992, 'heir': 5255, 'neuroticworkaholic': 7765, 'kx': 6451, 'forks': 4463, 'disc': 3163, 'counteract': 2486, 'reclaim': 9389, 'balm': 930, 'barry': 975, 'ricald': 9723, 'admired': 195, 'naman': 7656, 'womb': 12823, 'todd': 11699, 'cede': 1761, 'doomnation': 3347, 'damnation': 2716, 'abou': 69, 'npr': 7908, 'ana': 463, 'mitch': 7398, 'ruefully': 9876, 'dlk': 3301, 'baht': 913, 'usd': 12297, 'oyyy': 8252, 'noh': 7836, 'bacuse': 898, 'passerby': 8378, 'patio': 8405, 'adn': 200, 'someobdy': 10671, 'smugly': 10572, 'textile': 11527, 'seam': 10110, 'buti': 1555, 'spazzola': 10753, 'prima': 8969, 'andare': 474, 'dormire': 3358, 'overconfident': 8198, 'whir': 12694, 'cognize': 2095, 'cosmo': 2465, 'years': 12951, 'theatrical': 11548, 'edmund': 3575, 'wilson': 12762, 'audien': 801, 'interpretation': 5969, 'queer': 9201, 'unclear': 12046, 'joel': 6202, 'belove': 1091, 'minimal': 7340, 'geez': 4687, 'mord': 7493, 'sith': 10441, 'blurry': 1282, 'fierceness': 4246, 'nape': 7667, 'detatche': 3020, 'botanical': 1354, 'tor': 11739, 'playwright': 8705, 'reid': 9476, 'rejoyce': 9488, 'suuuper': 11274, 'versa': 12393, 'ra': 9235, 'aristophane': 650, 'exexbf': 3990, 'vista': 12468, 'taxis': 11418, 'atrophy': 780, 'gloat': 4803, 'reliant': 9512, 'novoye': 7903, 'russkoye': 9900, 'soviet': 10729, 'enclave': 3730, 'brighton': 1448, 'ode': 7996, 'skinful': 10473, 'noticing': 7892, 'whistling': 12703, 'terrorist': 11515, 'bio': 1174, 'warfare': 12567, 'reputation': 9601, 'positivity': 8826, 'teleporter': 11463, 'tangibly': 11387, 'jumbleupon': 6272, 'ditlevsen': 3280, 'stein': 10947, 'unsuccessfully': 12233, 'reproductive': 9595, 'lighter': 6672, 'flighty': 4361, 'psychology': 9115, 'kenya': 6350, 'shiraishi': 10304, 'tryst': 11926, 'hatchet': 5158, 'punk': 9156, 'chriss': 1925, 'mccolgan': 7144, 'par': 8321, 'saddle': 9926, 'unfollow': 12125, 'tentative': 11494, 'paren': 8338, 'counsellor': 2481, 'nolean': 7840, 'diy': 3299, 'wihtout': 12743, 'sasha': 9982, 'beyonc': 1145, 'gerry': 4729, 'adomen': 203, 'adoman': 202, 'wagon': 12519, 'delete': 2889, 'vancouver': 12338, 'egypt': 3612, 'handrail': 5103, 'basement': 979, 'nude': 7913, 'saba': 9913, 'waleed': 12536, 'justly': 6292, 'intolerably': 5983, 'croissant': 2590, 'fence': 4212, 'blas': 1223, 'foil': 4417, 'devastation': 3039, 'aubrey': 797, 'baptism': 951, 'admiral': 192, 'byng': 1566, 'minorca': 7350, 'cowardice': 2511, 'wan': 12551, 'europ': 3899, 'cynical': 2688, 'reassurance': 9363, 'revulsion': 9709, 'intellect': 5927, 'architect': 634, 'serina': 10203, 'cleaner': 2004, 'cro': 2585, 'dependency': 2945, 'neediness': 7717, 'deliberate': 2892, 'counseling': 2479, 'divinity': 3291, 'soap': 10616, 'sponge': 10825, 'vinyl': 12446, 'floo': 4373, 'teddy': 11447, 'sensationalist': 10176, 'connecticut': 2300, 'duluth': 3473, 'sneeze': 10586, 'jot': 6235, 'hussein': 5556, 'thug': 11620, 'graph': 4921, 'sooooooooooo': 10694, 'outright': 8175, 'ka': 6296, 'mortality': 7509, 'likeguy': 6687, 'nizan': 7827, 'nicole': 7799, 'occidental': 7983, 'bedraggle': 1046, 'morass': 7490, 'rai': 9263, 'surging': 11244, 'stoic': 10994, 'icky': 5589, 'holding': 5377, 'walkman': 12542, 'keeper': 6341, 'bogge': 1306, 'goose': 4861, 'alain': 334, 'gough': 4877, 'whitlam': 12707, 'vi': 12407, 'zipline': 13011, 'elf': 3652, 'thia': 11565, 'scruncher': 10098, 'unaware': 12029, 'korup': 6434, 'elephant': 3648, 'tranquilliser': 11814, 'tar': 11397, 'romantically': 9811, 'interrupted': 5971, 'exaggerated': 3944, 'weightless': 12636, 'inspiring': 5893, 'ivy': 6096, 'glenys': 4796, 'monaco': 7452, 'plac': 8669, 'sooooooooper': 10696, 'moonlight': 7479, 'urbanite': 12284, 'predicament': 8891, 'nightly': 7811, 'bel': 1074, 'daniel': 2734, 'allowable': 393, 'consequently': 2318, 'northwestern': 7873, 'resolutely': 9631, 'rosebery': 9830, 'sotheby': 10714, 'smarter': 10548, 'rounded': 9846, 'noodle': 7856, 'potatoe': 8841, 'miso': 7380, 'cynicism': 2689, 'unwashe': 12252, 'wuss': 12907, 'cohesive': 2097, 'arist': 649, 'karmardav': 6320, 'phobia': 8583, 'descriptive': 2979, 'wanderlust': 12554, '32': 27, 'northampton': 7871, 'tallinn': 11378, 'heartsick': 5226, 'demotivate': 2920, 'unrealistically': 12205, 'assuage': 738, 'shannon': 10261, 'hail': 5068, 'chatter': 1848, 'overhear': 8210, 'ringtone': 9757, 'homeowner': 5401, 'landscaping': 6492, 'bilberry': 1165, 'picker': 8606, 'israeli': 6076, 'occupation': 7987, 'sinai': 10412, 'sinais': 10413, 'recite': 9385, 'memorized': 7216, 'spiel': 10792, 'unplanned': 12192, 'cassandra': 1713, 'palm': 8299, 'addled': 179, 'assessor': 726, 'helm': 5263, 'rose': 9828, 'excessively': 3968, 'clive': 2039, 'scottish': 10074, 'weir': 12639, 'madden': 6931, 'adrift': 212, 'reel': 9427, 'gloucestershire': 4815, 'protestor': 9084, 'impend': 5665, 'councillor': 2477, 'undertone': 12086, 'convo': 2409, 'teammate': 11431, 'noticable': 7887, 'brutality': 1485, 'frail': 4493, 'flesh': 4353, 'cyber': 2682, 'pickle': 8607, 'gleefully': 4794, 'marshmallow': 7071, 'biz': 1199, 'babble': 873, 'metropolitan': 7266, 'aaaaaaand': 42, 'uninformed': 12143, 'lovebox': 6849, 'wein': 12637, 'camilla': 1616, 'clasheen': 1990, 'keepmeinstitchez': 6342, 'foible': 4416, 'application': 600, 'storytelling': 11012, 'customary': 2671, 'purge': 9163, 'overwhleming': 8240, 'completley': 2213, 'hoop': 5431, 'befuddle': 1060, 'bengal': 1109, 'arvo': 689, 'magzine': 6953, 'prioritise': 8985, 'rear': 9356, 'inexperience': 5801, 'efface': 3591, 'settled': 10223, 'bask': 986, 'exploration': 4031, 'shred': 10349, 'rucksack': 9867, 'approval': 615, 'pollution': 8776, 'dew': 3055, 'moisturising': 7431, 'gel': 4688, 'passersby': 8379, 'butttt': 1561, 'semuanya': 10166, 'sudah': 11157, 'terlambat': 11497, 'motorway': 7532, 'disposable': 3232, 'logan': 6780, 'foresee': 4452, 'handsomefamily': 5105, 'unappreciated': 12026, 'runny': 9891, 'imdoe': 5643, 'refine': 9436, 'pose': 8819, 'ds': 3452, 'preschool': 8928, 'tatsuma': 11412, 'aoi': 562, 'florist': 4382, 'georg': 4718, 'intercept': 5948, 'willi': 12754, 'pavem': 8424, 'conection': 2265, 'customize': 2673, 'gen': 4690, 'xer': 12919, 'meek': 7186, 'inconsequential': 5746, 'ungraciously': 12133, 'sterne': 10961, 'straddle': 11016, 'articulacy': 678, 'incoherence': 5738, 'mesmerism': 7250, 'intrusion': 5993, 'ajme': 325, 'jeep': 6155, 'dusk': 3492, 'inexcusable': 5800, 'bestial': 1126, 'macho': 6926, 'envision': 3826, 'richness': 9729, 'cgi': 1793, 'pti': 9121, 'jamiat': 6125, 'sharia': 10265, 'raymond': 9323, 'davis': 2770, 'hannah': 5111, 'dirt': 3137, 'evelyn': 3911, 'longlaste': 6806, 'mousse': 7544, 'authentic': 816, 'turnip': 11959, 'celexa': 1768, 'wieght': 12732, 'underage': 12063, 'accrue': 124, 'sitter': 10442, 'cooper': 2421, 'quinn': 9221, 'ted': 11446, 'excel': 3958, 'etape': 3879, 'caledonia': 1593, 'liquor': 6723, 'musing': 7619, 'gettin': 4737, 'torne': 11744, 'sol': 10649, 'heritage': 5290, 'yawwwn': 12940, 'waiting': 12526, 'maud': 7125, 'kurfrstendamm': 6446, 'coin': 2099, 'remarkably': 9530, 'ghd': 4743, 'straightener': 11019, 'fragile': 4490, 'vase': 12352, 'lag': 6471, 'plea': 8706, 'handss': 5106, 'aahhh': 46, 'tina': 11671, 'reli': 9510, 'bellingham': 1083, 'acne': 145, 'harvest': 5148, 'damp': 2719, 'corys': 2461, 'iframe': 5611, 'allowfullscreen': 394, 'frameborder': 4496, 'naega': 7642, 'deo': 2937, 'apaya': 572, 'hae': 5057, 'dasi': 2755, 'neol': 7740, 'chajeul': 1802, 'itge': 6090, 'sigani': 10377, 'heureulsurok': 5308, 'gaseumi': 4666, 'apawa': 571, 'hanbeon': 5091, 'manirado': 7021, 'doedollil': 3315, 'suman': 11186, 'itdamyeon': 6086, 'gotong': 4875, 'ttawin': 11933, 'naegen': 7643, 'yussuf': 12989, 'chime': 1900, 'sweetheart': 11302, 'satisfy': 9995, 'heung': 5307, 'righteous': 9741, 'intuitive': 5997, 'gotten': 4876, 'dishwasher': 3207, 'ominously': 8051, 'maggovertski': 6941, 'powde': 8853, 'hen': 5275, 'coo': 2413, 'firstborn': 4301, 'overboard': 8194, 'unnatural': 12187, 'geese': 4686, 'bevy': 1137, 'du': 3454, 'napping': 7669, 'noticer': 7891, 'adam': 169, 'screenshot': 10090, 'terminando': 11500, 'ano': 527, 'depois': 2951, 'panicked': 8310, 'impenetrable': 5667, 'crescent': 2565, 'paella': 8272, 'lemonade': 6602, 'sangria': 9969, 'overtake': 8227, 'baton': 1001, 'anthony': 537, 'weewee': 12631, 'swaddle': 11280, 'confusing': 2290, 'speechless': 10778, 'idk': 5605, 'buffy': 1504, 'pan': 8304, 'kendall': 6347, 'hume': 5520, 'coup': 2495, 'tan': 11384, 'austere': 814, 'holiness': 5381, 'contemporar': 2366, 'defect': 2849, 'dissect': 3249, 'chlorine': 1910, 'portly': 8811, 'mustache': 7621, 'prepubescent': 8925, 'whistle': 12702, 'hirsi': 5349, 'ingrid': 5836, 'xs': 12925, 'mutual': 7626, 'acctually': 125, 'agreement': 296, 'manic': 7013, 'fitch': 4308, 'wearily': 12607, 'hahaha': 5064, 'dearly': 2795, 'donald': 3335, 'densely': 2931, 'meandering': 7159, 'inherent': 5838, 'shortcoming': 10329, 'obbie': 7949, 'airtime': 320, 'volvo': 12495, 'tidy': 11643, 'unsimilar': 12225, 'waddle': 12513, 'flashback': 4335, 'bowel': 1371, 'heater': 5229, 'muddle': 7574, 'wot': 12871, 'aa': 41, 'firey': 4296, 'shalt': 10254, 'din': 3114, 'hw': 5559, 'skillzz': 10469, 'goodie': 4853, 'subsidization': 11135, 'vbac': 12359, 'diner': 3116, 'archeological': 633, 'dink': 3121, 'prettymuch': 8951, 'acronym': 150, 'arnold': 659, 'dialect': 3068, 'jurer': 6282, 'freshness': 4541, 'wheat': 12672, 'titanic': 11687, 'lathi': 6515, 'denim': 2925, 'grandiosely': 4911, 'tshirt': 11929, 'cosmically': 2464, 'deed': 2834, 'lego': 6595, 'ganging': 4651, 'occult': 7984, 'gentrified': 4714, 'ghetto': 4744, 'accompaniment': 115, '48': 33, 'earlie': 3522, 'ripe': 9762, 'gone': 4847, 'nestle': 7755, 'hourglass': 5476, 'numbness': 7922, 'sandblog': 9963, 'aftereffect': 260, 'marilyn': 7055, 'blahness': 1214, 'trite': 11888, 'finke': 4287, 'cassie': 1714, 'uncontainable': 12057, 'threatening': 11601, 'engulf': 3772, 'hom': 5391, 'washroom': 12584, 'sponsor': 10826, 'abstain': 80, 'girlie': 4769, 'intermarry': 5958, 'ensue': 3796, 'instigate': 5902, 'decode': 2825, 'warming': 12570, 'correctness': 2456, 'approx': 617, 'shoeless': 10318, 'overactive': 8191, 'displacement': 3229, 'emergence': 3691, 'grandeur': 4909, 'copay': 2425, 'frenh': 4532, 'tutor': 11962, 'dontt': 3341, 'nagging': 7645, 'superstition': 11214, 'authenticity': 817, 'pushover': 9172, 'weekday': 12625, 'unbearable': 12030, 'yardage': 12936, 'dependence': 2944, 'aircleaner': 313, 'detectin': 3021, 'silvery': 10397, 'heading': 5194, 'whammo': 12669, 'tornado': 11743, 'arrow': 672, 'prestigious': 8943, 'omangy': 8046, 'ostler': 8145, 'sniff': 10590, 'missionary': 7385, 'wink': 12780, 'usarious': 12296, 'compulsion': 2232, 'forgiving': 4459, 'unbreakable': 12037, 'hillside': 5334, 'grass': 4925, 'discomforting': 3173, 'interpret': 5968, 'rmb': 9777, 'monitor': 7459, 'lcd': 6551, 'wireless': 12789, 'bluetooth': 1278, 'isight': 6062, 'heh': 5246, 'multitaske': 7589, 'rag': 9260, 'destination': 3008, 'wiki': 12744, 'varsity': 12349, 'homosexual': 5410, 'projection': 9043, 'repression': 9590, 'timer': 11662, 'sadne': 9931, 'gladiator': 4777, 'construct': 2345, 'cardboard': 1663, 'rendall': 9552, 'munroe': 7601, 'underestimate': 12067, 'recounting': 9405, 'leonora': 6617, 'rapt': 9302, 'fascinate': 4143, 'penry': 8486, 'vaughan': 12356, 'mating': 7117, 'calculate': 1590, 'tpt': 11782, 'aversary': 834, 'faithsedge': 4108, 'bgr': 1149, 'noticeably': 7890, 'automation': 826, 'memset': 7218, 'unfurling': 12131, 'unprepared': 12198, 'originality': 8130, 'conformity': 2283, 'unnaturally': 12188, 'afield': 252, 'woodland': 12836, 'regime': 9459, 'butchery': 1554, 'clinical': 2033, 'abstinence': 81, 'specialist': 10758, 'lyme': 6915, 'coinfection': 2101, 'reverence': 9697, 'suffocated': 11168, 'parch': 8337, 'blouse': 1269, 'jumper': 6274, 'spiked': 10794, 'neurosurgeon': 7763, 'aching': 137, 'valorize': 12332, 'airplane': 317, 'perpetrator': 8521, 'fascinat': 4142, 'rune': 9887, 'eyed': 4070, 'corp': 2448, 'wallpaper': 12546, 'wap': 12561, 'folder': 4420, 'whipping': 12693, 'foreboding': 4446, 'willfully': 12753, 'ruddy': 9869, 'startling': 10919, 'decay': 2809, 'smear': 10551, 'perspi': 8543, 'lowdown': 6860, 'comedian': 2146, 'mechanism': 7172, 'katrinas': 6332, 'dianne': 3075, 'realisation': 9346, 'berk': 1118, 'teasing': 11437, 'scrutiny': 10100, 'noconscience': 7832, 'prevail': 8953, 'tychelle': 11983, 'nonexistent': 7850, 'bleeding': 1234, 'da': 2694, 'interactive': 5946, 'memorize': 7215, 'israelites': 6078, 'faithless': 4107, 'gaping': 4654, 'yearly': 12947, 'rye': 9910, 'resilience': 9626, 'merciless': 7236, 'untidiness': 12241, 'hoarder': 5362, 'thrust': 11619, 'cdm': 1757, 'flac': 4319, 'custode': 2668, 'alibi': 367, 'custodes': 2669, 'premium': 8914, 'laze': 6546, 'pajama': 8289, 'publicly': 9131, 'sd': 10104, 'reiterate': 9483, 'mermaidhaire': 7245, 'hungarians': 5536, 'threat': 11598, 'pact': 8268, 'governman': 4881, 'unintelligent': 12148, 'sensibly': 10180, 'ratty': 9315, 'sweatshirt': 11294, 'sustainable': 11272, 'omit': 8053, 'nyps': 7943, 'webpage': 12618, 'zenos': 13001, 'wherefore': 12679, 'ableness': 63, 'variety': 12348, 'coldness': 2106, 'unleash': 12173, 'fromthe': 4565, 'innanimate': 5856, 'carpet': 1694, 'excruciating': 3982, 'orchestra': 8105, 'copland': 2427, 'fanfare': 4129, 'pitiful': 8660, 'adulthood': 215, 'annual': 523, 'mt': 7566, 'precipice': 8883, 'invent': 6001, 'niggling': 7805, 'counselling': 2480, 'rueful': 9875, 'jenna': 6163, 'beverage': 1136, 'bulk': 1510, 'weekly': 12627, 'sodden': 10638, 'sardonic': 9981, 'squat': 10862, 'lll': 6759, 'hencke': 5276, 'spoonful': 10832, 'boredom': 1346, 'ashlotte': 702, 'talim': 11373, 'comfortably': 2154, 'viewpoint': 12431, 'cutting': 2679, 'itttt': 6092, 'validate': 12328, 'churchoffuck': 1951, 'pariah': 8343, 'cn': 2072, 'remedial': 9532, 'spar': 10741, 'spectacular': 10769, 'discreetly': 3186, 'desperation': 2999, 'koreans': 6433, 'freakin': 4516, 'nip': 7822, 'ridgerunner': 9734, 'solberg': 10651, 'getty': 4739, 'renowned': 9557, 'photographic': 8590, 'harrassment': 5141, 'zhu': 13004, 'snapback': 10577, 'lotus': 6839, 'wholesale': 12714, 'misgiving': 7374, 'camwhore': 1624, 'pudding': 9136, 'anotehr': 529, 'ftw': 4583, 'paw': 8427, 'pawdicur': 8428, 'mooch': 7474, 'alabama': 333, 'glue': 4820, 'quiver': 9226, 'strove': 11069, 'commentator': 2164, 'splitting': 10817, 'rev': 9685, 'engi': 3765, 'spout': 10839, 'lulu': 6889, 'ism': 6068, 'rockette': 9794, 'ambleside': 430, 'ragged': 9262, 'libertine': 6650, 'hopefull': 5437, 'renew': 9553, 'spurge': 10854, 'climber': 2028, 'pas': 8371, 'doubtless': 3370, 'merchant': 7234, 'zhuo': 13005, 'feng': 4214, 'xiao': 12921, 'whining': 12690, 'delusion': 2906, 'psychically': 9110, 'galvanise': 4640, 'wotcs': 12872, 'effin': 3602, 'gunk': 5033, 'slacker': 10486, 'mcslackerson': 7153, 'jew': 6179, 'prohibition': 9041, 'cyni': 2687, 'wendy': 12651, 'alexa': 355, 'comprimise': 2230, 'breathi': 1423, 'sustained': 11273, 'garmin': 4662, 'mockery': 7416, 'derive': 2971, 'discomf': 3171, 'dye': 3507, 'jog': 6204, 'belittle': 1080, 'spoiled': 10821, 'superstorm': 11215, 'sandy': 9967, 'rudderless': 9868, 'tunnel': 11953, 'pukey': 9138, 'genetically': 4707, 'microbe': 7278, 'nov': 7899, 'gunslinger': 5035, 'horrific': 5454, 'sitting': 10443, 'helterskelter': 5271, 'evangelical': 3906, 'celeen': 1767, 'jet': 6178, 'daylight': 2775, 'snooze': 10601, 'tibris': 11635, 'ecker': 3552, 'adrian': 211, 'ibleeditout': 5582, 'kodi': 6427, 'mousekin': 7543, 'jin': 6193, 'hee': 5243, 'lotte': 6837, 'reasoning': 9361, 'abba': 52, 'ross': 9835, 'stupefy': 11099, 'ama': 418, 'invitati': 6014, 'serene': 10199, 'burgle': 1540, 'fundraiser': 4610, 'grit': 4974, 'offset': 8021, 'foray': 4441, 'cena': 1776, 'bryan': 1486, 'famil': 4119, 'intensive': 5938, 'zackmdavis': 12993, 'newton': 7781, 'panther': 8314, 'prime': 8972, 'boxing': 1377, 'clermont': 2015, 'yearned': 12949, 'deprivation': 2961, 'vunerable': 12509, 'rediculous': 9421, 'addicted': 174, 'nicotine': 7800, 'giraffe': 4766, 'majestic': 6966, 'transcendant': 11817, 'taco': 11353, 'frost': 4568, 'frosting': 4569, 'shortening': 10330, 'tran': 11809, 'zimbabwe': 13007, 'zimbabwean': 13008, 'deride': 2970, 'referee': 9433, 'swearing': 11290, 'sauna': 9999, 'goldilock': 4842, 'off': 8004, 'contention': 2372, 'skillz': 10468, 'lingo': 6709, 'vitor': 12473, 'hunker': 5540, 'nonstop': 7854, 'jeannie': 6152, 'whack': 12667, 'psychologically': 9113, 'feast': 4177, 'trans': 11815, 'bookstore': 1337, 'dripping': 3430, 'third': 11578, 'humbugish': 5519, 'racket': 9247, 'decorating': 2828, 'buzzy': 1564, 'panicky': 8311, 'chaperone': 1822, 'kinnock': 6393, 'iss': 6079, 'alway': 417, 'elusively': 3672, 'patronize': 8414, 'wilfrid': 12749, 'introspective': 5990, 'euskc': 3903, 'ptpt': 9124, 'pouhere': 8849, 'yer': 12957, 'hesei': 5303, 'kaman': 6305, 'revising': 9703, 'gus': 5038, 'preoccupation': 8918, 'undiscovered': 12095, 'intubate': 5995, 'daddys': 2698, 'refined': 9437, 'persuade': 8546, 'landlady': 6485, 'gravely': 4935, 'insul': 5914, 'demostrator': 2919, 'spat': 10750, 'creamy': 2545, 'cheesecake': 1865, 'wanatribe': 12552, 'melty': 7206, 'peregrino': 8502, 'panty': 8316, 'sandra': 9965, '33': 28, 'darlington': 2750, 'miscarriage': 7366, 'unborn': 12034, 'chil': 1887, 'raffaella': 9257, 'sweetener': 11301, 'mindful': 7328, 'anchorage': 472, 'flirty': 4368, 'miraculous': 7359, 'strop': 11068, 'ruffle': 9877, 'inflate': 5814, 'sooooo': 10692, 'derek': 2967, 'dreamworld': 3418, 'unforgettable': 12126, 'remarry': 9531, 'ebloggy': 3545, 'sewage': 10231, 'clog': 2043, 'diarrhoea': 3077, 'full': 4598, 'reincarnation': 9480, 'stupidly': 11103, 'dangerously': 2732, 'materialist': 7111, 'sheepish': 10280, 'collaborative': 2112, 'tou': 11759, 'stymie': 11110, 'unintende': 12150, 'nathans': 7678, 'spurt': 10856, 'belt': 1093, 'dojo': 3322, 'waitrose': 12527, 'nicer': 7791, 'condone': 2261, 'spare': 10742, 'dharavi': 3059, 'turnover': 11961, 'duke': 3469, 'cinderalla': 1957, 'falsely': 4114, 'inflated': 5815, 'dotty': 3365, 'orphan': 8137, 'baremineral': 963, 'uae': 11995, 'oblivious': 7965, 'heartache': 5214, 'collaboration': 2111, 'inscrie': 5869, 'intr': 5985, 'rafinament': 9259, 'lejer': 6599, 'extrem': 4058, 'feminin': 4207, 'salesman': 9946, 'tramp': 11807, 'aisle': 322, 'squawking': 10863, 'bleat': 1232, 'rlsh': 9776, 'heartbrea': 5216, 'belate': 1075, 'potty': 8848, 'joan': 6198, 'corinthian': 2437, 'bqff': 1382, 'riotousramble': 9760, 'sundry': 11196, 'hyphen': 5571, 'tdy': 11422, 'unfocused': 12123, 'scoundrel': 10075, 'alleviate': 386, 'pai': 8278, 'idreamculture': 5608, 'sid': 10368, 'assuredly': 744, 'botany': 1355, 'lec': 6577, 'audre': 804, 'lorde': 6825, 'backpacker': 892, 'overland': 8213, 'douse': 3375, 'freind': 4530, 'asasoulawaken': 693, 'feeli': 4196, 'diktat': 3107, 'dominant': 3331, 'ste': 10937, 'cologne': 2126, 'fortunately': 4473, 'outlandish': 8167, 'asthma': 745, 'collapese': 2113, 'reseach': 9608, 'trench': 11863, 'silen': 10389, 'norah': 7859, 'cesspool': 1791, 'arrest': 666, 'predawn': 8889, 'pathologically': 8400, 'detroit': 3034, 'specialized': 10760, 'heinous': 5254, 'exhilirate': 4001, 'divulge': 3297, 'styling': 11108, 'rapist': 9299, 'rigorously': 9749, 'mitchell': 7399, 'cornbread': 2439, 'toot': 11732, 'trumpet': 11913, 'spontaneously': 10828, 'erratic': 3852, 'swoon': 11318, 'individually': 5784, 'scrunching': 10099, 'nighthawks': 7808, 'ebony': 3546, 'juliemadblogger': 6268, 'uv': 12311, 'eighty': 3622, 'nervo': 7748, 'wifi': 12737, 'accessibility': 106, 'warfighter': 12568, 'intrigue': 5986, 'pervasive': 8549, 'accommodation': 114, 'mournfu': 7539, 'fiddly': 4241, 'critic': 2579, 'menu': 7232, 'motive': 7528, 'inbalance': 5719, 'committment': 2171, 'reconciliation': 9401, 'rommel': 9815, 'pavement': 8425, 'insanely': 5865, 'edmontonian': 3574, 'climate': 2025, 'katanya': 6324, 'carseat': 1702, 'gland': 4785, 'gp': 4888, 'leopold': 6619, 'harper': 5139, 'deprecation': 2953, 'pulp': 9140, 'hs': 5491, 'doodly': 3344, 'trendy': 11865, 'stellar': 10950, 'totering': 11758, 'cm': 2071, 'thickness': 11567, 'slat': 10492, 'mattress': 7121, 'unsurprisingly': 12239, 'insular': 5915, 'xviith': 12927, 'den': 2922, 'velde': 12373, 'velvet': 12376, 'treassure': 11849, 'nomming': 7844, 'champion': 1809, 'ahem': 301, 'belle': 1082, 'sebastian': 10120, 'dispaire': 3226, 'mine': 7331, 'trainable': 11801, 'frugal': 4574, 'improv': 5697, 'penis': 8480, 'battalion': 1002, 'gascoigne': 4665, 'bobby': 1295, 'charlton': 1837, 'replica': 9579, 'yawn': 12939, 'miner': 7332, 'deliberation': 2893, 'societal': 10632, 'jurys': 6284, 'palin': 8298, 'caresse': 1676, 'expansion': 4012, 'morton': 7510, 'treasury': 11852, 'diwali': 3298, 'symbol': 11325, 'nonexistence': 7849, 'jeoffrey': 6167, 'eyo': 4077, 'ahkman': 303, 'herman': 5291, 'disconcert': 3174, 'outcasted': 8155, 'rue': 9874, 'paraphrase': 8334, 'neo': 7739, 'terminology': 11501, 'modification': 7423, 'bona': 1322, 'fide': 4242, 'seer': 10142, 'befriend': 1059, 'coeur': 2090, 'alene': 351, 'nuts': 7936, 'sabbatical': 9914, 'skate': 10452, 'vellas': 12374, 'glitch': 4801, 'kindaish': 6385, 'sighhh': 10379, 'dickish': 3084, 'dismantle': 3214, 'potent': 8842, 'irfan': 6033, 'pathan': 8397, 'liza': 6753, 'salisbury': 9947, 'plai': 8674, 'prescribe': 8930, 'uninterested': 12152, 'sep': 10190, 'moribund': 7497, 'providence': 9091, 'sloshy': 10524, 'rattlesnake': 9314, 'alfred': 362, 'molina': 7436, 'dimensional': 3111, 'caricature': 1680, 'overthink': 8229, 'flying': 4404, 'pesticide': 8558, 'contaminate': 2361, 'kevin': 6354, 'hart': 5147, 'wiz': 12809, 'khalifa': 6360, 'thaim': 11534, 'outdoor': 8159, 'concealer': 2237, 'divorcee': 3296, 'jaeryong': 6113, 'jungeun': 6278, 'tacky': 11352, 'tgt': 11530, 'tith': 11689, 'ath': 758, 'afp': 254, 'enclose': 3731, 'bass': 989, 'viol': 12447, 'laundering': 6525, 'poppy': 8795, 'primo': 8976, '11': 2, '1987': 15, 'reade': 9335, 'epiphany': 3833, 'keynote': 6358, 'contempt': 2367, 'bobbin': 1294, 'paperwork': 8320, 'bureaucrat': 1536, 'backdrop': 887, 'phenomenon': 8575, 'freeer': 4524, 'hassle': 5154, 'curly': 2655, 'straighten': 11018, 'rockstar': 9795, 'razzle': 9326, 'dazzle': 2780, 'roger': 9799, 'ethel': 3885, 'gleam': 4791, 'eames': 3518, 'chasing': 1842, 'henrietta': 5279, 'ariel': 647, 'chelmsford': 1867, 'greeting': 4956, 'landlubber': 6488, 'imagi': 5636, 'radar': 9248, 'unnoticed': 12190, 'jig': 6186, 'greatbritain': 4945, 'picky': 8609, 'jahmene': 6116, 'lad': 6465, 'mag': 6937, 'herbal': 5286, 'nl': 7828, 'cog': 2093, 'folklore': 4423, 'dobie': 3305, 'ghosts': 4747, 'fumble': 4602, 'exorcise': 4008, 'ineffective': 5794, 'spectra': 10772, 'gfb': 4741, 'finale': 4269, 'outlook': 8169, 'johnson': 6211, 'angie': 489, 'boyfirend': 1379, 'aids': 305, 'becoz': 1042, 'sweatpant': 11293, 'commute': 2183, 'ferry': 4217, 'armani': 653, 'blazer': 1229, 'palace': 8292, 'westminster': 12662, 'condolence': 2260, 'ome': 8048, 'flaky': 4326, 'streaky': 11037, 'neal': 7701, 'disastrous': 3158, 'sincerely': 10416, 'momma': 7446, 'tx': 11980, 'sassiness': 9985, 'judgmental': 6258, 'trafficking': 11794, 'slavery': 10497, 'embitter': 3686, 'glasgow': 4789, 'tier': 11646, 'vale': 12323, 'fur': 4615, 'beading': 1023, 'chapbook': 1821, 'aggrandisement': 273, 'defenseman': 2854, 'subkect': 11121, 'upholstered': 12267, 'timeless': 11660, 'savour': 10007, 'coax': 2078, 'gratuitously': 4933, 'nastily': 7674, 'kinison': 6392, 'simpl': 10403, 'proplem': 9066, 'ren': 9550, 'stimpy': 10979, 'gemini': 4689, 'scorpio': 10070, 'soulmate': 10719, 'venom': 12381, 'bodega': 1298, 'changer': 1815, 'taryns': 11405, 'veer': 12361, 'disorientate': 3223, 'thunder': 11624, 'ss': 10875, 'wll': 12811, 'hotest': 5472, 'excotick': 3981, 'beaty': 1036, 'yummyy': 12987, 'deisire': 2877, 'enjoin': 3777, 'freakishly': 4518, 'depict': 2947, 'cinnamon': 1961, 'bassanio': 990, 'woo': 12833, 'portia': 8808, 'exboyfriend': 3955, 'midnight': 7287, 'mira': 7357, 'xbla': 12914, 'sony': 10687, 'reexplain': 9431, 'womanhood': 12822, 'outgrow': 8165, 'thrifte': 11604, 'chorus': 1923, 'outro': 8176, 'gig': 4752, 'grudgingly': 4999, 'tugging': 11944, 'untried': 12245, 'generator': 4702, 'confinement': 2278, 'asset': 727, 'musicianship': 7617, 'coulter': 2475, 'schultz': 10055, 'tirade': 11680, 'dismays': 3217, 'specialness': 10762, 'communicat': 2176, 'irina': 6034, 'undesired': 12093, 'unsupported': 12236, 'prizecompetition': 9000, 'ptsd': 9125, 'reset': 9617, 'hernia': 5294, 'jesse': 6175, 'opinionated': 8085, 'voldemort': 12491, 'something': 10676, 'mend': 7221, 'testimony': 11519, 'tabby': 11344, 'creek': 2559, 'meadow': 7156, 'hilariously': 5331, 'immedietly': 5651, 'mart': 7073, 'ethical': 3887, 'nesty': 7756, 'weeny': 12628, 'occassionally': 7982, 'earring': 3528, 'canoe': 1638, 'pager': 8275, 'fearlessness': 4176, 'inquisition': 5863, 'subspace': 11136, 'maury': 7129, 'smothered': 10569, 'vibrate': 12410, 'nutritious': 7935, 'rinse': 9758, 'putrid': 9177, 'americana': 438, 'sneha': 10587, 'wage': 12517, 'biblical': 1154, 'vlog': 12479, 'upgrade': 12266, 'raising': 9273, 'flashy': 4337, 'explosion': 4034, 'adversary': 222, 'poggy': 8746, 'serioulsy': 10204, 'jehovah': 6159, 'legally': 6587, 'pileon': 8625, 'corset': 2460, 'almond': 397, 'sailo': 9940, 'marlin': 7065, 'dunham': 3482, 'minimise': 7341, 'crunk': 2616, 'pristine': 8990, 'kilo': 6377, 'corbett': 2433, 'progression': 9037, 'pneumonia': 8736, 'rolex': 9803, 'harshness': 5146, 'relentlessness': 9508, 'optimist': 8099, 'ewan': 3938, 'curry': 2660, 'restful': 9649, 'waiter': 12525, 'han': 5090, 'inbox': 5720, 'bagshot': 911, 'appt': 620, 'ivory': 6095, 'detoxified': 3031, 'iws': 6097, 'toni': 11723, 'ight': 5613, 'merican': 7242, 'hah': 5061, 'geremiafamily': 4723, 'nervousness': 7752, 'cosplay': 2467, 'goon': 4859, 'classy': 1997, 'redesign': 9419, 'kangna': 6308, 'ranaut': 9281, 'remix': 9542, 'diatribe': 3079, 'embark': 3679, 'defiant': 2860, 'dumpee': 3479, 'onel': 8057, 'creator': 2554, 'eminent': 3695, 'patriotic': 8409, 'recollection': 9397, 'shortish': 10331, 'antisocial': 546, 'nicholson': 7793, 'upright': 12275, 'privately': 8995, 'armpit': 657, 'batting': 1006, 'desponde': 3002, 'tempting': 11482, 'procure': 9013, 'redden': 9416, 'manhood': 7011, 'artefact': 676, 'untouched': 12244, 'locomotive': 6776, 'terry': 11516, 'yippee': 12966, 'maximise': 7132, 'esque': 3862, 'penelope': 8478, 'huntley': 5544, 'crucify': 2607, 'effigy': 3601, 'holyhead': 5390, 'recede': 9374, 'atlantic': 770, 'uncaring': 12041, 'pessimism': 8555, 'paralyzed': 8331, 'bellybutton': 1086, 'impugn': 5702, 'mcillvanney': 7147, 'sheri': 10288, 'entrie': 3816, 'exertion': 3989, 'sausage': 10000, 'generosity': 4704, 'efficient': 3599, 'concieve': 2248, 'procedure': 9007, 'suckle': 11154, 'sector': 10130, 'abortion': 68, 'creatively': 2552, 'stimulating': 10982, 'nominate': 7842, 'chesley': 1875, 'favorable': 4166, 'shooter': 10321, 'challenging': 1806, 'ebb': 3544, 'subdued': 11117, 'reed': 9426, 'pensioner': 8488, 'zayne': 12996, 'leapor': 6567, 'freemantl': 4527, 'airbrush': 311, 'slr': 10531, 'ford': 4445, 'judgement': 6255, 'reuse': 9684, 'noteworthy': 7884, 'agonising': 291, 'hmm': 5358, 'fertility': 4218, 'dangle': 2733, 'mushroom': 7612, 'montague': 7467, 'creggan': 2563, 'aslee': 710, 'muaz': 7570, 'miscreant': 7369, 'luftwaffe': 6881, 'ryder': 9909, 'critically': 2581, 'flawed': 4347, 'meaningful': 7161, 'caf': 1580, 'squish': 10871, 'wane': 12555, 'obligate': 7958, 'huhuhu': 5505, 'lydi': 6913, 'notcie': 7881, 'loki': 6788, 'cdn': 1758, 'phew': 8576, 'installment': 5896, 'relish': 9518, 'squelch': 10867, 'dumbass': 3475, 'rukia': 9881, 'boredwithquinn': 1347, 'burford': 1537, 'superintending': 11209, 'aplin': 576, 'lon': 6795, 'contractual': 2389, 'vietnamese': 12427, 'marjane': 7058, 'athlete': 764, 'jonti': 6228, 'xl': 12922, 'men': 7219, 'odkh': 7998, 'exotic': 4009, 'destroyer': 3013, 'rewarding': 9711, 'academia': 94, 'undutiful': 12102, 'californian': 1598, 'okc': 8034, 'eharmony': 3615, 'gona': 4846, 'decribe': 2830, 'ransom': 9291, 'charlotte': 1836, 'thro': 11612, 'hausa': 5172, 'motorcyclist': 7531, 'resemblance': 9611, 'theo': 11551, 'eli': 3653, 'gastro': 4669, 'domestically': 3330, 'blackeyes': 1207, 'allot': 391, 'correctly': 2455, 'croc': 2587, 'fashionable': 4149, 'finalist': 4270, 'deodorant': 2938, 'bud': 1496, 'mold': 7434, 'miniature': 7337, 'stylesheet': 11107, 'css': 2625, 'jdelivery': 6146, 'restricted': 9660, 'columbia': 2134, 'bommie': 1320, 'chubby': 1941, 'scab': 10011, 'bruis': 1481, 'delhi': 2890, 'elevate': 3649, 'metabolism': 7255, 'hyperthyroidism': 5569, 'farewell': 4137, 'recourse': 9406, 'cabeal': 1574, 'leadership': 6558, 'downer': 3383, 'scented': 10039, 'terminal': 11499, 'dulle': 3471, 'accessary': 105, 'impudent': 5701, 'rightful': 9743, 'predecessor': 8890, 'bereft': 1117, 'elevated': 3650, 'lexicon': 6640, 'dnt': 3304, 'yu': 12986, 'fr': 4489, 'knwe': 6426, 'nthing': 7909, 'plastikan': 8689, 'sectret': 10131, 'snail': 10574, 'egf': 3609, 'sparkleapple': 10745, 'forefoot': 4447, 'lateral': 6512, 'bandaid': 938, 'better': 1133, 'traditionally': 11792, 'aff': 236, 'holli': 5384, 'reese': 9428, 'doha': 3319, 'wrist': 12893, 'continuous': 2383, 'chopping': 1921, 'exhilarat': 3997, 'rampant': 9279, 'hospitalize': 5464, 'estate': 3871, 'proceed': 9008, 'thoughtless': 11594, 'thang': 11537, 'blacken': 1206, 'suburb': 11141, 'midwest': 7291, 'heimbuch': 5253, 'midwestern': 7292, 'manly': 7025, 'gratefulness': 4929, 'ensign': 3795, 'energetically': 3754, 'upsetting': 12278, 'benedictine': 1103, 'monastic': 7454, 'discriminate': 3187, 'happywarmworld': 5121, 'dir': 3129, 'ltr': 6870, 'henypire': 5281, 'cuss': 2667, 'loitering': 6787, 'allan': 380, 'complicate': 2218, 'undertaking': 12085, 'cardiovascular': 1667, 'briefly': 1443, 'lololol': 6794, 'audrey': 805, 'paralyse': 8328, 'rabb': 9236, 'ml': 7405, 'ceramics': 1784, 'repairment': 9562, 'atelier': 755, 'patrimony': 8408, 'specialize': 10759, 'antiquity': 545, 'ashtray': 704, 'brian': 1432, 'prolong': 9046, 'assertion': 723, 'orthodox': 8138, 'shonas': 10319, 'athe': 759, 'antonio': 550, 'mansoor': 7029, 'structural': 11070, 'linguistic': 6710, 'deconstructionist': 2826, 'clamour': 1979, 'bullying': 1518, 'softball': 10643, 'extract': 4055, 'parody': 8353, 'knit': 6414, 'fatherly': 4158, 'inste': 5900, 'vanity': 12343, 'meme': 7210, 'autocorrect': 824, 'pgce': 8572, 'destruction': 3014, 'hobnob': 5370, 'pollen': 8774, 'barometric': 970, 'kilter': 6379, 'douevenlift': 3373, 'exicting': 4002, 'tony': 11729, 'employman': 3716, 'drunken': 3448, 'maurice': 7128, 'inkling': 5852, 'samuel': 9957, 'prophet': 9065, 'confound': 2284, 'loyalist': 6863, 'intac': 5921, 'wailing': 12521, 'hank': 5109, 'mg': 7269, 'seroquel': 10209, 'hairstye': 5074, 'outsid': 8178, 'sparkling': 10746, 'winemaker': 12776, 'ironically': 6043, 'nuisance': 7918, 'fizzy': 4315, 'nationality': 7681, 'attic': 789, 'abelard': 57, 'frightening': 4557, 'teetotaller': 11457, 'harrowing': 5142, 'repell': 9568, 'gamer': 4644, 'molyneux': 7440, 'axilla': 865, 'quaker': 9190, 'excitedly': 3973, 'fortnight': 4471, 'icy': 5591, 'hooton': 5433, 'richar': 9726, 'payne': 8432, 'torward': 11750, 'thirteen': 11580, 'shishido': 10308, 'senpai': 10173, 'ahahahaha': 299, 'morbidly': 7492, 'cornish': 2443, 'cornwall': 2444, 'penitential': 8481, 'unsettling': 12223, 'rod': 9797, 'sally': 9948, 'mop': 7482, 'atop': 777, 'vessel': 12399, 'leak': 6562, 'nicky': 7797, 'constance': 2335, 'moo': 7473, 'pond': 8781, 'scum': 10102, 'lifeline': 6662, 'caution': 1743, 'solitude': 10660, 'simultaneous': 10409, 'cycling': 2686, 'lest': 6626, 'resistant': 9630, 'taboo': 11348, 'parlor': 8352, 'hamburger': 5085, 'wrapping': 12882, 'quantity': 9195, 'ffayth': 4231, 'sync': 11333, 'itune': 6093, 'continent': 2377, 'mug': 7579, 'algorithmic': 364, 'efficiency': 3598, 'motivator': 7527, 'elvive': 3673, 'sls': 10532, 'formula': 4467, 'flooring': 4376, 'underappreciated': 12064, 'chuffed': 1945, 'pumpkin': 9147, 'leas': 6572, 'pleasent': 8713, 'rifkind': 9738, 'chairman': 1801, 'scholey': 10050, 'leade': 6555, 'shayla': 10276, 'blogstalker': 1259, 'enought': 3790, 'espouse': 3860, 'skew': 10463, 'bicycle': 1156, 'justified': 6288, 'broodiness': 1468, 'aww': 863, 'kicking': 6366, 'wangxuehai': 12556, 'mandarin': 7000, 'tianjin': 11634, 'variation': 12347, 'debris': 2803, 'lavatory': 6534, 'atlephobia': 772, 'airline': 316, 'mmf': 7407, 'repentanc': 9569, 'neferet': 7722, 'huvin': 5558, 'stretcher': 11048, 'perr': 8525, 'kerte': 6353, 'oot': 8070, 'poplin': 8794, 'shor': 10325, 'plight': 8718, 'georgia': 4720, 'venerate': 12379, 'irc': 6030, 'plainly': 8676, 'isolating': 6073, 'mulligans': 7584, 'havet': 5176, 'genealogical': 4693, 'affron': 248, 'riled': 9754, 'bewertung': 1139, 'percentage': 8497, 'embarassed': 3678, 'advil': 229, 'inflammation': 5813, 'microcosm': 7279, 'jazz': 6144, 'heather': 5230, 'settlement': 10224, 'heightened': 5252, 'tuxedo': 11964, 'cufflink': 2631, 'thesis': 11562, 'greens': 4954, 'shrink': 10350, 'democrats': 2913, 'cooke': 2415, 'bodywork': 1304, 'lens': 6612, 'preston': 8944, 'selfs': 10159, 'piggy': 8623, 'amus': 456, 'pearly': 8448, 'planner': 8682, 'bridezillas': 1438, 'groom': 4982, 'slowco': 10529, 'ramsey': 9280, 'simon': 10402, 'pamper': 8302, 'preform': 8904, 'arty': 688, 'indisputably': 5781, 'flatten': 4340, 'monotony': 7464, 'usage': 12294, 'inflict': 5816, 'wolfiewolfgang': 12820, 'domestic': 3329, 'salty': 9951, 'clapping': 1981, 'teacup': 11429, 'empty': 3720, 'juvenile': 6294, 'sneer': 10585, 'heaney': 5208, 'regroup': 9469, 'overrate': 8219, 'partial': 8357, 'antm': 548, 'tango': 11389, 'milonga': 7319, 'blackmail': 1208, 'curb': 2649, 'universality': 12163, 'voluntary': 12493, 'eatery': 3540, 'placce': 8670, 'carson': 1703, 'nightlife': 7810, 'misspell': 7387, 'cumme': 2644, 'hollyoak': 5387, 'walt': 12549, 'swish': 11314, 'drowned': 3440, 'hamster': 5089, 'sendi': 10170, 'ninth': 7821, 'pri': 8960, 'neon': 7741, 'shizz': 10312, 'pesach': 8553, 'ethnic': 3889, 'jingly': 6195, '1974': 9, 'submiss': 11125, 'hindrance': 5341, 'profess': 9020, 'insufficient': 5913, 'depar': 2939, 'catherine': 1733, 'mcleish': 7149, 'uneas': 12104, 'cellphone': 1771, 'incredulous': 5757, 'undecorating': 12060, 'agnostic': 288, 'judeo': 6253, 'fundamentalist': 4608, 'ingorant': 5833, 'gucci': 5010, 'dough': 3374, 'mir': 7356, 'figurative': 4254, 'incursion': 5759, 'celt': 1774, 'inspi': 5889, 'jeal': 6147, 'sweetness': 11304, 'ffs': 4233, 'polenta': 8761, 'puncture': 9152, 'mexigoth': 7268, 'caramel': 1658, 'syrup': 11339, 'shhh': 10292, 'diversified': 3286, 'enchanted': 3728, 'henri': 5278, 'reconcile': 9400, 'wwii': 12909, 'gioella': 4765, 'gandhigiri': 4649, 'munnabhai': 7600, 'inescapable': 5797, 'hindu': 5343, 'unsophisticated': 12227, 'uncomposed': 12051, 'screening': 10089, 'eccentricity': 3549, 'tartan': 11401, 'soho': 10646, 'candlelit': 1634, 'dinne': 3122, 'rightness': 9746, 'unrelated': 12209, 'pun': 9148, 'managment': 6998, 'bedriacum': 1047, 'idle': 5606, 'muster': 7623, 'convert': 2403, 'currency': 2656, 'dancing': 2728, 'enliven': 3784, 'detention': 3023, 'passengere': 8376, 'jag': 6114, 'jointly': 6215, 'yesubais': 12961, 'lsd': 6868, 'chemist': 1869, 'shroomery': 10351, 'smarty': 10549, 'templates': 11475, 'dos': 3360, 'organizer': 8124, 'environmentally': 3825, 'itemised': 6088, 'bedworth': 1050, '34': 29, 'jury': 6283, 'hea': 5187, 'cocky': 2084, 'alhamdulillah': 365, 'dolly': 3325, 'luce': 6873, 'hote': 5470, 'romanticise': 9812, 'castiel': 1717, 'excercise': 3965, 'throb': 11614, 'augu': 807, 'newgate': 7774, 'artillery': 682, 'carmelite': 1686, 'whitefriars': 12705, 'occupa': 7985, 'democratic': 2912, 'metre': 7265, 'childlike': 1893, 'topical': 11737, 'zola': 13014, 'tri': 11868, 'beard': 1031, 'grocer': 4979, 'ap': 565, 'nicest': 7792, 'spruce': 10852, 'doorstep': 3350, 'gestate': 4732, 'afar': 235, 'blubber': 1273, 'diligently': 3108, 'bead': 1022, 'salon': 9949, 'thy': 11629, 'jillian': 6188, 'dis': 3139, 'egan': 3608, 'kurt': 6448, 'bludgeon': 1274, 'lite': 6735, 'eric': 3845, 'spiraling': 10803, 'ramadan': 9276, 'kleinkinder': 6407, 'surreal': 11252, 'cray': 2537, 'all': 378, 'omd': 8047, 'overdramatic': 8202, 'selectively': 10153, 'superintendent': 11208, 'elitist': 3660, 'fuchsia': 4584, 'epileptic': 3832, 'looter': 6822, 'consumerism': 2355, 'dalai': 2705, 'lama': 6476, 'skinnyg': 10477, 'provider': 9092, 'doingaone': 3320, 'knelt': 6411, 'harmless': 5136, 'insect': 5870, 'darle': 2748, 'irresponsible': 6049, 'jame': 6123, 'filmic': 4262, 'orgy': 8126, 'depravity': 2952, 'jumping': 6275, 'breeder': 1428, 'weighin': 12633, 'figuratively': 4255, 'dana': 2723, 'falangists': 4110, 'deaden': 2786, 'stude': 11083, 'dolphin': 3326, 'cincinnati': 1956, 'overtime': 8230, 'inaugural': 5717, 'lightmeter': 6677, 'awesomeness': 854, 'thinker': 11575, 'multiplayer': 7586, 'agenda': 270, 'shimmy': 10297, 'whitney': 12709, 'supplicate': 11222, 'spelt': 10783, 'sorbet': 10704, 'abate': 51, 'fahad': 4096, 'skeleton': 10457, 'seriousness': 10207, 'oven': 8189, 'chuckle': 1943, 'lodge': 6777, 'oesophagus': 8002, 'pothole': 8845, 'brackenbury': 1388, 'hasty': 5155, 'acuman': 165, 'tsunami': 11930, 'amped': 450, 'fee': 4190, 'catholics': 1736, 'workshop': 12854, 'reactor': 9333, 'relay': 9503, 'mishandle': 7375, 'bul': 1509, 'taewuhbeoryeo': 11356, 'niga': 7802, 'ulbujitneun': 12008, 'nal': 7655, 'neoneun': 7742, 'wiheomhae': 12742, 'ttaekkaji': 11932, 'gatsseo': 4676, 'woooo': 12842, 'cushion': 2665, 'voyeur': 12501, 'systematically': 11341, 'assassinate': 717, 'inlove': 5854, 'sean': 10112, 'faris': 4138, 'sleepover': 10505, 'scavenger': 10033, 'balcony': 920, 'unaccustomedness': 12024, 'sitcom': 10439, 'maxim': 7131, 'burgo': 1541, 'splurge': 10818, 'ladybit': 6469, 'thaw': 11545, 'cloth': 2050, 'napkin': 7668, 'reusable': 9683, 'provocation': 9096, 'pc': 8436, 'insider': 5878, 'surpr': 11246, 'tia': 11632, 'trainer': 11802, 'io': 6020, 'sii': 10388, 'lumia': 6891, 'pooper': 8788, 'basher': 981, 'revealthestaryoutrulyare': 9688, 'stoically': 10995, 'newlands': 7775, 'intensifying': 5936, 'pave': 8423, 'prabhupada': 8863, 'midday': 7283, 'brady': 1390, 'anonymous': 528, 'directorial': 3136, 'progre': 9035, 'stevie': 10966, 'ruach': 9860, 'hakodesh': 5076, 'oatmeal': 7947, 'impoverished': 5689, 'liver': 6747, 'herzog': 5302, 'fools': 4437, 'extensive': 4047, 'predator': 8887, 'frustrati': 4580, 'carlas': 1684, 'creating': 2548, 'effortless': 3604, 'lolll': 6792, 'blissful': 1245, 'inappropriate': 5715, 'videogame': 12423, 'disgestive': 3195, 'museli': 7609, 'yoghurt': 12970, 'itsy': 6091, 'bitsy': 1194, 'vogue': 12485, 'cadore': 1579, 'bloodshed': 1264, 'cameraman': 1615, 'micky': 7277, 'incongruousl': 5745, 'hyperventilate': 5570, 'cannes': 1637, 'pedretti': 8458, 'scandalou': 10020, 'tread': 11846, 'delicately': 2896, 'walter': 12550, 'holi': 5379, 'hating': 5165, 'alec': 350, 'liar': 6644, 'interpersonal': 5967, 'milly': 7318, 'normalize': 7867, 'oblivion': 7964, 'braeden': 1391, 'calvin': 1609, 'publishe': 9133, 'ann': 507, 'heron': 5299, 'uncommitted': 12049, 'unmotivate': 12183, 'seth': 10220, 'incl': 5732, 'psychiatry': 9109, 'hovel': 5483, 'penance': 8473, 'iteration': 6089, 'sentiment': 10186, 'physicality': 8597, 'earnestness': 3526, 'earthly': 3531, 'makeover': 6972, 'derange': 2965, 'helena': 5257, 'bonham': 1328, 'sweeney': 11298, 'ungodly': 12132, 'unwisely': 12257, 'spooky': 10830, 'matin': 7116, 'stewart': 10968, 'eighteen': 3619, 'down': 3379, 'thou': 11590, 'deedee': 2835, 'renovation': 9555, 'companionship': 2187, 'nano': 7664, 'snare': 10579, 'plush': 8731, 'linklater': 6713, 'stor': 11004, 'blunt': 1280, 'anymmore': 557, 'ampatuan': 449, 'odor': 8001, 'marcher': 7041, 'overhead': 8209, 'hoot': 5432, 'solidarity': 10658, 'rein': 9479, 'handove': 5102, 'germany': 4728, 'untouchable': 12243, 'zealous': 12998, 'persecution': 8528, 'melodramatically': 7201, 'walker': 12540, 'torturing': 11749, 'negatively': 7725, 'sabotaging': 9916, 'diagnose': 3065, 'srcurl': 10873, 'draftbloger': 3398, 'disclosure': 3169, 'convos': 2411, 'sumthg': 11191, 'tat': 11410, 'thk': 11585, 'awed': 852, 'firefighter': 4292, 'livevideo': 6749, 'thunk': 11626, 'kala': 6303, 'fondness': 4431, 'aged': 268, 'pyongyang': 9183, 'gorengs': 4866, 'toku': 11709, 'malai': 6978, 'navy': 7696, 'pollicino': 8775, 'moanday': 7410, 'dodd': 3313, 'dispute': 3233, 'universalized': 12164, 'goodnight': 4855, 'incase': 5724, 'cyst': 2692, 'inthewarmholdofyourlovingmind': 5976, 'graeme': 4902, 'souness': 10723, 'touchline': 11763, 'bo': 1287, 'squirt': 10870, 'generational': 4701, 'feat': 4178, 'merasa': 7233, 'luar': 6871, 'biasa': 1152, 'karena': 6317, 'kulihat': 6444, 'brass': 1403, 'stud': 11081, 'striped': 11060, 'humid': 5521, 'diss': 3243, 'fug': 4591, 'irritability': 6051, 'sniffer': 10591, 'gag': 4629, 'reflex': 9440, 'apc': 573, 'osthryth': 8144, 'ecgfrith': 3550, 'bestow': 1127, 'archbishop': 631, 'theodore': 11552, 'lancashire': 6481, 'gooch': 4850, 'selector': 10154, 'axe': 864, 'phil': 8577, 'defreitas': 2871, 'essex': 3866, 'paceman': 8257, 'il': 5623, 'sek': 10147, 'arialblue': 646, 'liberation': 6649, 'plural': 8729, 'snarky': 10581, 'suffuse': 11169, 'dorothy': 3359, 'circumstan': 1964, 'elise': 3658, 'deat': 2797, 'witnese': 12805, 'clueless': 2061, 'muay': 7569, 'philippine': 8580, 'called': 1600, 'minimum': 7343, 'resting': 9650, 'jakun': 6120, 'tygerman': 11984, 'peril': 8510, 'villian': 12437, 'bemoan': 1096, 'lax': 6541, 'briton': 1457, 'hepzibah': 5283, 'carrie': 1697, 'boxer': 1376, 'instinctively': 5905, 'arch': 630, 'outstretched': 8184, 'goldschlager': 4843, 'twentysomething': 11971, 'plow': 8721, 'externally': 4052, 'river': 9774, 'ganges': 4650, 'mississippi': 7386, 'clyde': 2070, 'boyne': 1381, 'inexplicably': 5802, 'unfounded': 12129, 'caba': 1571, 'margaret': 7044, 'overtone': 8232, 'rig': 9739, 'nakahara': 7652, 'mai': 6954, 'atheism': 760, 'refugee': 9449, 'pumpin': 9146, 'clarinet': 1986, 'playlist': 8703, 'cram': 2525, '30': 26, 'dian': 3072, 'boast': 1291, 'jimmys': 6192, 'aziz': 868, 'bt': 1489, 'thn': 11586, 'haverford': 5175, 'indulgence': 5788, 'audacity': 800, 'ample': 452, 'seep': 10141, 'decal': 2808, 'reestablish': 9429, 'chanel': 1813, 'effeminacy': 3596, 'nickey': 7795, 'nik': 7815, 'asd': 696, 'relations': 9495, 'shubhi': 10353, 'feb': 4182, 'papamoka': 8318, 'kristi': 6439, 'tournament': 11775, 'irrespective': 6048, 'africa': 257, 'truley': 11910, 'passage': 8373, 'lh': 6641, 'smother': 10568, 'loosen': 6820, 'restrict': 9659, 'champions': 1810, 'hideously': 5319, 'guily': 5024, 'cooler': 2419, 'advocacy': 231, 'nylon': 7942, 'pg': 8571, 'catalog': 1724, 'yogurt': 12971, 'sexaholic': 10234, 'kj': 6405, 'middot': 7285, 'multiplication': 7588, 'gourmet': 4879, 'delicacy': 2894, 'everywher': 3928, 'brooklyn': 1469, 'latch': 6508, 'repeal': 9564, 'hopkins': 5442, 'collusion': 2125, 'alic': 368, 'started': 10915, 'unbound': 12035, 'habanero': 5052, 'eradication': 3844, 'torment': 11742, 'deffinately': 2858, 'imagebox': 5635, 'flub': 4392, 'incapacitate': 5723, 'flaring': 4333, 'acknowledgment': 144, 'origin': 8128, 'monopoly': 7463, 'liebster': 6659, 'lunchroom': 6898, 'burnout': 1544, 'cabernet': 1575, 'congenial': 2292, 'kudo': 6443, 'summit': 11190, 'intimidation': 5982, 'myslef': 7632, 'leonard': 6616, 'shard': 10263, 'slash': 10491, 'rohmer': 9801, 'bayou': 1010, 'cypress': 2690, 'wildlife': 12747, 'huda': 5498, 'buffalo': 1503, 'ballroom': 929, 'va': 12313, 'prandi': 8871, 'willpower': 12760, 'grinch': 4969, 'skellington': 10458, 'lid': 6656, 'grind': 4970, 'inhumanity': 5842, 'chub': 1940, 'hearty': 5227, 'overjoy': 8211, 'unsolved': 12226, 'hugely': 5503, 'becasue': 1040, 'kardashion': 6315, 'aggressiven': 279, 'lise': 6727, 'decaf': 2807, 'belmont': 1087, 'tenderly': 11487, 'bertram': 1123, 'ptbertram': 9120, 'prius': 8991, 'gore': 4865, 'patagonia': 8392, 'driving': 3435, 'vocalist': 12483, 'femininely': 4209, 'maltese': 6988, 'karma': 6319, 'stokill': 10996, 'hahahahahha': 5065, 'sensational': 10175, 'ash': 697, 'stench': 10952, 'greasy': 4943, 'yeast': 12952, 'akron': 328, 'flaunt': 4343, 'residue': 9623, 'brownish': 1477, 'tint': 11676, 'hgtv': 5311, 'bitterly': 1197, 'stingy': 10985, 'bondmusing': 1326, 'blast': 1224, 'humbling': 5516, 'unpleasantness': 12195, 'zofran': 13013, 'rewind': 9712, 'dvre': 3501, 'preview': 8956, 'wallow': 12545, 'altar': 406, 'outstretc': 8183, 'applebee': 599, 'dunnno': 3483, 'beanbag': 1028, 'duvet': 3498, 'congestion': 2294, 'ii': 5622, 'spy': 10857, 'owen': 8244, 'morgan': 7495, 'spitball': 10811, 'lair': 6473, 'pious': 8645, 'uppity': 12274, 'emm': 3696, 'rammstein': 9278, 'simplethoughtsonthing': 10405, 'fleet': 4351, 'teensi': 11454, 'helpline': 5270, 'childbirth': 1889, 'alcest': 344, 'mollusk': 7438, 'elect': 3636, 'revisit': 9705, 'lovey': 6857, 'dovey': 3378, 'unhappiness': 12135, 'insufficiency': 5912, 'loo': 6808, 'stale': 10895, 'swe': 11288, 'crosser': 2595, 'hobica': 5368, 'ny': 7940, 'ime': 5644, 'makeshift': 6974, 'graveyard': 4937, 'impotence': 5687, 'abduct': 56, 'hinterland': 5345, 'gaige': 4632, 'waft': 12516, 'lindo': 6705, 'transgend': 11823, 'brainwashing': 1397, 'intersex': 5972, 'merciful': 7235, 'provisio': 9095, 'genetic': 4706, 'orlean': 8135, 'neighbourhood': 7735, 'quixotic': 9229, 'kardashian': 6314, 'roseanne': 9829, 'alexander': 356, 'gusto': 5041, 'behi': 1069, 'trout': 11905, 'hickory': 5315, 'lenoir': 6611, 'morganton': 7496, 'auggie': 806, 'rotation': 9839, 'annabel': 509, 'madly': 6932, 'hurrica': 5546, 'bonamy': 1323, 'dobre': 3306, 'skelton': 10459, 'hinderance': 5339, 'clique': 2038, 'undeservedly': 12090, 'vulgar': 12505, 'gee': 4683, 'jogger': 6205, 'outsprinte': 8181, 'sybil': 11322, 'natura': 7684, 'steadily': 10938, 'fixable': 4313, 'sf': 10239, 'dissappear': 3245, 'yoshidas': 12978, 'arabia': 626, 'indigenous': 5773, 'spock': 10819, 'spacy': 10735, 'nancy': 7662, 'ecology': 3555, 'moxie': 7555, 'cath': 1729, 'conscience': 2308, 'overlap': 8214, 'pessimistic': 8556, 'dong': 3338, 'calf': 1595, 'oooh': 8068, 'membre': 7209, 'mcaleese': 7142, 'glor': 4810, 'blade': 1212, 'intimate': 5978, 'bodily': 1299, 'ceiling': 1762, 'consent': 2316, 'texas': 11523, 'trivial': 11891, 'blogoversary': 1256, 'creepily': 2561, 'hallway': 5083, 'helier': 5258, 'hospita': 5461, 'ciaran': 1954, 'oozing': 8071, 'overemotional': 8206, 'riva': 9771, 'weinstein': 12638, 'lump': 6893, 'idc': 5592, 'peeved': 8466, 'dictate': 3085, 'gordon': 4864, 'cowans': 2510, 'midfield': 7286, 'speedie': 10780, 'bruce': 1480, 'enjorlas': 3778, 'marius': 7057, 'concequence': 2243, 'soulbitesblog': 10717, 'commemorate': 2162, 'patiently': 8404, 'alll': 389, 'veryy': 12398, 'encompass': 3733, 'ocd': 7991, 'arsenal': 674, 'docile': 3308, 'westerner': 12660, 'baba': 872, 'emote': 3700, 'storytelle': 11011, 'manufacturing': 7033, 'erm': 3848, 'schmidt': 10049, 'unconcern': 12053, 'brabham': 1385, 'massacre': 7097, 'necessar': 7708, 'vicente': 12413, 'bough': 1361, 'eurovision': 3902, 'crudely': 2609, 'cutesy': 2676, 'sachet': 9919, 'tamar': 11379, 'stunningly': 11094, 'melee': 7196, 'dps': 3394, 'smooch': 10563, 'wondrous': 12832}\n"
     ]
    }
   ],
   "source": [
    "v = TfidfVectorizer()\n",
    "\n",
    "X_train_cv = v.fit_transform(X_train)\n",
    "X_test_cv = v.transform(X_test)\n",
    "\n",
    "print(v.vocabulary_)"
   ]
  },
  {
   "cell_type": "code",
   "execution_count": 20,
   "id": "c56d6694",
   "metadata": {
    "execution": {
     "iopub.execute_input": "2024-03-07T11:47:11.522508Z",
     "iopub.status.busy": "2024-03-07T11:47:11.522171Z",
     "iopub.status.idle": "2024-03-07T11:47:33.397829Z",
     "shell.execute_reply": "2024-03-07T11:47:33.396913Z"
    },
    "id": "WScG0R8ZkOXX",
    "outputId": "c481d10e-a13b-4e95-d77a-e0c8047aa494",
    "papermill": {
     "duration": 21.890147,
     "end_time": "2024-03-07T11:47:33.399985",
     "exception": false,
     "start_time": "2024-03-07T11:47:11.509838",
     "status": "completed"
    },
    "tags": []
   },
   "outputs": [
    {
     "data": {
      "text/html": [
       "<style>#sk-container-id-1 {color: black;background-color: white;}#sk-container-id-1 pre{padding: 0;}#sk-container-id-1 div.sk-toggleable {background-color: white;}#sk-container-id-1 label.sk-toggleable__label {cursor: pointer;display: block;width: 100%;margin-bottom: 0;padding: 0.3em;box-sizing: border-box;text-align: center;}#sk-container-id-1 label.sk-toggleable__label-arrow:before {content: \"▸\";float: left;margin-right: 0.25em;color: #696969;}#sk-container-id-1 label.sk-toggleable__label-arrow:hover:before {color: black;}#sk-container-id-1 div.sk-estimator:hover label.sk-toggleable__label-arrow:before {color: black;}#sk-container-id-1 div.sk-toggleable__content {max-height: 0;max-width: 0;overflow: hidden;text-align: left;background-color: #f0f8ff;}#sk-container-id-1 div.sk-toggleable__content pre {margin: 0.2em;color: black;border-radius: 0.25em;background-color: #f0f8ff;}#sk-container-id-1 input.sk-toggleable__control:checked~div.sk-toggleable__content {max-height: 200px;max-width: 100%;overflow: auto;}#sk-container-id-1 input.sk-toggleable__control:checked~label.sk-toggleable__label-arrow:before {content: \"▾\";}#sk-container-id-1 div.sk-estimator input.sk-toggleable__control:checked~label.sk-toggleable__label {background-color: #d4ebff;}#sk-container-id-1 div.sk-label input.sk-toggleable__control:checked~label.sk-toggleable__label {background-color: #d4ebff;}#sk-container-id-1 input.sk-hidden--visually {border: 0;clip: rect(1px 1px 1px 1px);clip: rect(1px, 1px, 1px, 1px);height: 1px;margin: -1px;overflow: hidden;padding: 0;position: absolute;width: 1px;}#sk-container-id-1 div.sk-estimator {font-family: monospace;background-color: #f0f8ff;border: 1px dotted black;border-radius: 0.25em;box-sizing: border-box;margin-bottom: 0.5em;}#sk-container-id-1 div.sk-estimator:hover {background-color: #d4ebff;}#sk-container-id-1 div.sk-parallel-item::after {content: \"\";width: 100%;border-bottom: 1px solid gray;flex-grow: 1;}#sk-container-id-1 div.sk-label:hover label.sk-toggleable__label {background-color: #d4ebff;}#sk-container-id-1 div.sk-serial::before {content: \"\";position: absolute;border-left: 1px solid gray;box-sizing: border-box;top: 0;bottom: 0;left: 50%;z-index: 0;}#sk-container-id-1 div.sk-serial {display: flex;flex-direction: column;align-items: center;background-color: white;padding-right: 0.2em;padding-left: 0.2em;position: relative;}#sk-container-id-1 div.sk-item {position: relative;z-index: 1;}#sk-container-id-1 div.sk-parallel {display: flex;align-items: stretch;justify-content: center;background-color: white;position: relative;}#sk-container-id-1 div.sk-item::before, #sk-container-id-1 div.sk-parallel-item::before {content: \"\";position: absolute;border-left: 1px solid gray;box-sizing: border-box;top: 0;bottom: 0;left: 50%;z-index: -1;}#sk-container-id-1 div.sk-parallel-item {display: flex;flex-direction: column;z-index: 1;position: relative;background-color: white;}#sk-container-id-1 div.sk-parallel-item:first-child::after {align-self: flex-end;width: 50%;}#sk-container-id-1 div.sk-parallel-item:last-child::after {align-self: flex-start;width: 50%;}#sk-container-id-1 div.sk-parallel-item:only-child::after {width: 0;}#sk-container-id-1 div.sk-dashed-wrapped {border: 1px dashed gray;margin: 0 0.4em 0.5em 0.4em;box-sizing: border-box;padding-bottom: 0.4em;background-color: white;}#sk-container-id-1 div.sk-label label {font-family: monospace;font-weight: bold;display: inline-block;line-height: 1.2em;}#sk-container-id-1 div.sk-label-container {text-align: center;}#sk-container-id-1 div.sk-container {/* jupyter's `normalize.less` sets `[hidden] { display: none; }` but bootstrap.min.css set `[hidden] { display: none !important; }` so we also need the `!important` here to be able to override the default hidden behavior on the sphinx rendered scikit-learn.org. See: https://github.com/scikit-learn/scikit-learn/issues/21755 */display: inline-block !important;position: relative;}#sk-container-id-1 div.sk-text-repr-fallback {display: none;}</style><div id=\"sk-container-id-1\" class=\"sk-top-container\"><div class=\"sk-text-repr-fallback\"><pre>RandomForestClassifier()</pre><b>In a Jupyter environment, please rerun this cell to show the HTML representation or trust the notebook. <br />On GitHub, the HTML representation is unable to render, please try loading this page with nbviewer.org.</b></div><div class=\"sk-container\" hidden><div class=\"sk-item\"><div class=\"sk-estimator sk-toggleable\"><input class=\"sk-toggleable__control sk-hidden--visually\" id=\"sk-estimator-id-1\" type=\"checkbox\" checked><label for=\"sk-estimator-id-1\" class=\"sk-toggleable__label sk-toggleable__label-arrow\">RandomForestClassifier</label><div class=\"sk-toggleable__content\"><pre>RandomForestClassifier()</pre></div></div></div></div></div>"
      ],
      "text/plain": [
       "RandomForestClassifier()"
      ]
     },
     "execution_count": 20,
     "metadata": {},
     "output_type": "execute_result"
    }
   ],
   "source": [
    "RFC_model = RandomForestClassifier()\n",
    "\n",
    "RFC_model.fit(X_train_cv, y_train)"
   ]
  },
  {
   "cell_type": "code",
   "execution_count": 21,
   "id": "dda7b556",
   "metadata": {
    "execution": {
     "iopub.execute_input": "2024-03-07T11:47:33.424984Z",
     "iopub.status.busy": "2024-03-07T11:47:33.424231Z",
     "iopub.status.idle": "2024-03-07T11:47:33.863736Z",
     "shell.execute_reply": "2024-03-07T11:47:33.862902Z"
    },
    "id": "kHCfuwk2kXYu",
    "papermill": {
     "duration": 0.454231,
     "end_time": "2024-03-07T11:47:33.865978",
     "exception": false,
     "start_time": "2024-03-07T11:47:33.411747",
     "status": "completed"
    },
    "tags": []
   },
   "outputs": [],
   "source": [
    "y_pred = RFC_model.predict(X_test_cv)"
   ]
  },
  {
   "cell_type": "code",
   "execution_count": 22,
   "id": "5cfc5bc2",
   "metadata": {
    "execution": {
     "iopub.execute_input": "2024-03-07T11:47:33.890514Z",
     "iopub.status.busy": "2024-03-07T11:47:33.890230Z",
     "iopub.status.idle": "2024-03-07T11:47:33.896940Z",
     "shell.execute_reply": "2024-03-07T11:47:33.895896Z"
    },
    "id": "kMG3F59skaHW",
    "outputId": "168a2428-85c3-48bb-fc72-3fd28f3f1ff6",
    "papermill": {
     "duration": 0.021062,
     "end_time": "2024-03-07T11:47:33.898855",
     "exception": false,
     "start_time": "2024-03-07T11:47:33.877793",
     "status": "completed"
    },
    "tags": []
   },
   "outputs": [
    {
     "name": "stdout",
     "output_type": "stream",
     "text": [
      "0.8570363466915191\n"
     ]
    }
   ],
   "source": [
    "print(accuracy_score(y_test, y_pred))"
   ]
  },
  {
   "cell_type": "code",
   "execution_count": 23,
   "id": "8dddd1c3",
   "metadata": {
    "execution": {
     "iopub.execute_input": "2024-03-07T11:47:33.923064Z",
     "iopub.status.busy": "2024-03-07T11:47:33.922808Z",
     "iopub.status.idle": "2024-03-07T11:47:33.943003Z",
     "shell.execute_reply": "2024-03-07T11:47:33.942118Z"
    },
    "id": "x1BZtxj5kchv",
    "outputId": "e988a63a-8c3b-4a07-b55e-5e42522e2e0d",
    "papermill": {
     "duration": 0.034566,
     "end_time": "2024-03-07T11:47:33.945150",
     "exception": false,
     "start_time": "2024-03-07T11:47:33.910584",
     "status": "completed"
    },
    "tags": []
   },
   "outputs": [
    {
     "name": "stdout",
     "output_type": "stream",
     "text": [
      "              precision    recall  f1-score   support\n",
      "\n",
      "           0       0.84      0.84      0.84       748\n",
      "           1       0.84      0.86      0.85       663\n",
      "           2       0.85      0.92      0.88      1758\n",
      "           3       0.80      0.66      0.72       410\n",
      "           4       0.91      0.87      0.89      1566\n",
      "           5       0.78      0.70      0.74       220\n",
      "\n",
      "    accuracy                           0.86      5365\n",
      "   macro avg       0.84      0.81      0.82      5365\n",
      "weighted avg       0.86      0.86      0.86      5365\n",
      "\n"
     ]
    }
   ],
   "source": [
    "print(classification_report(y_test, y_pred))"
   ]
  },
  {
   "cell_type": "code",
   "execution_count": 24,
   "id": "14caabde",
   "metadata": {
    "execution": {
     "iopub.execute_input": "2024-03-07T11:47:33.969713Z",
     "iopub.status.busy": "2024-03-07T11:47:33.969208Z",
     "iopub.status.idle": "2024-03-07T11:47:56.694585Z",
     "shell.execute_reply": "2024-03-07T11:47:56.693605Z"
    },
    "id": "RWLbXedxkeDR",
    "outputId": "00efabc8-a7db-4751-ead8-7aaa6db77bb8",
    "papermill": {
     "duration": 22.739943,
     "end_time": "2024-03-07T11:47:56.696768",
     "exception": false,
     "start_time": "2024-03-07T11:47:33.956825",
     "status": "completed"
    },
    "tags": []
   },
   "outputs": [
    {
     "data": {
      "text/html": [
       "<style>#sk-container-id-2 {color: black;background-color: white;}#sk-container-id-2 pre{padding: 0;}#sk-container-id-2 div.sk-toggleable {background-color: white;}#sk-container-id-2 label.sk-toggleable__label {cursor: pointer;display: block;width: 100%;margin-bottom: 0;padding: 0.3em;box-sizing: border-box;text-align: center;}#sk-container-id-2 label.sk-toggleable__label-arrow:before {content: \"▸\";float: left;margin-right: 0.25em;color: #696969;}#sk-container-id-2 label.sk-toggleable__label-arrow:hover:before {color: black;}#sk-container-id-2 div.sk-estimator:hover label.sk-toggleable__label-arrow:before {color: black;}#sk-container-id-2 div.sk-toggleable__content {max-height: 0;max-width: 0;overflow: hidden;text-align: left;background-color: #f0f8ff;}#sk-container-id-2 div.sk-toggleable__content pre {margin: 0.2em;color: black;border-radius: 0.25em;background-color: #f0f8ff;}#sk-container-id-2 input.sk-toggleable__control:checked~div.sk-toggleable__content {max-height: 200px;max-width: 100%;overflow: auto;}#sk-container-id-2 input.sk-toggleable__control:checked~label.sk-toggleable__label-arrow:before {content: \"▾\";}#sk-container-id-2 div.sk-estimator input.sk-toggleable__control:checked~label.sk-toggleable__label {background-color: #d4ebff;}#sk-container-id-2 div.sk-label input.sk-toggleable__control:checked~label.sk-toggleable__label {background-color: #d4ebff;}#sk-container-id-2 input.sk-hidden--visually {border: 0;clip: rect(1px 1px 1px 1px);clip: rect(1px, 1px, 1px, 1px);height: 1px;margin: -1px;overflow: hidden;padding: 0;position: absolute;width: 1px;}#sk-container-id-2 div.sk-estimator {font-family: monospace;background-color: #f0f8ff;border: 1px dotted black;border-radius: 0.25em;box-sizing: border-box;margin-bottom: 0.5em;}#sk-container-id-2 div.sk-estimator:hover {background-color: #d4ebff;}#sk-container-id-2 div.sk-parallel-item::after {content: \"\";width: 100%;border-bottom: 1px solid gray;flex-grow: 1;}#sk-container-id-2 div.sk-label:hover label.sk-toggleable__label {background-color: #d4ebff;}#sk-container-id-2 div.sk-serial::before {content: \"\";position: absolute;border-left: 1px solid gray;box-sizing: border-box;top: 0;bottom: 0;left: 50%;z-index: 0;}#sk-container-id-2 div.sk-serial {display: flex;flex-direction: column;align-items: center;background-color: white;padding-right: 0.2em;padding-left: 0.2em;position: relative;}#sk-container-id-2 div.sk-item {position: relative;z-index: 1;}#sk-container-id-2 div.sk-parallel {display: flex;align-items: stretch;justify-content: center;background-color: white;position: relative;}#sk-container-id-2 div.sk-item::before, #sk-container-id-2 div.sk-parallel-item::before {content: \"\";position: absolute;border-left: 1px solid gray;box-sizing: border-box;top: 0;bottom: 0;left: 50%;z-index: -1;}#sk-container-id-2 div.sk-parallel-item {display: flex;flex-direction: column;z-index: 1;position: relative;background-color: white;}#sk-container-id-2 div.sk-parallel-item:first-child::after {align-self: flex-end;width: 50%;}#sk-container-id-2 div.sk-parallel-item:last-child::after {align-self: flex-start;width: 50%;}#sk-container-id-2 div.sk-parallel-item:only-child::after {width: 0;}#sk-container-id-2 div.sk-dashed-wrapped {border: 1px dashed gray;margin: 0 0.4em 0.5em 0.4em;box-sizing: border-box;padding-bottom: 0.4em;background-color: white;}#sk-container-id-2 div.sk-label label {font-family: monospace;font-weight: bold;display: inline-block;line-height: 1.2em;}#sk-container-id-2 div.sk-label-container {text-align: center;}#sk-container-id-2 div.sk-container {/* jupyter's `normalize.less` sets `[hidden] { display: none; }` but bootstrap.min.css set `[hidden] { display: none !important; }` so we also need the `!important` here to be able to override the default hidden behavior on the sphinx rendered scikit-learn.org. See: https://github.com/scikit-learn/scikit-learn/issues/21755 */display: inline-block !important;position: relative;}#sk-container-id-2 div.sk-text-repr-fallback {display: none;}</style><div id=\"sk-container-id-2\" class=\"sk-top-container\"><div class=\"sk-text-repr-fallback\"><pre>SVC(kernel=&#x27;linear&#x27;, random_state=0)</pre><b>In a Jupyter environment, please rerun this cell to show the HTML representation or trust the notebook. <br />On GitHub, the HTML representation is unable to render, please try loading this page with nbviewer.org.</b></div><div class=\"sk-container\" hidden><div class=\"sk-item\"><div class=\"sk-estimator sk-toggleable\"><input class=\"sk-toggleable__control sk-hidden--visually\" id=\"sk-estimator-id-2\" type=\"checkbox\" checked><label for=\"sk-estimator-id-2\" class=\"sk-toggleable__label sk-toggleable__label-arrow\">SVC</label><div class=\"sk-toggleable__content\"><pre>SVC(kernel=&#x27;linear&#x27;, random_state=0)</pre></div></div></div></div></div>"
      ],
      "text/plain": [
       "SVC(kernel='linear', random_state=0)"
      ]
     },
     "execution_count": 24,
     "metadata": {},
     "output_type": "execute_result"
    }
   ],
   "source": [
    "from sklearn.svm import SVC\n",
    "model_svm = SVC(kernel = 'linear', random_state = 0)\n",
    "model_svm.fit(X_train_cv, y_train)"
   ]
  },
  {
   "cell_type": "code",
   "execution_count": 25,
   "id": "79f4d845",
   "metadata": {
    "execution": {
     "iopub.execute_input": "2024-03-07T11:47:56.722515Z",
     "iopub.status.busy": "2024-03-07T11:47:56.722232Z",
     "iopub.status.idle": "2024-03-07T11:48:00.839071Z",
     "shell.execute_reply": "2024-03-07T11:48:00.838201Z"
    },
    "id": "tmxsonY_pSym",
    "papermill": {
     "duration": 4.132104,
     "end_time": "2024-03-07T11:48:00.841354",
     "exception": false,
     "start_time": "2024-03-07T11:47:56.709250",
     "status": "completed"
    },
    "tags": []
   },
   "outputs": [],
   "source": [
    "y_pred=model_svm.predict(X_test_cv)"
   ]
  },
  {
   "cell_type": "code",
   "execution_count": 26,
   "id": "3ef06363",
   "metadata": {
    "execution": {
     "iopub.execute_input": "2024-03-07T11:48:00.867225Z",
     "iopub.status.busy": "2024-03-07T11:48:00.866589Z",
     "iopub.status.idle": "2024-03-07T11:48:00.873161Z",
     "shell.execute_reply": "2024-03-07T11:48:00.872156Z"
    },
    "id": "Fo4T2DxlpZqp",
    "outputId": "b5038061-7718-460c-c3ca-48dae5f7598b",
    "papermill": {
     "duration": 0.021518,
     "end_time": "2024-03-07T11:48:00.875075",
     "exception": false,
     "start_time": "2024-03-07T11:48:00.853557",
     "status": "completed"
    },
    "tags": []
   },
   "outputs": [
    {
     "name": "stdout",
     "output_type": "stream",
     "text": [
      "0.8609506057781919\n"
     ]
    }
   ],
   "source": [
    "print(accuracy_score(y_test, y_pred))"
   ]
  },
  {
   "cell_type": "code",
   "execution_count": 27,
   "id": "16ee99fd",
   "metadata": {
    "execution": {
     "iopub.execute_input": "2024-03-07T11:48:00.900511Z",
     "iopub.status.busy": "2024-03-07T11:48:00.900261Z",
     "iopub.status.idle": "2024-03-07T11:48:00.920324Z",
     "shell.execute_reply": "2024-03-07T11:48:00.919208Z"
    },
    "id": "kvvM7OAopczQ",
    "outputId": "2d02899c-e9a1-499e-8531-c2726f06cd5d",
    "papermill": {
     "duration": 0.034874,
     "end_time": "2024-03-07T11:48:00.922245",
     "exception": false,
     "start_time": "2024-03-07T11:48:00.887371",
     "status": "completed"
    },
    "tags": []
   },
   "outputs": [
    {
     "name": "stdout",
     "output_type": "stream",
     "text": [
      "              precision    recall  f1-score   support\n",
      "\n",
      "           0       0.86      0.84      0.85       748\n",
      "           1       0.82      0.83      0.83       663\n",
      "           2       0.87      0.91      0.89      1758\n",
      "           3       0.79      0.68      0.73       410\n",
      "           4       0.90      0.89      0.89      1566\n",
      "           5       0.81      0.70      0.75       220\n",
      "\n",
      "    accuracy                           0.86      5365\n",
      "   macro avg       0.84      0.81      0.82      5365\n",
      "weighted avg       0.86      0.86      0.86      5365\n",
      "\n"
     ]
    }
   ],
   "source": [
    "print(classification_report(y_test, y_pred))"
   ]
  },
  {
   "cell_type": "code",
   "execution_count": null,
   "id": "69a6b4f6",
   "metadata": {
    "id": "BdmdsJrDpkQg",
    "papermill": {
     "duration": 0.011896,
     "end_time": "2024-03-07T11:48:00.946268",
     "exception": false,
     "start_time": "2024-03-07T11:48:00.934372",
     "status": "completed"
    },
    "tags": []
   },
   "outputs": [],
   "source": []
  }
 ],
 "metadata": {
  "colab": {
   "provenance": []
  },
  "kaggle": {
   "accelerator": "gpu",
   "dataSources": [
    {
     "datasetId": 981611,
     "sourceId": 1658104,
     "sourceType": "datasetVersion"
    }
   ],
   "dockerImageVersionId": 30665,
   "isGpuEnabled": true,
   "isInternetEnabled": true,
   "language": "python",
   "sourceType": "notebook"
  },
  "kernelspec": {
   "display_name": "Python 3",
   "language": "python",
   "name": "python3"
  },
  "language_info": {
   "codemirror_mode": {
    "name": "ipython",
    "version": 3
   },
   "file_extension": ".py",
   "mimetype": "text/x-python",
   "name": "python",
   "nbconvert_exporter": "python",
   "pygments_lexer": "ipython3",
   "version": "3.10.13"
  },
  "papermill": {
   "default_parameters": {},
   "duration": 223.090072,
   "end_time": "2024-03-07T11:48:02.681041",
   "environment_variables": {},
   "exception": null,
   "input_path": "__notebook__.ipynb",
   "output_path": "__notebook__.ipynb",
   "parameters": {},
   "start_time": "2024-03-07T11:44:19.590969",
   "version": "2.5.0"
  }
 },
 "nbformat": 4,
 "nbformat_minor": 5
}
